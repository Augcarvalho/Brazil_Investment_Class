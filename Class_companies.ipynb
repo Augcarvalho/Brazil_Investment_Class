{
 "cells": [
  {
   "cell_type": "code",
   "execution_count": 43,
   "id": "220db5dc",
   "metadata": {},
   "outputs": [],
   "source": [
    "#imports\n",
    "import pandas as pd\n",
    "import numpy as np\n",
    "import matplotlib.pyplot as plt\n",
    "import seaborn as sns\n",
    "import plotly.express as px\n",
    "import plotly.graph_objects as go\n",
    "import plotly.io as pio\n",
    "from IPython.display import display\n",
    "from sklearn.preprocessing import MinMaxScaler\n",
    "from plotly.subplots import make_subplots"
   ]
  },
  {
   "cell_type": "code",
   "execution_count": 44,
   "id": "af71b24b",
   "metadata": {},
   "outputs": [],
   "source": [
    "\n",
    "pio.templates.default = \"plotly_white\"\n",
    "\n",
    "#cores/classificações\n",
    "ordem_classes = ['Excelente', 'Boa', 'Ok', 'Ruim', 'Péssima']\n",
    "paleta_cores = {\n",
    "    'Excelente': '#7b68ee',\n",
    "    'Boa': '#65c99f', \n",
    "    'Ok': '#3f3f3f',\n",
    "    'Ruim': '#01abdf',\n",
    "    'Péssima': \"#a0a0a0\"\n",
    "}"
   ]
  },
  {
   "cell_type": "code",
   "execution_count": 45,
   "id": "1d9121c1",
   "metadata": {},
   "outputs": [
    {
     "name": "stdout",
     "output_type": "stream",
     "text": [
      "Iniciando carregamento e limpeza dos dados...\n",
      "Limpeza concluída: 0 linhas removidas\n",
      "Shape final: (408, 197)\n"
     ]
    }
   ],
   "source": [
    "\n",
    "#carregamento e limpeza dos dados\n",
    "print(\"Iniciando carregamento e limpeza dos dados...\")\n",
    "dataset = pd.read_csv('Dados 1.csv', encoding='utf-8-sig')\n",
    "dataset.replace([\"NA\", \"NM\"], np.nan, inplace=True)\n",
    "\n",
    "cols_to_exclude = ['ENTITY_NAME', 'TICKER', 'INDUSTRY', 'SECTOR', 'PRIMARY_INDUSTRY']\n",
    "numeric_cols = dataset.columns.drop(cols_to_exclude)\n",
    "dataset[numeric_cols] = dataset[numeric_cols].apply(\n",
    "    lambda x: pd.to_numeric(x.astype(str).str.replace(',', ''), errors='coerce')\n",
    ")\n",
    "colunas_retorno = ['ROE_LTM', 'ROA_LTM', 'ROC_LTM']\n",
    "\n",
    "#preenchimento por setor\n",
    "colunas_chave = [\n",
    "    'ROE_LTM', 'DEBT_TO_EBITDA_LTM', 'EV/EBITDA_LTM', 'NET_MARGIN_LTM', \n",
    "    'PE_LTM', 'PBV_LTM', 'INTEREST_COVERAGE_LTM', 'LFCF_MARGIN_LTM',\n",
    "    'ROA_LTM', 'CURRENT_RATIO_LTM', 'ASSET_TURNOVER_LTM', 'MARKETCAP'\n",
    "]\n",
    "colunas_existentes = [col for col in colunas_chave if col in dataset.columns]\n",
    "dataset[colunas_existentes] = dataset.groupby('SECTOR')[colunas_existentes].transform(\n",
    "    lambda x: x.fillna(x.median())\n",
    ")\n",
    "\n",
    "original_rows = len(dataset)\n",
    "dataset.dropna(subset=colunas_existentes, inplace=True)\n",
    "print(f\"Limpeza concluída: {original_rows - len(dataset)} linhas removidas\")\n",
    "print(f\"Shape final: {dataset.shape}\")"
   ]
  },
  {
   "cell_type": "code",
   "execution_count": 46,
   "id": "a77c5d30",
   "metadata": {},
   "outputs": [
    {
     "name": "stdout",
     "output_type": "stream",
     "text": [
      "\n",
      "Calculando métricas de crescimento...\n"
     ]
    },
    {
     "name": "stderr",
     "output_type": "stream",
     "text": [
      "C:\\Users\\Augusto\\AppData\\Local\\Temp\\ipykernel_23312\\1390327926.py:15: FutureWarning:\n",
      "\n",
      "A value is trying to be set on a copy of a DataFrame or Series through chained assignment using an inplace method.\n",
      "The behavior will change in pandas 3.0. This inplace method will never work because the intermediate object on which we are setting values always behaves as a copy.\n",
      "\n",
      "For example, when doing 'df[col].method(value, inplace=True)', try using 'df.method({col: value}, inplace=True)' or df[col] = df[col].method(value) instead, to perform the operation inplace on the original object.\n",
      "\n",
      "\n",
      "\n",
      "C:\\Users\\Augusto\\AppData\\Local\\Temp\\ipykernel_23312\\1390327926.py:18: FutureWarning:\n",
      "\n",
      "A value is trying to be set on a copy of a DataFrame or Series through chained assignment using an inplace method.\n",
      "The behavior will change in pandas 3.0. This inplace method will never work because the intermediate object on which we are setting values always behaves as a copy.\n",
      "\n",
      "For example, when doing 'df[col].method(value, inplace=True)', try using 'df.method({col: value}, inplace=True)' or df[col] = df[col].method(value) instead, to perform the operation inplace on the original object.\n",
      "\n",
      "\n",
      "\n"
     ]
    }
   ],
   "source": [
    "# ============= SEÇÃO 3: CÁLCULO DE MÉTRICAS =============\n",
    "def calculate_cagr(start, end, periods=3):\n",
    "    if pd.isna(start) or pd.isna(end) or start <= 0 or end <= 0:\n",
    "        return np.nan\n",
    "    return (end / start) ** (1 / periods) - 1\n",
    "\n",
    "print(\"\\nCalculando métricas de crescimento...\")\n",
    "dataset['Revenue_CAGR'] = dataset.apply(lambda row: calculate_cagr(row['TOTAL_REV_FY2022'], row['TOTAL_REV_LTM']), axis=1)\n",
    "dataset['EBITDA_CAGR'] = dataset.apply(lambda row: calculate_cagr(row['EBITDA_FY2022'], row['EBITDA_LTM']), axis=1)\n",
    "dataset['Net_Income_CAGR'] = dataset.apply(lambda row: calculate_cagr(row['NET_INCOME_FY2022'], row['NET_INCOME_LTM']), axis=1)\n",
    "\n",
    "dataset[['Revenue_CAGR', 'EBITDA_CAGR', 'Net_Income_CAGR']] = dataset[['Revenue_CAGR', 'EBITDA_CAGR', 'Net_Income_CAGR']].fillna(0)\n",
    "\n",
    "dataset['INTEREST_COVERAGE_LTM'] = dataset['EBIT_LTM'] / dataset['INTEREST_EXPENSE_LTM'].replace(0, np.nan)\n",
    "dataset['INTEREST_COVERAGE_LTM'].fillna(0, inplace=True)\n",
    "\n",
    "dataset['ASSET_TURNOVER_LTM'] = dataset['TOTAL_REV_LTM'] / dataset['TOTAL_ASSETS_LTM'].replace(0, np.nan)\n",
    "dataset['ASSET_TURNOVER_LTM'].fillna(0, inplace=True)"
   ]
  },
  {
   "cell_type": "code",
   "execution_count": 47,
   "id": "5838ba13",
   "metadata": {},
   "outputs": [
    {
     "name": "stdout",
     "output_type": "stream",
     "text": [
      "Aplicando classificações...\n",
      "Calculando classificação de Dividendos...\n",
      "Classificações concluídas!\n",
      "Distribuição Múltiplos: {'Ok': 184, 'Ruim': 65, 'Péssima': 56, 'Boa': 55, 'Excelente': 48}\n",
      "Distribuição Dividendos: {'Péssima': 165, 'Boa': 88, 'Ok': 78, 'Excelente': 45, 'Ruim': 32}\n"
     ]
    }
   ],
   "source": [
    "#percentis por setor e classificação\n",
    "sector_thresholds = {}\n",
    "metrics_to_percentile = {\n",
    "    'EBITDA_MARGIN_LTM': False, 'NET_MARGIN_LTM': False, 'EV/EBITDA_LTM': True,\n",
    "    'PE_LTM': True, 'PBV_LTM': True, 'DEBT_TO_EBITDA_LTM': True,\n",
    "    'INTEREST_COVERAGE_LTM': False, 'LFCF_MARGIN_LTM': False, 'ROE_LTM': False,\n",
    "    'ROA_LTM': False, 'CURRENT_RATIO_LTM': False, 'ASSET_TURNOVER_LTM': False\n",
    "}\n",
    "grouped_by_sector = dataset.groupby('SECTOR')\n",
    "for metric in metrics_to_percentile.keys():\n",
    "    quantiles = grouped_by_sector[metric].quantile([0.2, 0.4, 0.6, 0.8]).unstack()\n",
    "    sector_thresholds[metric] = quantiles.rename(columns={0.2: 'p20', 0.4: 'p40', 0.6: 'p60', 0.8: 'p80'})\n",
    "\n",
    "def assign_points(class_val):\n",
    "    mapping = {'Excelente': 2, 'Boa': 1, 'Ok': 0, 'Ruim': -1, 'Péssima': -2}\n",
    "    return mapping.get(class_val, 0)\n",
    "\n",
    "def classify_metric(value, sector, metric_name, invert, thresholds):\n",
    "    if pd.isna(value):\n",
    "        return 'Ok'\n",
    "    \n",
    "    th_p20, th_p40, th_p60, th_p80 = thresholds\n",
    "    try:\n",
    "        sector_th = sector_thresholds[metric_name].loc[sector]\n",
    "        th_p20, th_p40, th_p60, th_p80 = sector_th['p20'], sector_th['p40'], sector_th['p60'], sector_th['p80']\n",
    "    except (KeyError, ValueError):\n",
    "        pass\n",
    "    \n",
    "    if invert:\n",
    "        if value <= th_p20: return 'Excelente'\n",
    "        elif value <= th_p40: return 'Boa'\n",
    "        elif value <= th_p60: return 'Ok'\n",
    "        elif value <= th_p80: return 'Ruim'\n",
    "        else: return 'Péssima'\n",
    "    else:\n",
    "        if value >= th_p80: return 'Excelente'\n",
    "        elif value >= th_p60: return 'Boa'\n",
    "        elif value >= th_p40: return 'Ok'\n",
    "        elif value >= th_p20: return 'Ruim'\n",
    "        else: return 'Péssima'\n",
    "\n",
    "def assign_class_cagr(row):\n",
    "    rev, ebit, net = row['Revenue_CAGR'], row['EBITDA_CAGR'], row['Net_Income_CAGR']\n",
    "    if [rev > 0.15, ebit > 0.15, net > 0.15].count(True) >= 2: return 'Excelente'\n",
    "    elif [rev > 0.05, ebit > 0.05, net > 0.05].count(True) >= 2: return 'Boa'\n",
    "    elif [rev >= 0, ebit >= 0, net >= 0].count(True) >= 2: return 'Ok'\n",
    "    elif [rev < 0, ebit < 0, net < 0].count(True) >= 2: return 'Ruim'\n",
    "    else: return 'Péssima'\n",
    "\n",
    "def assign_class_from_metrics(row, metric_configs, score_thresholds):\n",
    "    scores = [assign_points(classify_metric(row[m], row['SECTOR'], m, inv, th)) \n",
    "              for m, inv, th in metric_configs]\n",
    "    total = sum(scores)\n",
    "    \n",
    "    if total >= score_thresholds[0]: return 'Excelente'\n",
    "    elif total >= score_thresholds[1]: return 'Boa'\n",
    "    elif total >= score_thresholds[2]: return 'Ok'\n",
    "    elif total >= score_thresholds[3]: return 'Ruim'\n",
    "    else: return 'Péssima'\n",
    "\n",
    "# ============= NOVA FUNÇÃO: MÚLTIPLOS POR MEDIANA SETORIAL =============\n",
    "def classify_multiplos_setorial(row):\n",
    "    sector = row['SECTOR']\n",
    "    score = 0\n",
    "    \n",
    "    multiplos = ['EV/EBITDA_LTM', 'PE_LTM', 'PBV_LTM']\n",
    "    \n",
    "    for mult in multiplos:\n",
    "        value = row[mult]\n",
    "        if pd.isna(value):\n",
    "            continue\n",
    "        \n",
    "        try:\n",
    "            sector_median = dataset[dataset['SECTOR'] == sector][mult].median()\n",
    "            \n",
    "            if pd.isna(sector_median):\n",
    "                continue\n",
    "                \n",
    "            # Quanto menor o múltiplo em relação à mediana, melhor\n",
    "            ratio = value / sector_median\n",
    "            \n",
    "            if ratio <= 0.7:  # 30% abaixo da mediana\n",
    "                score += 2\n",
    "            elif ratio <= 0.85:  # 15% abaixo da mediana\n",
    "                score += 1\n",
    "            elif ratio <= 1.15:  # Próximo da mediana (±15%)\n",
    "                score += 0\n",
    "            elif ratio <= 1.30:  # 30% acima da mediana\n",
    "                score -= 1\n",
    "            else:  # Muito acima da mediana\n",
    "                score -= 2\n",
    "        except:\n",
    "            continue\n",
    "    \n",
    "    # Classificação baseada no score total\n",
    "    if score >= 4: return 'Excelente'\n",
    "    elif score >= 2: return 'Boa'\n",
    "    elif score >= -1: return 'Ok'\n",
    "    elif score >= -3: return 'Ruim'\n",
    "    else: return 'Péssima'\n",
    "\n",
    "# ============= NOVA FUNÇÃO: DIVIDENDOS COM HISTÓRICO =============\n",
    "def assign_class_dividends_historico(row):\n",
    "    # Coletar histórico de dividendos e payout\n",
    "    div_years = []\n",
    "    payout_years = []\n",
    "    \n",
    "    for year in ['LTM', 'FY2024', 'FY2023', 'FY2022', 'FY2021']:\n",
    "        div_col = f'COMMON_DIV_DECLARED_{year}'\n",
    "        payout_col = f'PAYOUT_RATIO_{year}'\n",
    "        \n",
    "        if div_col in row.index and not pd.isna(row[div_col]) and row[div_col] > 0:\n",
    "            div_years.append(row[div_col])\n",
    "        \n",
    "        if payout_col in row.index and not pd.isna(row[payout_col]):\n",
    "            payout_years.append(row[payout_col])\n",
    "    \n",
    "    # Se não tem histórico de dividendos\n",
    "    if len(div_years) == 0:\n",
    "        return 'Péssima'\n",
    "    \n",
    "    # Calcular dividend yield médio histórico\n",
    "    price = row['PRICE_CLOSE_2025']\n",
    "    if pd.isna(price) or price <= 0:\n",
    "        return 'Péssima'\n",
    "    \n",
    "    avg_div = np.mean(div_years)\n",
    "    avg_yield = avg_div / price\n",
    "    \n",
    "    # Calcular payout médio histórico\n",
    "    avg_payout = np.mean(payout_years) if len(payout_years) > 0 else None\n",
    "    \n",
    "    # Verificar consistência (pagou dividendos em pelo menos 3 dos últimos 5 anos)\n",
    "    consistency = len(div_years)\n",
    "    \n",
    "    # Verificar crescimento de dividendos\n",
    "    growth = 0\n",
    "    if len(div_years) >= 3:\n",
    "        recent = np.mean(div_years[:2])  # Últimos 2 anos\n",
    "        older = np.mean(div_years[-2:])   # Anos mais antigos\n",
    "        if older > 0:\n",
    "            growth = (recent - older) / older\n",
    "    \n",
    "    # Pontuação composta\n",
    "    score = 0\n",
    "    \n",
    "    # Yield médio\n",
    "    if avg_yield >= 0.05:\n",
    "        score += 2\n",
    "    elif avg_yield >= 0.03:\n",
    "        score += 1\n",
    "    elif avg_yield >= 0.015:\n",
    "        score += 0\n",
    "    else:\n",
    "        score -= 1\n",
    "    \n",
    "    # Consistência\n",
    "    if consistency >= 4:\n",
    "        score += 2\n",
    "    elif consistency >= 3:\n",
    "        score += 1\n",
    "    elif consistency >= 2:\n",
    "        score += 0\n",
    "    else:\n",
    "        score -= 1\n",
    "    \n",
    "    # Payout sustentável\n",
    "    if avg_payout is not None:\n",
    "        if avg_payout <= 60:\n",
    "            score += 1\n",
    "        elif avg_payout <= 80:\n",
    "            score += 0\n",
    "        else:\n",
    "            score -= 1\n",
    "    \n",
    "    # Crescimento\n",
    "    if growth > 0.10:\n",
    "        score += 1\n",
    "    elif growth > 0:\n",
    "        score += 0\n",
    "    else:\n",
    "        score -= 1\n",
    "    \n",
    "    # Classificação final\n",
    "    if score >= 5: return 'Excelente'\n",
    "    elif score >= 3: return 'Boa'\n",
    "    elif score >= 0: return 'Ok'\n",
    "    elif score >= -2: return 'Ruim'\n",
    "    else: return 'Péssima'\n",
    "\n",
    "#aplicando classificações\n",
    "print(\"Aplicando classificações...\")\n",
    "dataset['class_CAGR'] = dataset.apply(assign_class_cagr, axis=1)\n",
    "\n",
    "margins_metrics = [('EBITDA_MARGIN_LTM', False, [0.05, 0.10, 0.15, 0.25]),\n",
    "                   ('NET_MARGIN_LTM', False, [0.00, 0.05, 0.10, 0.15])]\n",
    "dataset['class_Margins'] = dataset.apply(lambda r: assign_class_from_metrics(r, margins_metrics, [3, 2, 0, -1]), axis=1)\n",
    "\n",
    "# ALTERADO: Múltiplos agora usa mediana setorial\n",
    "dataset['class_Multiplos'] = dataset.apply(classify_multiplos_setorial, axis=1)\n",
    "\n",
    "qualidade_metrics = [('DEBT_TO_EBITDA_LTM', True, [1.5, 2.5, 3.5, 5.0]),\n",
    "                     ('INTEREST_COVERAGE_LTM', False, [1.5, 3.0, 5.0, 8.0]),\n",
    "                     ('LFCF_MARGIN_LTM', False, [0.00, 0.03, 0.07, 0.12])]\n",
    "dataset['class_Qualidade'] = dataset.apply(lambda r: assign_class_from_metrics(r, qualidade_metrics, [4, 2, 0, -2]), axis=1)\n",
    "\n",
    "profitability_metrics = [('ROE_LTM', False, [0.05, 0.10, 0.15, 0.20]),\n",
    "                         ('ROA_LTM', False, [0.01, 0.03, 0.06, 0.10]),\n",
    "                         ('CURRENT_RATIO_LTM', False, [1.0, 1.3, 1.8, 2.5]),\n",
    "                         ('ASSET_TURNOVER_LTM', False, [0.4, 0.6, 0.9, 1.2])]\n",
    "dataset['class_Profitability'] = dataset.apply(lambda r: assign_class_from_metrics(r, profitability_metrics, [5, 2, 0, -3]), axis=1)\n",
    "\n",
    "print(\"Calculando classificação de Dividendos...\")\n",
    "# ALTERADO: Dividendos agora considera histórico completo\n",
    "dataset['class_Dividends'] = dataset.apply(assign_class_dividends_historico, axis=1)\n",
    "\n",
    "# ============= SCORE COMPOSTO COM DIVIDENDOS =============\n",
    "pilares = ['class_CAGR', 'class_Margins', 'class_Multiplos', 'class_Qualidade', \n",
    "           'class_Profitability', 'class_Dividends']\n",
    "for pilar in pilares:\n",
    "    dataset[f'{pilar}_score'] = dataset[pilar].apply(assign_points)\n",
    "\n",
    "# Composite score ponderado\n",
    "dataset['composite_score'] = (\n",
    "    dataset['class_CAGR_score'] * 1.0 +\n",
    "    dataset['class_Margins_score'] * 1.0 +\n",
    "    dataset['class_Multiplos_score'] * 1.0 +\n",
    "    dataset['class_Qualidade_score'] * 1.0 +\n",
    "    dataset['class_Profitability_score'] * 1.0 +\n",
    "    dataset['class_Dividends_score'] * 1.0\n",
    ")\n",
    "\n",
    "def assign_class_composite(score):\n",
    "    if score >= 8: return 'Excelente'\n",
    "    elif score >= 4: return 'Boa'\n",
    "    elif score >= -2: return 'Ok'\n",
    "    elif score >= -7: return 'Ruim'\n",
    "    else: return 'Péssima'\n",
    "\n",
    "dataset['class_Composto'] = dataset['composite_score'].apply(assign_class_composite)\n",
    "\n",
    "print(f\"Classificações concluídas!\")\n",
    "print(f\"Distribuição Múltiplos: {dataset['class_Multiplos'].value_counts().to_dict()}\")\n",
    "print(f\"Distribuição Dividendos: {dataset['class_Dividends'].value_counts().to_dict()}\")"
   ]
  },
  {
   "cell_type": "code",
   "execution_count": 48,
   "id": "3586106c",
   "metadata": {},
   "outputs": [
    {
     "data": {
      "application/vnd.plotly.v1+json": {
       "config": {
        "plotlyServerURL": "https://plot.ly"
       },
       "data": [
        {
         "hovertemplate": "<b>%{x}</b><br>Empresas: %{y}<extra></extra>",
         "marker": {
          "color": [
           "#7b68ee",
           "#65c99f",
           "#3f3f3f",
           "#01abdf",
           "#a0a0a0"
          ]
         },
         "showlegend": false,
         "text": [
          "60",
          "77",
          "205",
          "66",
          "0"
         ],
         "textposition": "outside",
         "type": "bar",
         "x": [
          "Excelente",
          "Boa",
          "Ok",
          "Ruim",
          "Péssima"
         ],
         "xaxis": "x",
         "y": {
          "bdata": "PABNAM0AQgAAAA==",
          "dtype": "i2"
         },
         "yaxis": "y"
        },
        {
         "hovertemplate": "<b>%{x}</b><br>Empresas: %{y}<extra></extra>",
         "marker": {
          "color": [
           "#7b68ee",
           "#65c99f",
           "#3f3f3f",
           "#01abdf",
           "#a0a0a0"
          ]
         },
         "showlegend": false,
         "text": [
          "73",
          "47",
          "125",
          "55",
          "108"
         ],
         "textposition": "outside",
         "type": "bar",
         "x": [
          "Excelente",
          "Boa",
          "Ok",
          "Ruim",
          "Péssima"
         ],
         "xaxis": "x2",
         "y": {
          "bdata": "SS99N2w=",
          "dtype": "i1"
         },
         "yaxis": "y2"
        },
        {
         "hovertemplate": "<b>%{x}</b><br>Empresas: %{y}<extra></extra>",
         "marker": {
          "color": [
           "#7b68ee",
           "#65c99f",
           "#3f3f3f",
           "#01abdf",
           "#a0a0a0"
          ]
         },
         "showlegend": false,
         "text": [
          "48",
          "55",
          "184",
          "65",
          "56"
         ],
         "textposition": "outside",
         "type": "bar",
         "x": [
          "Excelente",
          "Boa",
          "Ok",
          "Ruim",
          "Péssima"
         ],
         "xaxis": "x3",
         "y": {
          "bdata": "MAA3ALgAQQA4AA==",
          "dtype": "i2"
         },
         "yaxis": "y3"
        },
        {
         "hovertemplate": "<b>%{x}</b><br>Empresas: %{y}<extra></extra>",
         "marker": {
          "color": [
           "#7b68ee",
           "#65c99f",
           "#3f3f3f",
           "#01abdf",
           "#a0a0a0"
          ]
         },
         "showlegend": false,
         "text": [
          "117",
          "62",
          "88",
          "65",
          "76"
         ],
         "textposition": "outside",
         "type": "bar",
         "x": [
          "Excelente",
          "Boa",
          "Ok",
          "Ruim",
          "Péssima"
         ],
         "xaxis": "x4",
         "y": {
          "bdata": "dT5YQUw=",
          "dtype": "i1"
         },
         "yaxis": "y4"
        },
        {
         "hovertemplate": "<b>%{x}</b><br>Empresas: %{y}<extra></extra>",
         "marker": {
          "color": [
           "#7b68ee",
           "#65c99f",
           "#3f3f3f",
           "#01abdf",
           "#a0a0a0"
          ]
         },
         "showlegend": false,
         "text": [
          "59",
          "80",
          "85",
          "110",
          "74"
         ],
         "textposition": "outside",
         "type": "bar",
         "x": [
          "Excelente",
          "Boa",
          "Ok",
          "Ruim",
          "Péssima"
         ],
         "xaxis": "x5",
         "y": {
          "bdata": "O1BVbko=",
          "dtype": "i1"
         },
         "yaxis": "y5"
        },
        {
         "hovertemplate": "<b>%{x}</b><br>Empresas: %{y}<extra></extra>",
         "marker": {
          "color": [
           "#7b68ee",
           "#65c99f",
           "#3f3f3f",
           "#01abdf",
           "#a0a0a0"
          ]
         },
         "showlegend": false,
         "text": [
          "45",
          "88",
          "78",
          "32",
          "165"
         ],
         "textposition": "outside",
         "type": "bar",
         "x": [
          "Excelente",
          "Boa",
          "Ok",
          "Ruim",
          "Péssima"
         ],
         "xaxis": "x6",
         "y": {
          "bdata": "LQBYAE4AIAClAA==",
          "dtype": "i2"
         },
         "yaxis": "y6"
        },
        {
         "hovertemplate": "<b>%{x}</b><br>Empresas: %{y}<extra></extra>",
         "marker": {
          "color": [
           "#7b68ee",
           "#65c99f",
           "#3f3f3f",
           "#01abdf",
           "#a0a0a0"
          ]
         },
         "showlegend": false,
         "text": [
          "9",
          "74",
          "185",
          "127",
          "13"
         ],
         "textposition": "outside",
         "type": "bar",
         "x": [
          "Excelente",
          "Boa",
          "Ok",
          "Ruim",
          "Péssima"
         ],
         "xaxis": "x7",
         "y": {
          "bdata": "CQBKALkAfwANAA==",
          "dtype": "i2"
         },
         "yaxis": "y7"
        }
       ],
       "layout": {
        "annotations": [
         {
          "font": {
           "size": 16
          },
          "showarrow": false,
          "text": "CAGR",
          "x": 0.13333333333333333,
          "xanchor": "center",
          "xref": "paper",
          "y": 0.9999999999999999,
          "yanchor": "bottom",
          "yref": "paper"
         },
         {
          "font": {
           "size": 16
          },
          "showarrow": false,
          "text": "Margins",
          "x": 0.5,
          "xanchor": "center",
          "xref": "paper",
          "y": 0.9999999999999999,
          "yanchor": "bottom",
          "yref": "paper"
         },
         {
          "font": {
           "size": 16
          },
          "showarrow": false,
          "text": "Multiplos",
          "x": 0.8666666666666667,
          "xanchor": "center",
          "xref": "paper",
          "y": 0.9999999999999999,
          "yanchor": "bottom",
          "yref": "paper"
         },
         {
          "font": {
           "size": 16
          },
          "showarrow": false,
          "text": "Qualidade",
          "x": 0.13333333333333333,
          "xanchor": "center",
          "xref": "paper",
          "y": 0.6166666666666666,
          "yanchor": "bottom",
          "yref": "paper"
         },
         {
          "font": {
           "size": 16
          },
          "showarrow": false,
          "text": "Profitability",
          "x": 0.5,
          "xanchor": "center",
          "xref": "paper",
          "y": 0.6166666666666666,
          "yanchor": "bottom",
          "yref": "paper"
         },
         {
          "font": {
           "size": 16
          },
          "showarrow": false,
          "text": "Dividends",
          "x": 0.8666666666666667,
          "xanchor": "center",
          "xref": "paper",
          "y": 0.6166666666666666,
          "yanchor": "bottom",
          "yref": "paper"
         },
         {
          "font": {
           "size": 16
          },
          "showarrow": false,
          "text": "Composto",
          "x": 0.13333333333333333,
          "xanchor": "center",
          "xref": "paper",
          "y": 0.2333333333333333,
          "yanchor": "bottom",
          "yref": "paper"
         }
        ],
        "height": 1100,
        "showlegend": false,
        "template": {
         "data": {
          "bar": [
           {
            "error_x": {
             "color": "#2a3f5f"
            },
            "error_y": {
             "color": "#2a3f5f"
            },
            "marker": {
             "line": {
              "color": "white",
              "width": 0.5
             },
             "pattern": {
              "fillmode": "overlay",
              "size": 10,
              "solidity": 0.2
             }
            },
            "type": "bar"
           }
          ],
          "barpolar": [
           {
            "marker": {
             "line": {
              "color": "white",
              "width": 0.5
             },
             "pattern": {
              "fillmode": "overlay",
              "size": 10,
              "solidity": 0.2
             }
            },
            "type": "barpolar"
           }
          ],
          "carpet": [
           {
            "aaxis": {
             "endlinecolor": "#2a3f5f",
             "gridcolor": "#C8D4E3",
             "linecolor": "#C8D4E3",
             "minorgridcolor": "#C8D4E3",
             "startlinecolor": "#2a3f5f"
            },
            "baxis": {
             "endlinecolor": "#2a3f5f",
             "gridcolor": "#C8D4E3",
             "linecolor": "#C8D4E3",
             "minorgridcolor": "#C8D4E3",
             "startlinecolor": "#2a3f5f"
            },
            "type": "carpet"
           }
          ],
          "choropleth": [
           {
            "colorbar": {
             "outlinewidth": 0,
             "ticks": ""
            },
            "type": "choropleth"
           }
          ],
          "contour": [
           {
            "colorbar": {
             "outlinewidth": 0,
             "ticks": ""
            },
            "colorscale": [
             [
              0,
              "#0d0887"
             ],
             [
              0.1111111111111111,
              "#46039f"
             ],
             [
              0.2222222222222222,
              "#7201a8"
             ],
             [
              0.3333333333333333,
              "#9c179e"
             ],
             [
              0.4444444444444444,
              "#bd3786"
             ],
             [
              0.5555555555555556,
              "#d8576b"
             ],
             [
              0.6666666666666666,
              "#ed7953"
             ],
             [
              0.7777777777777778,
              "#fb9f3a"
             ],
             [
              0.8888888888888888,
              "#fdca26"
             ],
             [
              1,
              "#f0f921"
             ]
            ],
            "type": "contour"
           }
          ],
          "contourcarpet": [
           {
            "colorbar": {
             "outlinewidth": 0,
             "ticks": ""
            },
            "type": "contourcarpet"
           }
          ],
          "heatmap": [
           {
            "colorbar": {
             "outlinewidth": 0,
             "ticks": ""
            },
            "colorscale": [
             [
              0,
              "#0d0887"
             ],
             [
              0.1111111111111111,
              "#46039f"
             ],
             [
              0.2222222222222222,
              "#7201a8"
             ],
             [
              0.3333333333333333,
              "#9c179e"
             ],
             [
              0.4444444444444444,
              "#bd3786"
             ],
             [
              0.5555555555555556,
              "#d8576b"
             ],
             [
              0.6666666666666666,
              "#ed7953"
             ],
             [
              0.7777777777777778,
              "#fb9f3a"
             ],
             [
              0.8888888888888888,
              "#fdca26"
             ],
             [
              1,
              "#f0f921"
             ]
            ],
            "type": "heatmap"
           }
          ],
          "histogram": [
           {
            "marker": {
             "pattern": {
              "fillmode": "overlay",
              "size": 10,
              "solidity": 0.2
             }
            },
            "type": "histogram"
           }
          ],
          "histogram2d": [
           {
            "colorbar": {
             "outlinewidth": 0,
             "ticks": ""
            },
            "colorscale": [
             [
              0,
              "#0d0887"
             ],
             [
              0.1111111111111111,
              "#46039f"
             ],
             [
              0.2222222222222222,
              "#7201a8"
             ],
             [
              0.3333333333333333,
              "#9c179e"
             ],
             [
              0.4444444444444444,
              "#bd3786"
             ],
             [
              0.5555555555555556,
              "#d8576b"
             ],
             [
              0.6666666666666666,
              "#ed7953"
             ],
             [
              0.7777777777777778,
              "#fb9f3a"
             ],
             [
              0.8888888888888888,
              "#fdca26"
             ],
             [
              1,
              "#f0f921"
             ]
            ],
            "type": "histogram2d"
           }
          ],
          "histogram2dcontour": [
           {
            "colorbar": {
             "outlinewidth": 0,
             "ticks": ""
            },
            "colorscale": [
             [
              0,
              "#0d0887"
             ],
             [
              0.1111111111111111,
              "#46039f"
             ],
             [
              0.2222222222222222,
              "#7201a8"
             ],
             [
              0.3333333333333333,
              "#9c179e"
             ],
             [
              0.4444444444444444,
              "#bd3786"
             ],
             [
              0.5555555555555556,
              "#d8576b"
             ],
             [
              0.6666666666666666,
              "#ed7953"
             ],
             [
              0.7777777777777778,
              "#fb9f3a"
             ],
             [
              0.8888888888888888,
              "#fdca26"
             ],
             [
              1,
              "#f0f921"
             ]
            ],
            "type": "histogram2dcontour"
           }
          ],
          "mesh3d": [
           {
            "colorbar": {
             "outlinewidth": 0,
             "ticks": ""
            },
            "type": "mesh3d"
           }
          ],
          "parcoords": [
           {
            "line": {
             "colorbar": {
              "outlinewidth": 0,
              "ticks": ""
             }
            },
            "type": "parcoords"
           }
          ],
          "pie": [
           {
            "automargin": true,
            "type": "pie"
           }
          ],
          "scatter": [
           {
            "fillpattern": {
             "fillmode": "overlay",
             "size": 10,
             "solidity": 0.2
            },
            "type": "scatter"
           }
          ],
          "scatter3d": [
           {
            "line": {
             "colorbar": {
              "outlinewidth": 0,
              "ticks": ""
             }
            },
            "marker": {
             "colorbar": {
              "outlinewidth": 0,
              "ticks": ""
             }
            },
            "type": "scatter3d"
           }
          ],
          "scattercarpet": [
           {
            "marker": {
             "colorbar": {
              "outlinewidth": 0,
              "ticks": ""
             }
            },
            "type": "scattercarpet"
           }
          ],
          "scattergeo": [
           {
            "marker": {
             "colorbar": {
              "outlinewidth": 0,
              "ticks": ""
             }
            },
            "type": "scattergeo"
           }
          ],
          "scattergl": [
           {
            "marker": {
             "colorbar": {
              "outlinewidth": 0,
              "ticks": ""
             }
            },
            "type": "scattergl"
           }
          ],
          "scattermap": [
           {
            "marker": {
             "colorbar": {
              "outlinewidth": 0,
              "ticks": ""
             }
            },
            "type": "scattermap"
           }
          ],
          "scattermapbox": [
           {
            "marker": {
             "colorbar": {
              "outlinewidth": 0,
              "ticks": ""
             }
            },
            "type": "scattermapbox"
           }
          ],
          "scatterpolar": [
           {
            "marker": {
             "colorbar": {
              "outlinewidth": 0,
              "ticks": ""
             }
            },
            "type": "scatterpolar"
           }
          ],
          "scatterpolargl": [
           {
            "marker": {
             "colorbar": {
              "outlinewidth": 0,
              "ticks": ""
             }
            },
            "type": "scatterpolargl"
           }
          ],
          "scatterternary": [
           {
            "marker": {
             "colorbar": {
              "outlinewidth": 0,
              "ticks": ""
             }
            },
            "type": "scatterternary"
           }
          ],
          "surface": [
           {
            "colorbar": {
             "outlinewidth": 0,
             "ticks": ""
            },
            "colorscale": [
             [
              0,
              "#0d0887"
             ],
             [
              0.1111111111111111,
              "#46039f"
             ],
             [
              0.2222222222222222,
              "#7201a8"
             ],
             [
              0.3333333333333333,
              "#9c179e"
             ],
             [
              0.4444444444444444,
              "#bd3786"
             ],
             [
              0.5555555555555556,
              "#d8576b"
             ],
             [
              0.6666666666666666,
              "#ed7953"
             ],
             [
              0.7777777777777778,
              "#fb9f3a"
             ],
             [
              0.8888888888888888,
              "#fdca26"
             ],
             [
              1,
              "#f0f921"
             ]
            ],
            "type": "surface"
           }
          ],
          "table": [
           {
            "cells": {
             "fill": {
              "color": "#EBF0F8"
             },
             "line": {
              "color": "white"
             }
            },
            "header": {
             "fill": {
              "color": "#C8D4E3"
             },
             "line": {
              "color": "white"
             }
            },
            "type": "table"
           }
          ]
         },
         "layout": {
          "annotationdefaults": {
           "arrowcolor": "#2a3f5f",
           "arrowhead": 0,
           "arrowwidth": 1
          },
          "autotypenumbers": "strict",
          "coloraxis": {
           "colorbar": {
            "outlinewidth": 0,
            "ticks": ""
           }
          },
          "colorscale": {
           "diverging": [
            [
             0,
             "#8e0152"
            ],
            [
             0.1,
             "#c51b7d"
            ],
            [
             0.2,
             "#de77ae"
            ],
            [
             0.3,
             "#f1b6da"
            ],
            [
             0.4,
             "#fde0ef"
            ],
            [
             0.5,
             "#f7f7f7"
            ],
            [
             0.6,
             "#e6f5d0"
            ],
            [
             0.7,
             "#b8e186"
            ],
            [
             0.8,
             "#7fbc41"
            ],
            [
             0.9,
             "#4d9221"
            ],
            [
             1,
             "#276419"
            ]
           ],
           "sequential": [
            [
             0,
             "#0d0887"
            ],
            [
             0.1111111111111111,
             "#46039f"
            ],
            [
             0.2222222222222222,
             "#7201a8"
            ],
            [
             0.3333333333333333,
             "#9c179e"
            ],
            [
             0.4444444444444444,
             "#bd3786"
            ],
            [
             0.5555555555555556,
             "#d8576b"
            ],
            [
             0.6666666666666666,
             "#ed7953"
            ],
            [
             0.7777777777777778,
             "#fb9f3a"
            ],
            [
             0.8888888888888888,
             "#fdca26"
            ],
            [
             1,
             "#f0f921"
            ]
           ],
           "sequentialminus": [
            [
             0,
             "#0d0887"
            ],
            [
             0.1111111111111111,
             "#46039f"
            ],
            [
             0.2222222222222222,
             "#7201a8"
            ],
            [
             0.3333333333333333,
             "#9c179e"
            ],
            [
             0.4444444444444444,
             "#bd3786"
            ],
            [
             0.5555555555555556,
             "#d8576b"
            ],
            [
             0.6666666666666666,
             "#ed7953"
            ],
            [
             0.7777777777777778,
             "#fb9f3a"
            ],
            [
             0.8888888888888888,
             "#fdca26"
            ],
            [
             1,
             "#f0f921"
            ]
           ]
          },
          "colorway": [
           "#636efa",
           "#EF553B",
           "#00cc96",
           "#ab63fa",
           "#FFA15A",
           "#19d3f3",
           "#FF6692",
           "#B6E880",
           "#FF97FF",
           "#FECB52"
          ],
          "font": {
           "color": "#2a3f5f"
          },
          "geo": {
           "bgcolor": "white",
           "lakecolor": "white",
           "landcolor": "white",
           "showlakes": true,
           "showland": true,
           "subunitcolor": "#C8D4E3"
          },
          "hoverlabel": {
           "align": "left"
          },
          "hovermode": "closest",
          "mapbox": {
           "style": "light"
          },
          "paper_bgcolor": "white",
          "plot_bgcolor": "white",
          "polar": {
           "angularaxis": {
            "gridcolor": "#EBF0F8",
            "linecolor": "#EBF0F8",
            "ticks": ""
           },
           "bgcolor": "white",
           "radialaxis": {
            "gridcolor": "#EBF0F8",
            "linecolor": "#EBF0F8",
            "ticks": ""
           }
          },
          "scene": {
           "xaxis": {
            "backgroundcolor": "white",
            "gridcolor": "#DFE8F3",
            "gridwidth": 2,
            "linecolor": "#EBF0F8",
            "showbackground": true,
            "ticks": "",
            "zerolinecolor": "#EBF0F8"
           },
           "yaxis": {
            "backgroundcolor": "white",
            "gridcolor": "#DFE8F3",
            "gridwidth": 2,
            "linecolor": "#EBF0F8",
            "showbackground": true,
            "ticks": "",
            "zerolinecolor": "#EBF0F8"
           },
           "zaxis": {
            "backgroundcolor": "white",
            "gridcolor": "#DFE8F3",
            "gridwidth": 2,
            "linecolor": "#EBF0F8",
            "showbackground": true,
            "ticks": "",
            "zerolinecolor": "#EBF0F8"
           }
          },
          "shapedefaults": {
           "line": {
            "color": "#2a3f5f"
           }
          },
          "ternary": {
           "aaxis": {
            "gridcolor": "#DFE8F3",
            "linecolor": "#A2B1C6",
            "ticks": ""
           },
           "baxis": {
            "gridcolor": "#DFE8F3",
            "linecolor": "#A2B1C6",
            "ticks": ""
           },
           "bgcolor": "white",
           "caxis": {
            "gridcolor": "#DFE8F3",
            "linecolor": "#A2B1C6",
            "ticks": ""
           }
          },
          "title": {
           "x": 0.05
          },
          "xaxis": {
           "automargin": true,
           "gridcolor": "#EBF0F8",
           "linecolor": "#EBF0F8",
           "ticks": "",
           "title": {
            "standoff": 15
           },
           "zerolinecolor": "#EBF0F8",
           "zerolinewidth": 2
          },
          "yaxis": {
           "automargin": true,
           "gridcolor": "#EBF0F8",
           "linecolor": "#EBF0F8",
           "ticks": "",
           "title": {
            "standoff": 15
           },
           "zerolinecolor": "#EBF0F8",
           "zerolinewidth": 2
          }
         }
        },
        "title": {
         "font": {
          "size": 18
         },
         "text": "Dashboard de Classificações por Pilar (com Dividendos)",
         "x": 0.5
        },
        "xaxis": {
         "anchor": "y",
         "domain": [
          0,
          0.26666666666666666
         ],
         "tickangle": -45,
         "tickfont": {
          "size": 9
         }
        },
        "xaxis2": {
         "anchor": "y2",
         "domain": [
          0.3666666666666667,
          0.6333333333333333
         ],
         "tickangle": -45,
         "tickfont": {
          "size": 9
         }
        },
        "xaxis3": {
         "anchor": "y3",
         "domain": [
          0.7333333333333334,
          1
         ],
         "tickangle": -45,
         "tickfont": {
          "size": 9
         }
        },
        "xaxis4": {
         "anchor": "y4",
         "domain": [
          0,
          0.26666666666666666
         ],
         "tickangle": -45,
         "tickfont": {
          "size": 9
         }
        },
        "xaxis5": {
         "anchor": "y5",
         "domain": [
          0.3666666666666667,
          0.6333333333333333
         ],
         "tickangle": -45,
         "tickfont": {
          "size": 9
         }
        },
        "xaxis6": {
         "anchor": "y6",
         "domain": [
          0.7333333333333334,
          1
         ],
         "tickangle": -45,
         "tickfont": {
          "size": 9
         }
        },
        "xaxis7": {
         "anchor": "y7",
         "domain": [
          0,
          0.26666666666666666
         ],
         "tickangle": -45,
         "tickfont": {
          "size": 9
         }
        },
        "xaxis8": {
         "anchor": "y8",
         "domain": [
          0.3666666666666667,
          0.6333333333333333
         ],
         "tickangle": -45,
         "tickfont": {
          "size": 9
         }
        },
        "xaxis9": {
         "anchor": "y9",
         "domain": [
          0.7333333333333334,
          1
         ],
         "tickangle": -45,
         "tickfont": {
          "size": 9
         }
        },
        "yaxis": {
         "anchor": "x",
         "domain": [
          0.7666666666666666,
          0.9999999999999999
         ],
         "title": {
          "text": "Quantidade"
         }
        },
        "yaxis2": {
         "anchor": "x2",
         "domain": [
          0.7666666666666666,
          0.9999999999999999
         ],
         "title": {
          "text": "Quantidade"
         }
        },
        "yaxis3": {
         "anchor": "x3",
         "domain": [
          0.7666666666666666,
          0.9999999999999999
         ],
         "title": {
          "text": "Quantidade"
         }
        },
        "yaxis4": {
         "anchor": "x4",
         "domain": [
          0.3833333333333333,
          0.6166666666666666
         ],
         "title": {
          "text": "Quantidade"
         }
        },
        "yaxis5": {
         "anchor": "x5",
         "domain": [
          0.3833333333333333,
          0.6166666666666666
         ],
         "title": {
          "text": "Quantidade"
         }
        },
        "yaxis6": {
         "anchor": "x6",
         "domain": [
          0.3833333333333333,
          0.6166666666666666
         ],
         "title": {
          "text": "Quantidade"
         }
        },
        "yaxis7": {
         "anchor": "x7",
         "domain": [
          0,
          0.2333333333333333
         ],
         "title": {
          "text": "Quantidade"
         }
        },
        "yaxis8": {
         "anchor": "x8",
         "domain": [
          0,
          0.2333333333333333
         ],
         "title": {
          "text": "Quantidade"
         }
        },
        "yaxis9": {
         "anchor": "x9",
         "domain": [
          0,
          0.2333333333333333
         ],
         "title": {
          "text": "Quantidade"
         }
        }
       }
      }
     },
     "metadata": {},
     "output_type": "display_data"
    },
    {
     "name": "stdout",
     "output_type": "stream",
     "text": [
      "\n",
      "🏆 Top 30 Empresas - Heatmap:\n"
     ]
    },
    {
     "data": {
      "text/html": [
       "<style type=\"text/css\">\n",
       "#T_aa73f_row0_col3 {\n",
       "  background-color: #3f007d;\n",
       "  color: #f1f1f1;\n",
       "}\n",
       "#T_aa73f_row1_col3 {\n",
       "  background-color: #61409b;\n",
       "  color: #f1f1f1;\n",
       "}\n",
       "#T_aa73f_row2_col3 {\n",
       "  background-color: #8683bd;\n",
       "  color: #f1f1f1;\n",
       "}\n",
       "#T_aa73f_row3_col3, #T_aa73f_row4_col3, #T_aa73f_row5_col3, #T_aa73f_row6_col3, #T_aa73f_row7_col3, #T_aa73f_row8_col3 {\n",
       "  background-color: #b6b6d8;\n",
       "  color: #000000;\n",
       "}\n",
       "#T_aa73f_row9_col3, #T_aa73f_row10_col3, #T_aa73f_row11_col3, #T_aa73f_row12_col3, #T_aa73f_row13_col3, #T_aa73f_row14_col3, #T_aa73f_row15_col3, #T_aa73f_row16_col3, #T_aa73f_row17_col3, #T_aa73f_row18_col3, #T_aa73f_row19_col3, #T_aa73f_row20_col3 {\n",
       "  background-color: #e2e2ef;\n",
       "  color: #000000;\n",
       "}\n",
       "#T_aa73f_row21_col3, #T_aa73f_row22_col3, #T_aa73f_row23_col3, #T_aa73f_row24_col3, #T_aa73f_row25_col3, #T_aa73f_row26_col3, #T_aa73f_row27_col3, #T_aa73f_row28_col3, #T_aa73f_row29_col3 {\n",
       "  background-color: #fcfbfd;\n",
       "  color: #000000;\n",
       "}\n",
       "</style>\n",
       "<table id=\"T_aa73f\">\n",
       "  <thead>\n",
       "    <tr>\n",
       "      <th class=\"blank level0\" >&nbsp;</th>\n",
       "      <th id=\"T_aa73f_level0_col0\" class=\"col_heading level0 col0\" >ENTITY_NAME</th>\n",
       "      <th id=\"T_aa73f_level0_col1\" class=\"col_heading level0 col1\" >TICKER</th>\n",
       "      <th id=\"T_aa73f_level0_col2\" class=\"col_heading level0 col2\" >SECTOR</th>\n",
       "      <th id=\"T_aa73f_level0_col3\" class=\"col_heading level0 col3\" >composite_score</th>\n",
       "      <th id=\"T_aa73f_level0_col4\" class=\"col_heading level0 col4\" >class_Composto</th>\n",
       "      <th id=\"T_aa73f_level0_col5\" class=\"col_heading level0 col5\" >class_CAGR</th>\n",
       "      <th id=\"T_aa73f_level0_col6\" class=\"col_heading level0 col6\" >class_Margins</th>\n",
       "      <th id=\"T_aa73f_level0_col7\" class=\"col_heading level0 col7\" >class_Multiplos</th>\n",
       "      <th id=\"T_aa73f_level0_col8\" class=\"col_heading level0 col8\" >class_Qualidade</th>\n",
       "      <th id=\"T_aa73f_level0_col9\" class=\"col_heading level0 col9\" >class_Profitability</th>\n",
       "      <th id=\"T_aa73f_level0_col10\" class=\"col_heading level0 col10\" >class_Dividends</th>\n",
       "    </tr>\n",
       "  </thead>\n",
       "  <tbody>\n",
       "    <tr>\n",
       "      <th id=\"T_aa73f_level0_row0\" class=\"row_heading level0 row0\" >54</th>\n",
       "      <td id=\"T_aa73f_row0_col0\" class=\"data row0 col0\" >Baumer S.A. (BOVESPA:BALM4)</td>\n",
       "      <td id=\"T_aa73f_row0_col1\" class=\"data row0 col1\" >BALM4</td>\n",
       "      <td id=\"T_aa73f_row0_col2\" class=\"data row0 col2\" >Health Care</td>\n",
       "      <td id=\"T_aa73f_row0_col3\" class=\"data row0 col3\" >11.000000</td>\n",
       "      <td id=\"T_aa73f_row0_col4\" class=\"data row0 col4\" >Excelente</td>\n",
       "      <td id=\"T_aa73f_row0_col5\" class=\"data row0 col5\" >Excelente</td>\n",
       "      <td id=\"T_aa73f_row0_col6\" class=\"data row0 col6\" >Excelente</td>\n",
       "      <td id=\"T_aa73f_row0_col7\" class=\"data row0 col7\" >Excelente</td>\n",
       "      <td id=\"T_aa73f_row0_col8\" class=\"data row0 col8\" >Excelente</td>\n",
       "      <td id=\"T_aa73f_row0_col9\" class=\"data row0 col9\" >Excelente</td>\n",
       "      <td id=\"T_aa73f_row0_col10\" class=\"data row0 col10\" >Boa</td>\n",
       "    </tr>\n",
       "    <tr>\n",
       "      <th id=\"T_aa73f_level0_row1\" class=\"row_heading level0 row1\" >256</th>\n",
       "      <td id=\"T_aa73f_row1_col0\" class=\"data row1 col0\" >Mills Locação, Serviços e Logística S.A. (BOVESPA:MILS3)</td>\n",
       "      <td id=\"T_aa73f_row1_col1\" class=\"data row1 col1\" >MILS3</td>\n",
       "      <td id=\"T_aa73f_row1_col2\" class=\"data row1 col2\" >Industrials</td>\n",
       "      <td id=\"T_aa73f_row1_col3\" class=\"data row1 col3\" >10.000000</td>\n",
       "      <td id=\"T_aa73f_row1_col4\" class=\"data row1 col4\" >Excelente</td>\n",
       "      <td id=\"T_aa73f_row1_col5\" class=\"data row1 col5\" >Excelente</td>\n",
       "      <td id=\"T_aa73f_row1_col6\" class=\"data row1 col6\" >Excelente</td>\n",
       "      <td id=\"T_aa73f_row1_col7\" class=\"data row1 col7\" >Ok</td>\n",
       "      <td id=\"T_aa73f_row1_col8\" class=\"data row1 col8\" >Excelente</td>\n",
       "      <td id=\"T_aa73f_row1_col9\" class=\"data row1 col9\" >Excelente</td>\n",
       "      <td id=\"T_aa73f_row1_col10\" class=\"data row1 col10\" >Excelente</td>\n",
       "    </tr>\n",
       "    <tr>\n",
       "      <th id=\"T_aa73f_level0_row2\" class=\"row_heading level0 row2\" >138</th>\n",
       "      <td id=\"T_aa73f_row2_col0\" class=\"data row2 col0\" >Electro Aço Altona S.A. (BOVESPA:EALT4)</td>\n",
       "      <td id=\"T_aa73f_row2_col1\" class=\"data row2 col1\" >EALT4</td>\n",
       "      <td id=\"T_aa73f_row2_col2\" class=\"data row2 col2\" >Materials</td>\n",
       "      <td id=\"T_aa73f_row2_col3\" class=\"data row2 col3\" >9.000000</td>\n",
       "      <td id=\"T_aa73f_row2_col4\" class=\"data row2 col4\" >Excelente</td>\n",
       "      <td id=\"T_aa73f_row2_col5\" class=\"data row2 col5\" >Excelente</td>\n",
       "      <td id=\"T_aa73f_row2_col6\" class=\"data row2 col6\" >Excelente</td>\n",
       "      <td id=\"T_aa73f_row2_col7\" class=\"data row2 col7\" >Excelente</td>\n",
       "      <td id=\"T_aa73f_row2_col8\" class=\"data row2 col8\" >Excelente</td>\n",
       "      <td id=\"T_aa73f_row2_col9\" class=\"data row2 col9\" >Excelente</td>\n",
       "      <td id=\"T_aa73f_row2_col10\" class=\"data row2 col10\" >Ruim</td>\n",
       "    </tr>\n",
       "    <tr>\n",
       "      <th id=\"T_aa73f_level0_row3\" class=\"row_heading level0 row3\" >155</th>\n",
       "      <td id=\"T_aa73f_row3_col0\" class=\"data row3 col0\" >Eucatex S.A. Indústria e Comércio (BOVESPA:EUCA4)</td>\n",
       "      <td id=\"T_aa73f_row3_col1\" class=\"data row3 col1\" >EUCA4</td>\n",
       "      <td id=\"T_aa73f_row3_col2\" class=\"data row3 col2\" >Materials</td>\n",
       "      <td id=\"T_aa73f_row3_col3\" class=\"data row3 col3\" >8.000000</td>\n",
       "      <td id=\"T_aa73f_row3_col4\" class=\"data row3 col4\" >Excelente</td>\n",
       "      <td id=\"T_aa73f_row3_col5\" class=\"data row3 col5\" >Boa</td>\n",
       "      <td id=\"T_aa73f_row3_col6\" class=\"data row3 col6\" >Boa</td>\n",
       "      <td id=\"T_aa73f_row3_col7\" class=\"data row3 col7\" >Excelente</td>\n",
       "      <td id=\"T_aa73f_row3_col8\" class=\"data row3 col8\" >Excelente</td>\n",
       "      <td id=\"T_aa73f_row3_col9\" class=\"data row3 col9\" >Ok</td>\n",
       "      <td id=\"T_aa73f_row3_col10\" class=\"data row3 col10\" >Excelente</td>\n",
       "    </tr>\n",
       "    <tr>\n",
       "      <th id=\"T_aa73f_level0_row4\" class=\"row_heading level0 row4\" >399</th>\n",
       "      <td id=\"T_aa73f_row4_col0\" class=\"data row4 col0\" >Whirlpool S.A. (BOVESPA:WHRL4)</td>\n",
       "      <td id=\"T_aa73f_row4_col1\" class=\"data row4 col1\" >WHRL4</td>\n",
       "      <td id=\"T_aa73f_row4_col2\" class=\"data row4 col2\" >Consumer Discretionary</td>\n",
       "      <td id=\"T_aa73f_row4_col3\" class=\"data row4 col3\" >8.000000</td>\n",
       "      <td id=\"T_aa73f_row4_col4\" class=\"data row4 col4\" >Excelente</td>\n",
       "      <td id=\"T_aa73f_row4_col5\" class=\"data row4 col5\" >Excelente</td>\n",
       "      <td id=\"T_aa73f_row4_col6\" class=\"data row4 col6\" >Ok</td>\n",
       "      <td id=\"T_aa73f_row4_col7\" class=\"data row4 col7\" >Ok</td>\n",
       "      <td id=\"T_aa73f_row4_col8\" class=\"data row4 col8\" >Excelente</td>\n",
       "      <td id=\"T_aa73f_row4_col9\" class=\"data row4 col9\" >Excelente</td>\n",
       "      <td id=\"T_aa73f_row4_col10\" class=\"data row4 col10\" >Excelente</td>\n",
       "    </tr>\n",
       "    <tr>\n",
       "      <th id=\"T_aa73f_level0_row5\" class=\"row_heading level0 row5\" >244</th>\n",
       "      <td id=\"T_aa73f_row5_col0\" class=\"data row5 col0\" >Marcopolo S.A. (BOVESPA:POMO4)</td>\n",
       "      <td id=\"T_aa73f_row5_col1\" class=\"data row5 col1\" >POMO4</td>\n",
       "      <td id=\"T_aa73f_row5_col2\" class=\"data row5 col2\" >Industrials</td>\n",
       "      <td id=\"T_aa73f_row5_col3\" class=\"data row5 col3\" >8.000000</td>\n",
       "      <td id=\"T_aa73f_row5_col4\" class=\"data row5 col4\" >Excelente</td>\n",
       "      <td id=\"T_aa73f_row5_col5\" class=\"data row5 col5\" >Excelente</td>\n",
       "      <td id=\"T_aa73f_row5_col6\" class=\"data row5 col6\" >Boa</td>\n",
       "      <td id=\"T_aa73f_row5_col7\" class=\"data row5 col7\" >Ruim</td>\n",
       "      <td id=\"T_aa73f_row5_col8\" class=\"data row5 col8\" >Excelente</td>\n",
       "      <td id=\"T_aa73f_row5_col9\" class=\"data row5 col9\" >Excelente</td>\n",
       "      <td id=\"T_aa73f_row5_col10\" class=\"data row5 col10\" >Excelente</td>\n",
       "    </tr>\n",
       "    <tr>\n",
       "      <th id=\"T_aa73f_level0_row6\" class=\"row_heading level0 row6\" >266</th>\n",
       "      <td id=\"T_aa73f_row6_col0\" class=\"data row6 col0\" >MRS Logística S.A. (BOVESPA:MRSA3B)</td>\n",
       "      <td id=\"T_aa73f_row6_col1\" class=\"data row6 col1\" >MRSA3B</td>\n",
       "      <td id=\"T_aa73f_row6_col2\" class=\"data row6 col2\" >Industrials</td>\n",
       "      <td id=\"T_aa73f_row6_col3\" class=\"data row6 col3\" >8.000000</td>\n",
       "      <td id=\"T_aa73f_row6_col4\" class=\"data row6 col4\" >Excelente</td>\n",
       "      <td id=\"T_aa73f_row6_col5\" class=\"data row6 col5\" >Boa</td>\n",
       "      <td id=\"T_aa73f_row6_col6\" class=\"data row6 col6\" >Excelente</td>\n",
       "      <td id=\"T_aa73f_row6_col7\" class=\"data row6 col7\" >Excelente</td>\n",
       "      <td id=\"T_aa73f_row6_col8\" class=\"data row6 col8\" >Boa</td>\n",
       "      <td id=\"T_aa73f_row6_col9\" class=\"data row6 col9\" >Boa</td>\n",
       "      <td id=\"T_aa73f_row6_col10\" class=\"data row6 col10\" >Boa</td>\n",
       "    </tr>\n",
       "    <tr>\n",
       "      <th id=\"T_aa73f_level0_row7\" class=\"row_heading level0 row7\" >104</th>\n",
       "      <td id=\"T_aa73f_row7_col0\" class=\"data row7 col0\" >Companhia Energética de Minas Gerais - CEMIG (BOVESPA:CMIG4)</td>\n",
       "      <td id=\"T_aa73f_row7_col1\" class=\"data row7 col1\" >CMIG4</td>\n",
       "      <td id=\"T_aa73f_row7_col2\" class=\"data row7 col2\" >Utilities</td>\n",
       "      <td id=\"T_aa73f_row7_col3\" class=\"data row7 col3\" >8.000000</td>\n",
       "      <td id=\"T_aa73f_row7_col4\" class=\"data row7 col4\" >Excelente</td>\n",
       "      <td id=\"T_aa73f_row7_col5\" class=\"data row7 col5\" >Boa</td>\n",
       "      <td id=\"T_aa73f_row7_col6\" class=\"data row7 col6\" >Ok</td>\n",
       "      <td id=\"T_aa73f_row7_col7\" class=\"data row7 col7\" >Excelente</td>\n",
       "      <td id=\"T_aa73f_row7_col8\" class=\"data row7 col8\" >Excelente</td>\n",
       "      <td id=\"T_aa73f_row7_col9\" class=\"data row7 col9\" >Boa</td>\n",
       "      <td id=\"T_aa73f_row7_col10\" class=\"data row7 col10\" >Excelente</td>\n",
       "    </tr>\n",
       "    <tr>\n",
       "      <th id=\"T_aa73f_level0_row8\" class=\"row_heading level0 row8\" >210</th>\n",
       "      <td id=\"T_aa73f_row8_col0\" class=\"data row8 col0\" >ISA Energía Brasil S.A. (BOVESPA:ISAE4)</td>\n",
       "      <td id=\"T_aa73f_row8_col1\" class=\"data row8 col1\" >ISAE4</td>\n",
       "      <td id=\"T_aa73f_row8_col2\" class=\"data row8 col2\" >Utilities</td>\n",
       "      <td id=\"T_aa73f_row8_col3\" class=\"data row8 col3\" >8.000000</td>\n",
       "      <td id=\"T_aa73f_row8_col4\" class=\"data row8 col4\" >Excelente</td>\n",
       "      <td id=\"T_aa73f_row8_col5\" class=\"data row8 col5\" >Boa</td>\n",
       "      <td id=\"T_aa73f_row8_col6\" class=\"data row8 col6\" >Excelente</td>\n",
       "      <td id=\"T_aa73f_row8_col7\" class=\"data row8 col7\" >Excelente</td>\n",
       "      <td id=\"T_aa73f_row8_col8\" class=\"data row8 col8\" >Boa</td>\n",
       "      <td id=\"T_aa73f_row8_col9\" class=\"data row8 col9\" >Ok</td>\n",
       "      <td id=\"T_aa73f_row8_col10\" class=\"data row8 col10\" >Excelente</td>\n",
       "    </tr>\n",
       "    <tr>\n",
       "      <th id=\"T_aa73f_level0_row9\" class=\"row_heading level0 row9\" >75</th>\n",
       "      <td id=\"T_aa73f_row9_col0\" class=\"data row9 col0\" >Caixa Seguridade Participações S.A. (BOVESPA:CXSE3)</td>\n",
       "      <td id=\"T_aa73f_row9_col1\" class=\"data row9 col1\" >CXSE3</td>\n",
       "      <td id=\"T_aa73f_row9_col2\" class=\"data row9 col2\" >Financials</td>\n",
       "      <td id=\"T_aa73f_row9_col3\" class=\"data row9 col3\" >7.000000</td>\n",
       "      <td id=\"T_aa73f_row9_col4\" class=\"data row9 col4\" >Boa</td>\n",
       "      <td id=\"T_aa73f_row9_col5\" class=\"data row9 col5\" >Excelente</td>\n",
       "      <td id=\"T_aa73f_row9_col6\" class=\"data row9 col6\" >Excelente</td>\n",
       "      <td id=\"T_aa73f_row9_col7\" class=\"data row9 col7\" >Péssima</td>\n",
       "      <td id=\"T_aa73f_row9_col8\" class=\"data row9 col8\" >Excelente</td>\n",
       "      <td id=\"T_aa73f_row9_col9\" class=\"data row9 col9\" >Excelente</td>\n",
       "      <td id=\"T_aa73f_row9_col10\" class=\"data row9 col10\" >Boa</td>\n",
       "    </tr>\n",
       "    <tr>\n",
       "      <th id=\"T_aa73f_level0_row10\" class=\"row_heading level0 row10\" >183</th>\n",
       "      <td id=\"T_aa73f_row10_col0\" class=\"data row10 col0\" >Grendene S.A. (BOVESPA:GRND3)</td>\n",
       "      <td id=\"T_aa73f_row10_col1\" class=\"data row10 col1\" >GRND3</td>\n",
       "      <td id=\"T_aa73f_row10_col2\" class=\"data row10 col2\" >Consumer Discretionary</td>\n",
       "      <td id=\"T_aa73f_row10_col3\" class=\"data row10 col3\" >7.000000</td>\n",
       "      <td id=\"T_aa73f_row10_col4\" class=\"data row10 col4\" >Boa</td>\n",
       "      <td id=\"T_aa73f_row10_col5\" class=\"data row10 col5\" >Boa</td>\n",
       "      <td id=\"T_aa73f_row10_col6\" class=\"data row10 col6\" >Excelente</td>\n",
       "      <td id=\"T_aa73f_row10_col7\" class=\"data row10 col7\" >Ok</td>\n",
       "      <td id=\"T_aa73f_row10_col8\" class=\"data row10 col8\" >Excelente</td>\n",
       "      <td id=\"T_aa73f_row10_col9\" class=\"data row10 col9\" >Boa</td>\n",
       "      <td id=\"T_aa73f_row10_col10\" class=\"data row10 col10\" >Boa</td>\n",
       "    </tr>\n",
       "    <tr>\n",
       "      <th id=\"T_aa73f_level0_row11\" class=\"row_heading level0 row11\" >163</th>\n",
       "      <td id=\"T_aa73f_row11_col0\" class=\"data row11 col0\" >Fleury S.A. (BOVESPA:FLRY3)</td>\n",
       "      <td id=\"T_aa73f_row11_col1\" class=\"data row11 col1\" >FLRY3</td>\n",
       "      <td id=\"T_aa73f_row11_col2\" class=\"data row11 col2\" >Health Care</td>\n",
       "      <td id=\"T_aa73f_row11_col3\" class=\"data row11 col3\" >7.000000</td>\n",
       "      <td id=\"T_aa73f_row11_col4\" class=\"data row11 col4\" >Boa</td>\n",
       "      <td id=\"T_aa73f_row11_col5\" class=\"data row11 col5\" >Excelente</td>\n",
       "      <td id=\"T_aa73f_row11_col6\" class=\"data row11 col6\" >Excelente</td>\n",
       "      <td id=\"T_aa73f_row11_col7\" class=\"data row11 col7\" >Ruim</td>\n",
       "      <td id=\"T_aa73f_row11_col8\" class=\"data row11 col8\" >Excelente</td>\n",
       "      <td id=\"T_aa73f_row11_col9\" class=\"data row11 col9\" >Boa</td>\n",
       "      <td id=\"T_aa73f_row11_col10\" class=\"data row11 col10\" >Boa</td>\n",
       "    </tr>\n",
       "    <tr>\n",
       "      <th id=\"T_aa73f_level0_row12\" class=\"row_heading level0 row12\" >76</th>\n",
       "      <td id=\"T_aa73f_row12_col0\" class=\"data row12 col0\" >Cambuci S.A. (BOVESPA:CAMB3)</td>\n",
       "      <td id=\"T_aa73f_row12_col1\" class=\"data row12 col1\" >CAMB3</td>\n",
       "      <td id=\"T_aa73f_row12_col2\" class=\"data row12 col2\" >Consumer Discretionary</td>\n",
       "      <td id=\"T_aa73f_row12_col3\" class=\"data row12 col3\" >7.000000</td>\n",
       "      <td id=\"T_aa73f_row12_col4\" class=\"data row12 col4\" >Boa</td>\n",
       "      <td id=\"T_aa73f_row12_col5\" class=\"data row12 col5\" >Ruim</td>\n",
       "      <td id=\"T_aa73f_row12_col6\" class=\"data row12 col6\" >Excelente</td>\n",
       "      <td id=\"T_aa73f_row12_col7\" class=\"data row12 col7\" >Ok</td>\n",
       "      <td id=\"T_aa73f_row12_col8\" class=\"data row12 col8\" >Excelente</td>\n",
       "      <td id=\"T_aa73f_row12_col9\" class=\"data row12 col9\" >Excelente</td>\n",
       "      <td id=\"T_aa73f_row12_col10\" class=\"data row12 col10\" >Excelente</td>\n",
       "    </tr>\n",
       "    <tr>\n",
       "      <th id=\"T_aa73f_level0_row13\" class=\"row_heading level0 row13\" >97</th>\n",
       "      <td id=\"T_aa73f_row13_col0\" class=\"data row13 col0\" >Companhia de Saneamento Básico do Estado de São Paulo - SABESP (BOVESPA:SBSP3)</td>\n",
       "      <td id=\"T_aa73f_row13_col1\" class=\"data row13 col1\" >SBSP3</td>\n",
       "      <td id=\"T_aa73f_row13_col2\" class=\"data row13 col2\" >Utilities</td>\n",
       "      <td id=\"T_aa73f_row13_col3\" class=\"data row13 col3\" >7.000000</td>\n",
       "      <td id=\"T_aa73f_row13_col4\" class=\"data row13 col4\" >Boa</td>\n",
       "      <td id=\"T_aa73f_row13_col5\" class=\"data row13 col5\" >Excelente</td>\n",
       "      <td id=\"T_aa73f_row13_col6\" class=\"data row13 col6\" >Excelente</td>\n",
       "      <td id=\"T_aa73f_row13_col7\" class=\"data row13 col7\" >Ruim</td>\n",
       "      <td id=\"T_aa73f_row13_col8\" class=\"data row13 col8\" >Excelente</td>\n",
       "      <td id=\"T_aa73f_row13_col9\" class=\"data row13 col9\" >Boa</td>\n",
       "      <td id=\"T_aa73f_row13_col10\" class=\"data row13 col10\" >Boa</td>\n",
       "    </tr>\n",
       "    <tr>\n",
       "      <th id=\"T_aa73f_level0_row14\" class=\"row_heading level0 row14\" >56</th>\n",
       "      <td id=\"T_aa73f_row14_col0\" class=\"data row14 col0\" >BB Seguridade Participações S.A. (BOVESPA:BBSE3)</td>\n",
       "      <td id=\"T_aa73f_row14_col1\" class=\"data row14 col1\" >BBSE3</td>\n",
       "      <td id=\"T_aa73f_row14_col2\" class=\"data row14 col2\" >Financials</td>\n",
       "      <td id=\"T_aa73f_row14_col3\" class=\"data row14 col3\" >7.000000</td>\n",
       "      <td id=\"T_aa73f_row14_col4\" class=\"data row14 col4\" >Boa</td>\n",
       "      <td id=\"T_aa73f_row14_col5\" class=\"data row14 col5\" >Boa</td>\n",
       "      <td id=\"T_aa73f_row14_col6\" class=\"data row14 col6\" >Excelente</td>\n",
       "      <td id=\"T_aa73f_row14_col7\" class=\"data row14 col7\" >Ruim</td>\n",
       "      <td id=\"T_aa73f_row14_col8\" class=\"data row14 col8\" >Excelente</td>\n",
       "      <td id=\"T_aa73f_row14_col9\" class=\"data row14 col9\" >Boa</td>\n",
       "      <td id=\"T_aa73f_row14_col10\" class=\"data row14 col10\" >Excelente</td>\n",
       "    </tr>\n",
       "    <tr>\n",
       "      <th id=\"T_aa73f_level0_row15\" class=\"row_heading level0 row15\" >121</th>\n",
       "      <td id=\"T_aa73f_row15_col0\" class=\"data row15 col0\" >Cury Construtora e Incorporadora S.A. (BOVESPA:CURY3)</td>\n",
       "      <td id=\"T_aa73f_row15_col1\" class=\"data row15 col1\" >CURY3</td>\n",
       "      <td id=\"T_aa73f_row15_col2\" class=\"data row15 col2\" >Consumer Discretionary</td>\n",
       "      <td id=\"T_aa73f_row15_col3\" class=\"data row15 col3\" >7.000000</td>\n",
       "      <td id=\"T_aa73f_row15_col4\" class=\"data row15 col4\" >Boa</td>\n",
       "      <td id=\"T_aa73f_row15_col5\" class=\"data row15 col5\" >Excelente</td>\n",
       "      <td id=\"T_aa73f_row15_col6\" class=\"data row15 col6\" >Excelente</td>\n",
       "      <td id=\"T_aa73f_row15_col7\" class=\"data row15 col7\" >Péssima</td>\n",
       "      <td id=\"T_aa73f_row15_col8\" class=\"data row15 col8\" >Excelente</td>\n",
       "      <td id=\"T_aa73f_row15_col9\" class=\"data row15 col9\" >Excelente</td>\n",
       "      <td id=\"T_aa73f_row15_col10\" class=\"data row15 col10\" >Boa</td>\n",
       "    </tr>\n",
       "    <tr>\n",
       "      <th id=\"T_aa73f_level0_row16\" class=\"row_heading level0 row16\" >284</th>\n",
       "      <td id=\"T_aa73f_row16_col0\" class=\"data row16 col0\" >Ouro Fino Saúde Animal Participações S.A. (BOVESPA:OFSA3)</td>\n",
       "      <td id=\"T_aa73f_row16_col1\" class=\"data row16 col1\" >OFSA3</td>\n",
       "      <td id=\"T_aa73f_row16_col2\" class=\"data row16 col2\" >Health Care</td>\n",
       "      <td id=\"T_aa73f_row16_col3\" class=\"data row16 col3\" >7.000000</td>\n",
       "      <td id=\"T_aa73f_row16_col4\" class=\"data row16 col4\" >Boa</td>\n",
       "      <td id=\"T_aa73f_row16_col5\" class=\"data row16 col5\" >Ok</td>\n",
       "      <td id=\"T_aa73f_row16_col6\" class=\"data row16 col6\" >Excelente</td>\n",
       "      <td id=\"T_aa73f_row16_col7\" class=\"data row16 col7\" >Ok</td>\n",
       "      <td id=\"T_aa73f_row16_col8\" class=\"data row16 col8\" >Excelente</td>\n",
       "      <td id=\"T_aa73f_row16_col9\" class=\"data row16 col9\" >Excelente</td>\n",
       "      <td id=\"T_aa73f_row16_col10\" class=\"data row16 col10\" >Boa</td>\n",
       "    </tr>\n",
       "    <tr>\n",
       "      <th id=\"T_aa73f_level0_row17\" class=\"row_heading level0 row17\" >254</th>\n",
       "      <td id=\"T_aa73f_row17_col0\" class=\"data row17 col0\" >Metalúrgica Riosulense S.A. (BOVESPA:RSUL4)</td>\n",
       "      <td id=\"T_aa73f_row17_col1\" class=\"data row17 col1\" >RSUL4</td>\n",
       "      <td id=\"T_aa73f_row17_col2\" class=\"data row17 col2\" >Industrials</td>\n",
       "      <td id=\"T_aa73f_row17_col3\" class=\"data row17 col3\" >7.000000</td>\n",
       "      <td id=\"T_aa73f_row17_col4\" class=\"data row17 col4\" >Boa</td>\n",
       "      <td id=\"T_aa73f_row17_col5\" class=\"data row17 col5\" >Ruim</td>\n",
       "      <td id=\"T_aa73f_row17_col6\" class=\"data row17 col6\" >Excelente</td>\n",
       "      <td id=\"T_aa73f_row17_col7\" class=\"data row17 col7\" >Excelente</td>\n",
       "      <td id=\"T_aa73f_row17_col8\" class=\"data row17 col8\" >Boa</td>\n",
       "      <td id=\"T_aa73f_row17_col9\" class=\"data row17 col9\" >Excelente</td>\n",
       "      <td id=\"T_aa73f_row17_col10\" class=\"data row17 col10\" >Boa</td>\n",
       "    </tr>\n",
       "    <tr>\n",
       "      <th id=\"T_aa73f_level0_row18\" class=\"row_heading level0 row18\" >60</th>\n",
       "      <td id=\"T_aa73f_row18_col0\" class=\"data row18 col0\" >Blau Farmacêutica S.A. (BOVESPA:BLAU3)</td>\n",
       "      <td id=\"T_aa73f_row18_col1\" class=\"data row18 col1\" >BLAU3</td>\n",
       "      <td id=\"T_aa73f_row18_col2\" class=\"data row18 col2\" >Health Care</td>\n",
       "      <td id=\"T_aa73f_row18_col3\" class=\"data row18 col3\" >7.000000</td>\n",
       "      <td id=\"T_aa73f_row18_col4\" class=\"data row18 col4\" >Boa</td>\n",
       "      <td id=\"T_aa73f_row18_col5\" class=\"data row18 col5\" >Ok</td>\n",
       "      <td id=\"T_aa73f_row18_col6\" class=\"data row18 col6\" >Excelente</td>\n",
       "      <td id=\"T_aa73f_row18_col7\" class=\"data row18 col7\" >Boa</td>\n",
       "      <td id=\"T_aa73f_row18_col8\" class=\"data row18 col8\" >Excelente</td>\n",
       "      <td id=\"T_aa73f_row18_col9\" class=\"data row18 col9\" >Excelente</td>\n",
       "      <td id=\"T_aa73f_row18_col10\" class=\"data row18 col10\" >Ok</td>\n",
       "    </tr>\n",
       "    <tr>\n",
       "      <th id=\"T_aa73f_level0_row19\" class=\"row_heading level0 row19\" >297</th>\n",
       "      <td id=\"T_aa73f_row19_col0\" class=\"data row19 col0\" >Plano & Plano Desenvolvimento Imobiliário S.A. (BOVESPA:PLPL3)</td>\n",
       "      <td id=\"T_aa73f_row19_col1\" class=\"data row19 col1\" >PLPL3</td>\n",
       "      <td id=\"T_aa73f_row19_col2\" class=\"data row19 col2\" >Consumer Discretionary</td>\n",
       "      <td id=\"T_aa73f_row19_col3\" class=\"data row19 col3\" >7.000000</td>\n",
       "      <td id=\"T_aa73f_row19_col4\" class=\"data row19 col4\" >Boa</td>\n",
       "      <td id=\"T_aa73f_row19_col5\" class=\"data row19 col5\" >Excelente</td>\n",
       "      <td id=\"T_aa73f_row19_col6\" class=\"data row19 col6\" >Boa</td>\n",
       "      <td id=\"T_aa73f_row19_col7\" class=\"data row19 col7\" >Péssima</td>\n",
       "      <td id=\"T_aa73f_row19_col8\" class=\"data row19 col8\" >Excelente</td>\n",
       "      <td id=\"T_aa73f_row19_col9\" class=\"data row19 col9\" >Excelente</td>\n",
       "      <td id=\"T_aa73f_row19_col10\" class=\"data row19 col10\" >Excelente</td>\n",
       "    </tr>\n",
       "    <tr>\n",
       "      <th id=\"T_aa73f_level0_row20\" class=\"row_heading level0 row20\" >390</th>\n",
       "      <td id=\"T_aa73f_row20_col0\" class=\"data row20 col0\" >Vitru Brasil Empreendimentos, Participações e Comércio S.A. (BOVESPA:VTRU3)</td>\n",
       "      <td id=\"T_aa73f_row20_col1\" class=\"data row20 col1\" >VTRU3</td>\n",
       "      <td id=\"T_aa73f_row20_col2\" class=\"data row20 col2\" >Consumer Discretionary</td>\n",
       "      <td id=\"T_aa73f_row20_col3\" class=\"data row20 col3\" >7.000000</td>\n",
       "      <td id=\"T_aa73f_row20_col4\" class=\"data row20 col4\" >Boa</td>\n",
       "      <td id=\"T_aa73f_row20_col5\" class=\"data row20 col5\" >Excelente</td>\n",
       "      <td id=\"T_aa73f_row20_col6\" class=\"data row20 col6\" >Excelente</td>\n",
       "      <td id=\"T_aa73f_row20_col7\" class=\"data row20 col7\" >Excelente</td>\n",
       "      <td id=\"T_aa73f_row20_col8\" class=\"data row20 col8\" >Ruim</td>\n",
       "      <td id=\"T_aa73f_row20_col9\" class=\"data row20 col9\" >Boa</td>\n",
       "      <td id=\"T_aa73f_row20_col10\" class=\"data row20 col10\" >Boa</td>\n",
       "    </tr>\n",
       "    <tr>\n",
       "      <th id=\"T_aa73f_level0_row21\" class=\"row_heading level0 row21\" >366</th>\n",
       "      <td id=\"T_aa73f_row21_col0\" class=\"data row21 col0\" >Track & Field Co S.A. (BOVESPA:TFCO4)</td>\n",
       "      <td id=\"T_aa73f_row21_col1\" class=\"data row21 col1\" >TFCO4</td>\n",
       "      <td id=\"T_aa73f_row21_col2\" class=\"data row21 col2\" >Consumer Discretionary</td>\n",
       "      <td id=\"T_aa73f_row21_col3\" class=\"data row21 col3\" >6.000000</td>\n",
       "      <td id=\"T_aa73f_row21_col4\" class=\"data row21 col4\" >Boa</td>\n",
       "      <td id=\"T_aa73f_row21_col5\" class=\"data row21 col5\" >Boa</td>\n",
       "      <td id=\"T_aa73f_row21_col6\" class=\"data row21 col6\" >Excelente</td>\n",
       "      <td id=\"T_aa73f_row21_col7\" class=\"data row21 col7\" >Péssima</td>\n",
       "      <td id=\"T_aa73f_row21_col8\" class=\"data row21 col8\" >Excelente</td>\n",
       "      <td id=\"T_aa73f_row21_col9\" class=\"data row21 col9\" >Excelente</td>\n",
       "      <td id=\"T_aa73f_row21_col10\" class=\"data row21 col10\" >Boa</td>\n",
       "    </tr>\n",
       "    <tr>\n",
       "      <th id=\"T_aa73f_level0_row22\" class=\"row_heading level0 row22\" >364</th>\n",
       "      <td id=\"T_aa73f_row22_col0\" class=\"data row22 col0\" >TIM S.A. (BOVESPA:TIMS3)</td>\n",
       "      <td id=\"T_aa73f_row22_col1\" class=\"data row22 col1\" >TIMS3</td>\n",
       "      <td id=\"T_aa73f_row22_col2\" class=\"data row22 col2\" >Communication Services</td>\n",
       "      <td id=\"T_aa73f_row22_col3\" class=\"data row22 col3\" >6.000000</td>\n",
       "      <td id=\"T_aa73f_row22_col4\" class=\"data row22 col4\" >Boa</td>\n",
       "      <td id=\"T_aa73f_row22_col5\" class=\"data row22 col5\" >Boa</td>\n",
       "      <td id=\"T_aa73f_row22_col6\" class=\"data row22 col6\" >Excelente</td>\n",
       "      <td id=\"T_aa73f_row22_col7\" class=\"data row22 col7\" >Ruim</td>\n",
       "      <td id=\"T_aa73f_row22_col8\" class=\"data row22 col8\" >Excelente</td>\n",
       "      <td id=\"T_aa73f_row22_col9\" class=\"data row22 col9\" >Boa</td>\n",
       "      <td id=\"T_aa73f_row22_col10\" class=\"data row22 col10\" >Boa</td>\n",
       "    </tr>\n",
       "    <tr>\n",
       "      <th id=\"T_aa73f_level0_row23\" class=\"row_heading level0 row23\" >333</th>\n",
       "      <td id=\"T_aa73f_row23_col0\" class=\"data row23 col0\" >São Paulo Turismo S.A. (BOVESPA:AHEB3)</td>\n",
       "      <td id=\"T_aa73f_row23_col1\" class=\"data row23 col1\" >AHEB3</td>\n",
       "      <td id=\"T_aa73f_row23_col2\" class=\"data row23 col2\" >Consumer Discretionary</td>\n",
       "      <td id=\"T_aa73f_row23_col3\" class=\"data row23 col3\" >6.000000</td>\n",
       "      <td id=\"T_aa73f_row23_col4\" class=\"data row23 col4\" >Boa</td>\n",
       "      <td id=\"T_aa73f_row23_col5\" class=\"data row23 col5\" >Excelente</td>\n",
       "      <td id=\"T_aa73f_row23_col6\" class=\"data row23 col6\" >Ok</td>\n",
       "      <td id=\"T_aa73f_row23_col7\" class=\"data row23 col7\" >Excelente</td>\n",
       "      <td id=\"T_aa73f_row23_col8\" class=\"data row23 col8\" >Ok</td>\n",
       "      <td id=\"T_aa73f_row23_col9\" class=\"data row23 col9\" >Excelente</td>\n",
       "      <td id=\"T_aa73f_row23_col10\" class=\"data row23 col10\" >Ok</td>\n",
       "    </tr>\n",
       "    <tr>\n",
       "      <th id=\"T_aa73f_level0_row24\" class=\"row_heading level0 row24\" >279</th>\n",
       "      <td id=\"T_aa73f_row24_col0\" class=\"data row24 col0\" >Odontoprev S.A. (BOVESPA:ODPV3)</td>\n",
       "      <td id=\"T_aa73f_row24_col1\" class=\"data row24 col1\" >ODPV3</td>\n",
       "      <td id=\"T_aa73f_row24_col2\" class=\"data row24 col2\" >Health Care</td>\n",
       "      <td id=\"T_aa73f_row24_col3\" class=\"data row24 col3\" >6.000000</td>\n",
       "      <td id=\"T_aa73f_row24_col4\" class=\"data row24 col4\" >Boa</td>\n",
       "      <td id=\"T_aa73f_row24_col5\" class=\"data row24 col5\" >Boa</td>\n",
       "      <td id=\"T_aa73f_row24_col6\" class=\"data row24 col6\" >Excelente</td>\n",
       "      <td id=\"T_aa73f_row24_col7\" class=\"data row24 col7\" >Ruim</td>\n",
       "      <td id=\"T_aa73f_row24_col8\" class=\"data row24 col8\" >Excelente</td>\n",
       "      <td id=\"T_aa73f_row24_col9\" class=\"data row24 col9\" >Boa</td>\n",
       "      <td id=\"T_aa73f_row24_col10\" class=\"data row24 col10\" >Boa</td>\n",
       "    </tr>\n",
       "    <tr>\n",
       "      <th id=\"T_aa73f_level0_row25\" class=\"row_heading level0 row25\" >131</th>\n",
       "      <td id=\"T_aa73f_row25_col0\" class=\"data row25 col0\" >Direcional Engenharia S.A. (BOVESPA:DIRR3)</td>\n",
       "      <td id=\"T_aa73f_row25_col1\" class=\"data row25 col1\" >DIRR3</td>\n",
       "      <td id=\"T_aa73f_row25_col2\" class=\"data row25 col2\" >Consumer Discretionary</td>\n",
       "      <td id=\"T_aa73f_row25_col3\" class=\"data row25 col3\" >6.000000</td>\n",
       "      <td id=\"T_aa73f_row25_col4\" class=\"data row25 col4\" >Boa</td>\n",
       "      <td id=\"T_aa73f_row25_col5\" class=\"data row25 col5\" >Excelente</td>\n",
       "      <td id=\"T_aa73f_row25_col6\" class=\"data row25 col6\" >Excelente</td>\n",
       "      <td id=\"T_aa73f_row25_col7\" class=\"data row25 col7\" >Péssima</td>\n",
       "      <td id=\"T_aa73f_row25_col8\" class=\"data row25 col8\" >Boa</td>\n",
       "      <td id=\"T_aa73f_row25_col9\" class=\"data row25 col9\" >Boa</td>\n",
       "      <td id=\"T_aa73f_row25_col10\" class=\"data row25 col10\" >Excelente</td>\n",
       "    </tr>\n",
       "    <tr>\n",
       "      <th id=\"T_aa73f_level0_row26\" class=\"row_heading level0 row26\" >226</th>\n",
       "      <td id=\"T_aa73f_row26_col0\" class=\"data row26 col0\" >Lavvi Empreendimentos Imobiliários S.A. (BOVESPA:LAVV3)</td>\n",
       "      <td id=\"T_aa73f_row26_col1\" class=\"data row26 col1\" >LAVV3</td>\n",
       "      <td id=\"T_aa73f_row26_col2\" class=\"data row26 col2\" >Real Estate</td>\n",
       "      <td id=\"T_aa73f_row26_col3\" class=\"data row26 col3\" >6.000000</td>\n",
       "      <td id=\"T_aa73f_row26_col4\" class=\"data row26 col4\" >Boa</td>\n",
       "      <td id=\"T_aa73f_row26_col5\" class=\"data row26 col5\" >Excelente</td>\n",
       "      <td id=\"T_aa73f_row26_col6\" class=\"data row26 col6\" >Ruim</td>\n",
       "      <td id=\"T_aa73f_row26_col7\" class=\"data row26 col7\" >Ok</td>\n",
       "      <td id=\"T_aa73f_row26_col8\" class=\"data row26 col8\" >Boa</td>\n",
       "      <td id=\"T_aa73f_row26_col9\" class=\"data row26 col9\" >Excelente</td>\n",
       "      <td id=\"T_aa73f_row26_col10\" class=\"data row26 col10\" >Excelente</td>\n",
       "    </tr>\n",
       "    <tr>\n",
       "      <th id=\"T_aa73f_level0_row27\" class=\"row_heading level0 row27\" >128</th>\n",
       "      <td id=\"T_aa73f_row27_col0\" class=\"data row27 col0\" >Dexxos Participações S.A. (BOVESPA:DEXP3)</td>\n",
       "      <td id=\"T_aa73f_row27_col1\" class=\"data row27 col1\" >DEXP3</td>\n",
       "      <td id=\"T_aa73f_row27_col2\" class=\"data row27 col2\" >Materials</td>\n",
       "      <td id=\"T_aa73f_row27_col3\" class=\"data row27 col3\" >6.000000</td>\n",
       "      <td id=\"T_aa73f_row27_col4\" class=\"data row27 col4\" >Boa</td>\n",
       "      <td id=\"T_aa73f_row27_col5\" class=\"data row27 col5\" >Ruim</td>\n",
       "      <td id=\"T_aa73f_row27_col6\" class=\"data row27 col6\" >Ok</td>\n",
       "      <td id=\"T_aa73f_row27_col7\" class=\"data row27 col7\" >Excelente</td>\n",
       "      <td id=\"T_aa73f_row27_col8\" class=\"data row27 col8\" >Boa</td>\n",
       "      <td id=\"T_aa73f_row27_col9\" class=\"data row27 col9\" >Excelente</td>\n",
       "      <td id=\"T_aa73f_row27_col10\" class=\"data row27 col10\" >Excelente</td>\n",
       "    </tr>\n",
       "    <tr>\n",
       "      <th id=\"T_aa73f_level0_row28\" class=\"row_heading level0 row28\" >157</th>\n",
       "      <td id=\"T_aa73f_row28_col0\" class=\"data row28 col0\" >Excelsior Alimentos S.A. (BOVESPA:BAUH4)</td>\n",
       "      <td id=\"T_aa73f_row28_col1\" class=\"data row28 col1\" >BAUH4</td>\n",
       "      <td id=\"T_aa73f_row28_col2\" class=\"data row28 col2\" >Consumer Staples</td>\n",
       "      <td id=\"T_aa73f_row28_col3\" class=\"data row28 col3\" >6.000000</td>\n",
       "      <td id=\"T_aa73f_row28_col4\" class=\"data row28 col4\" >Boa</td>\n",
       "      <td id=\"T_aa73f_row28_col5\" class=\"data row28 col5\" >Boa</td>\n",
       "      <td id=\"T_aa73f_row28_col6\" class=\"data row28 col6\" >Excelente</td>\n",
       "      <td id=\"T_aa73f_row28_col7\" class=\"data row28 col7\" >Péssima</td>\n",
       "      <td id=\"T_aa73f_row28_col8\" class=\"data row28 col8\" >Excelente</td>\n",
       "      <td id=\"T_aa73f_row28_col9\" class=\"data row28 col9\" >Excelente</td>\n",
       "      <td id=\"T_aa73f_row28_col10\" class=\"data row28 col10\" >Boa</td>\n",
       "    </tr>\n",
       "    <tr>\n",
       "      <th id=\"T_aa73f_level0_row29\" class=\"row_heading level0 row29\" >99</th>\n",
       "      <td id=\"T_aa73f_row29_col0\" class=\"data row29 col0\" >Companhia de Saneamento do Paraná - SANEPAR (BOVESPA:SAPR4)</td>\n",
       "      <td id=\"T_aa73f_row29_col1\" class=\"data row29 col1\" >SAPR4</td>\n",
       "      <td id=\"T_aa73f_row29_col2\" class=\"data row29 col2\" >Utilities</td>\n",
       "      <td id=\"T_aa73f_row29_col3\" class=\"data row29 col3\" >6.000000</td>\n",
       "      <td id=\"T_aa73f_row29_col4\" class=\"data row29 col4\" >Boa</td>\n",
       "      <td id=\"T_aa73f_row29_col5\" class=\"data row29 col5\" >Boa</td>\n",
       "      <td id=\"T_aa73f_row29_col6\" class=\"data row29 col6\" >Excelente</td>\n",
       "      <td id=\"T_aa73f_row29_col7\" class=\"data row29 col7\" >Excelente</td>\n",
       "      <td id=\"T_aa73f_row29_col8\" class=\"data row29 col8\" >Ok</td>\n",
       "      <td id=\"T_aa73f_row29_col9\" class=\"data row29 col9\" >Ok</td>\n",
       "      <td id=\"T_aa73f_row29_col10\" class=\"data row29 col10\" >Boa</td>\n",
       "    </tr>\n",
       "  </tbody>\n",
       "</table>\n"
      ],
      "text/plain": [
       "<pandas.io.formats.style.Styler at 0x294e78e5f90>"
      ]
     },
     "metadata": {},
     "output_type": "display_data"
    },
    {
     "name": "stderr",
     "output_type": "stream",
     "text": [
      "C:\\Users\\Augusto\\AppData\\Local\\Temp\\ipykernel_23312\\1267721564.py:59: FutureWarning:\n",
      "\n",
      "DataFrame.applymap has been deprecated. Use DataFrame.map instead.\n",
      "\n"
     ]
    },
    {
     "data": {
      "application/vnd.plotly.v1+json": {
       "config": {
        "plotlyServerURL": "https://plot.ly"
       },
       "data": [
        {
         "colorbar": {
          "ticktext": [
           "Péssima",
           "Ruim",
           "Ok",
           "Boa",
           "Excelente"
          ],
          "tickvals": [
           -2,
           -1,
           0,
           1,
           2
          ],
          "title": {
           "text": "Score"
          }
         },
         "colorscale": [
          [
           0,
           "#ff765e"
          ],
          [
           0.25,
           "#c9df01"
          ],
          [
           0.5,
           "#ffffe0"
          ],
          [
           0.75,
           "#009e5c"
          ],
          [
           1,
           "#00641E"
          ]
         ],
         "text": {
          "bdata": "AgICAgIBAgIAAgICAgICAgL/AQECAgACAgAAAgICAgH/AgICAQICAQEBAQACAgECAQICAQACAgL+AgIBAQIAAgEBAgL/AgEB/wIAAgICAgL/AgEBAQL/AgECAgL+AgIBAAIAAgIB/wICAQIBAAIBAgIAAgH+AgICAgIC/wEBAQL+AgIBAQL/AgEBAgACAAIAAQL/AgEBAgL+AQECAv8AAQIC/wACAQICAQL+AgIBAQICAAAB",
          "dtype": "i1",
          "shape": "30, 6"
         },
         "textfont": {
          "size": 9
         },
         "texttemplate": "%{text}",
         "type": "heatmap",
         "x": [
          "CAGR",
          "Margins",
          "Múltiplos",
          "Qualidade",
          "Rentabilidade",
          "Dividendos"
         ],
         "y": [
          "Baumer S.A. (BOVESPA:BALM4)",
          "Mills Locação, Serviços e Logística S.A. (BOVESPA:MILS3)",
          "Electro Aço Altona S.A. (BOVESPA:EALT4)",
          "Eucatex S.A. Indústria e Comércio (BOVESPA:EUCA4)",
          "Whirlpool S.A. (BOVESPA:WHRL4)",
          "Marcopolo S.A. (BOVESPA:POMO4)",
          "MRS Logística S.A. (BOVESPA:MRSA3B)",
          "Companhia Energética de Minas Gerais - CEMIG (BOVESPA:CMIG4)",
          "ISA Energía Brasil S.A. (BOVESPA:ISAE4)",
          "Caixa Seguridade Participações S.A. (BOVESPA:CXSE3)",
          "Grendene S.A. (BOVESPA:GRND3)",
          "Fleury S.A. (BOVESPA:FLRY3)",
          "Cambuci S.A. (BOVESPA:CAMB3)",
          "Companhia de Saneamento Básico do Estado de São Paulo - SABESP (BOVESPA:SBSP3)",
          "BB Seguridade Participações S.A. (BOVESPA:BBSE3)",
          "Cury Construtora e Incorporadora S.A. (BOVESPA:CURY3)",
          "Ouro Fino Saúde Animal Participações S.A. (BOVESPA:OFSA3)",
          "Metalúrgica Riosulense S.A. (BOVESPA:RSUL4)",
          "Blau Farmacêutica S.A. (BOVESPA:BLAU3)",
          "Plano & Plano Desenvolvimento Imobiliário S.A. (BOVESPA:PLPL3)",
          "Vitru Brasil Empreendimentos, Participações e Comércio S.A. (BOVESPA:VTRU3)",
          "Track & Field Co S.A. (BOVESPA:TFCO4)",
          "TIM S.A. (BOVESPA:TIMS3)",
          "São Paulo Turismo S.A. (BOVESPA:AHEB3)",
          "Odontoprev S.A. (BOVESPA:ODPV3)",
          "Direcional Engenharia S.A. (BOVESPA:DIRR3)",
          "Lavvi Empreendimentos Imobiliários S.A. (BOVESPA:LAVV3)",
          "Dexxos Participações S.A. (BOVESPA:DEXP3)",
          "Excelsior Alimentos S.A. (BOVESPA:BAUH4)",
          "Companhia de Saneamento do Paraná - SANEPAR (BOVESPA:SAPR4)"
         ],
         "z": {
          "bdata": "AgICAgIBAgIAAgICAgICAgL/AQECAgACAgAAAgICAgH/AgICAQICAQEBAQACAgECAQICAQACAgL+AgIBAQIAAgEBAgL/AgEB/wIAAgICAgL/AgEBAQL/AgECAgL+AgIBAAIAAgIB/wICAQIBAAIBAgIAAgH+AgICAgIC/wEBAQL+AgIBAQL/AgEBAgACAAIAAQL/AgEBAgL+AQECAv8AAQIC/wACAQICAQL+AgIBAQICAAAB",
          "dtype": "i1",
          "shape": "30, 6"
         }
        }
       ],
       "layout": {
        "height": 900,
        "template": {
         "data": {
          "bar": [
           {
            "error_x": {
             "color": "#2a3f5f"
            },
            "error_y": {
             "color": "#2a3f5f"
            },
            "marker": {
             "line": {
              "color": "white",
              "width": 0.5
             },
             "pattern": {
              "fillmode": "overlay",
              "size": 10,
              "solidity": 0.2
             }
            },
            "type": "bar"
           }
          ],
          "barpolar": [
           {
            "marker": {
             "line": {
              "color": "white",
              "width": 0.5
             },
             "pattern": {
              "fillmode": "overlay",
              "size": 10,
              "solidity": 0.2
             }
            },
            "type": "barpolar"
           }
          ],
          "carpet": [
           {
            "aaxis": {
             "endlinecolor": "#2a3f5f",
             "gridcolor": "#C8D4E3",
             "linecolor": "#C8D4E3",
             "minorgridcolor": "#C8D4E3",
             "startlinecolor": "#2a3f5f"
            },
            "baxis": {
             "endlinecolor": "#2a3f5f",
             "gridcolor": "#C8D4E3",
             "linecolor": "#C8D4E3",
             "minorgridcolor": "#C8D4E3",
             "startlinecolor": "#2a3f5f"
            },
            "type": "carpet"
           }
          ],
          "choropleth": [
           {
            "colorbar": {
             "outlinewidth": 0,
             "ticks": ""
            },
            "type": "choropleth"
           }
          ],
          "contour": [
           {
            "colorbar": {
             "outlinewidth": 0,
             "ticks": ""
            },
            "colorscale": [
             [
              0,
              "#0d0887"
             ],
             [
              0.1111111111111111,
              "#46039f"
             ],
             [
              0.2222222222222222,
              "#7201a8"
             ],
             [
              0.3333333333333333,
              "#9c179e"
             ],
             [
              0.4444444444444444,
              "#bd3786"
             ],
             [
              0.5555555555555556,
              "#d8576b"
             ],
             [
              0.6666666666666666,
              "#ed7953"
             ],
             [
              0.7777777777777778,
              "#fb9f3a"
             ],
             [
              0.8888888888888888,
              "#fdca26"
             ],
             [
              1,
              "#f0f921"
             ]
            ],
            "type": "contour"
           }
          ],
          "contourcarpet": [
           {
            "colorbar": {
             "outlinewidth": 0,
             "ticks": ""
            },
            "type": "contourcarpet"
           }
          ],
          "heatmap": [
           {
            "colorbar": {
             "outlinewidth": 0,
             "ticks": ""
            },
            "colorscale": [
             [
              0,
              "#0d0887"
             ],
             [
              0.1111111111111111,
              "#46039f"
             ],
             [
              0.2222222222222222,
              "#7201a8"
             ],
             [
              0.3333333333333333,
              "#9c179e"
             ],
             [
              0.4444444444444444,
              "#bd3786"
             ],
             [
              0.5555555555555556,
              "#d8576b"
             ],
             [
              0.6666666666666666,
              "#ed7953"
             ],
             [
              0.7777777777777778,
              "#fb9f3a"
             ],
             [
              0.8888888888888888,
              "#fdca26"
             ],
             [
              1,
              "#f0f921"
             ]
            ],
            "type": "heatmap"
           }
          ],
          "histogram": [
           {
            "marker": {
             "pattern": {
              "fillmode": "overlay",
              "size": 10,
              "solidity": 0.2
             }
            },
            "type": "histogram"
           }
          ],
          "histogram2d": [
           {
            "colorbar": {
             "outlinewidth": 0,
             "ticks": ""
            },
            "colorscale": [
             [
              0,
              "#0d0887"
             ],
             [
              0.1111111111111111,
              "#46039f"
             ],
             [
              0.2222222222222222,
              "#7201a8"
             ],
             [
              0.3333333333333333,
              "#9c179e"
             ],
             [
              0.4444444444444444,
              "#bd3786"
             ],
             [
              0.5555555555555556,
              "#d8576b"
             ],
             [
              0.6666666666666666,
              "#ed7953"
             ],
             [
              0.7777777777777778,
              "#fb9f3a"
             ],
             [
              0.8888888888888888,
              "#fdca26"
             ],
             [
              1,
              "#f0f921"
             ]
            ],
            "type": "histogram2d"
           }
          ],
          "histogram2dcontour": [
           {
            "colorbar": {
             "outlinewidth": 0,
             "ticks": ""
            },
            "colorscale": [
             [
              0,
              "#0d0887"
             ],
             [
              0.1111111111111111,
              "#46039f"
             ],
             [
              0.2222222222222222,
              "#7201a8"
             ],
             [
              0.3333333333333333,
              "#9c179e"
             ],
             [
              0.4444444444444444,
              "#bd3786"
             ],
             [
              0.5555555555555556,
              "#d8576b"
             ],
             [
              0.6666666666666666,
              "#ed7953"
             ],
             [
              0.7777777777777778,
              "#fb9f3a"
             ],
             [
              0.8888888888888888,
              "#fdca26"
             ],
             [
              1,
              "#f0f921"
             ]
            ],
            "type": "histogram2dcontour"
           }
          ],
          "mesh3d": [
           {
            "colorbar": {
             "outlinewidth": 0,
             "ticks": ""
            },
            "type": "mesh3d"
           }
          ],
          "parcoords": [
           {
            "line": {
             "colorbar": {
              "outlinewidth": 0,
              "ticks": ""
             }
            },
            "type": "parcoords"
           }
          ],
          "pie": [
           {
            "automargin": true,
            "type": "pie"
           }
          ],
          "scatter": [
           {
            "fillpattern": {
             "fillmode": "overlay",
             "size": 10,
             "solidity": 0.2
            },
            "type": "scatter"
           }
          ],
          "scatter3d": [
           {
            "line": {
             "colorbar": {
              "outlinewidth": 0,
              "ticks": ""
             }
            },
            "marker": {
             "colorbar": {
              "outlinewidth": 0,
              "ticks": ""
             }
            },
            "type": "scatter3d"
           }
          ],
          "scattercarpet": [
           {
            "marker": {
             "colorbar": {
              "outlinewidth": 0,
              "ticks": ""
             }
            },
            "type": "scattercarpet"
           }
          ],
          "scattergeo": [
           {
            "marker": {
             "colorbar": {
              "outlinewidth": 0,
              "ticks": ""
             }
            },
            "type": "scattergeo"
           }
          ],
          "scattergl": [
           {
            "marker": {
             "colorbar": {
              "outlinewidth": 0,
              "ticks": ""
             }
            },
            "type": "scattergl"
           }
          ],
          "scattermap": [
           {
            "marker": {
             "colorbar": {
              "outlinewidth": 0,
              "ticks": ""
             }
            },
            "type": "scattermap"
           }
          ],
          "scattermapbox": [
           {
            "marker": {
             "colorbar": {
              "outlinewidth": 0,
              "ticks": ""
             }
            },
            "type": "scattermapbox"
           }
          ],
          "scatterpolar": [
           {
            "marker": {
             "colorbar": {
              "outlinewidth": 0,
              "ticks": ""
             }
            },
            "type": "scatterpolar"
           }
          ],
          "scatterpolargl": [
           {
            "marker": {
             "colorbar": {
              "outlinewidth": 0,
              "ticks": ""
             }
            },
            "type": "scatterpolargl"
           }
          ],
          "scatterternary": [
           {
            "marker": {
             "colorbar": {
              "outlinewidth": 0,
              "ticks": ""
             }
            },
            "type": "scatterternary"
           }
          ],
          "surface": [
           {
            "colorbar": {
             "outlinewidth": 0,
             "ticks": ""
            },
            "colorscale": [
             [
              0,
              "#0d0887"
             ],
             [
              0.1111111111111111,
              "#46039f"
             ],
             [
              0.2222222222222222,
              "#7201a8"
             ],
             [
              0.3333333333333333,
              "#9c179e"
             ],
             [
              0.4444444444444444,
              "#bd3786"
             ],
             [
              0.5555555555555556,
              "#d8576b"
             ],
             [
              0.6666666666666666,
              "#ed7953"
             ],
             [
              0.7777777777777778,
              "#fb9f3a"
             ],
             [
              0.8888888888888888,
              "#fdca26"
             ],
             [
              1,
              "#f0f921"
             ]
            ],
            "type": "surface"
           }
          ],
          "table": [
           {
            "cells": {
             "fill": {
              "color": "#EBF0F8"
             },
             "line": {
              "color": "white"
             }
            },
            "header": {
             "fill": {
              "color": "#C8D4E3"
             },
             "line": {
              "color": "white"
             }
            },
            "type": "table"
           }
          ]
         },
         "layout": {
          "annotationdefaults": {
           "arrowcolor": "#2a3f5f",
           "arrowhead": 0,
           "arrowwidth": 1
          },
          "autotypenumbers": "strict",
          "coloraxis": {
           "colorbar": {
            "outlinewidth": 0,
            "ticks": ""
           }
          },
          "colorscale": {
           "diverging": [
            [
             0,
             "#8e0152"
            ],
            [
             0.1,
             "#c51b7d"
            ],
            [
             0.2,
             "#de77ae"
            ],
            [
             0.3,
             "#f1b6da"
            ],
            [
             0.4,
             "#fde0ef"
            ],
            [
             0.5,
             "#f7f7f7"
            ],
            [
             0.6,
             "#e6f5d0"
            ],
            [
             0.7,
             "#b8e186"
            ],
            [
             0.8,
             "#7fbc41"
            ],
            [
             0.9,
             "#4d9221"
            ],
            [
             1,
             "#276419"
            ]
           ],
           "sequential": [
            [
             0,
             "#0d0887"
            ],
            [
             0.1111111111111111,
             "#46039f"
            ],
            [
             0.2222222222222222,
             "#7201a8"
            ],
            [
             0.3333333333333333,
             "#9c179e"
            ],
            [
             0.4444444444444444,
             "#bd3786"
            ],
            [
             0.5555555555555556,
             "#d8576b"
            ],
            [
             0.6666666666666666,
             "#ed7953"
            ],
            [
             0.7777777777777778,
             "#fb9f3a"
            ],
            [
             0.8888888888888888,
             "#fdca26"
            ],
            [
             1,
             "#f0f921"
            ]
           ],
           "sequentialminus": [
            [
             0,
             "#0d0887"
            ],
            [
             0.1111111111111111,
             "#46039f"
            ],
            [
             0.2222222222222222,
             "#7201a8"
            ],
            [
             0.3333333333333333,
             "#9c179e"
            ],
            [
             0.4444444444444444,
             "#bd3786"
            ],
            [
             0.5555555555555556,
             "#d8576b"
            ],
            [
             0.6666666666666666,
             "#ed7953"
            ],
            [
             0.7777777777777778,
             "#fb9f3a"
            ],
            [
             0.8888888888888888,
             "#fdca26"
            ],
            [
             1,
             "#f0f921"
            ]
           ]
          },
          "colorway": [
           "#636efa",
           "#EF553B",
           "#00cc96",
           "#ab63fa",
           "#FFA15A",
           "#19d3f3",
           "#FF6692",
           "#B6E880",
           "#FF97FF",
           "#FECB52"
          ],
          "font": {
           "color": "#2a3f5f"
          },
          "geo": {
           "bgcolor": "white",
           "lakecolor": "white",
           "landcolor": "white",
           "showlakes": true,
           "showland": true,
           "subunitcolor": "#C8D4E3"
          },
          "hoverlabel": {
           "align": "left"
          },
          "hovermode": "closest",
          "mapbox": {
           "style": "light"
          },
          "paper_bgcolor": "white",
          "plot_bgcolor": "white",
          "polar": {
           "angularaxis": {
            "gridcolor": "#EBF0F8",
            "linecolor": "#EBF0F8",
            "ticks": ""
           },
           "bgcolor": "white",
           "radialaxis": {
            "gridcolor": "#EBF0F8",
            "linecolor": "#EBF0F8",
            "ticks": ""
           }
          },
          "scene": {
           "xaxis": {
            "backgroundcolor": "white",
            "gridcolor": "#DFE8F3",
            "gridwidth": 2,
            "linecolor": "#EBF0F8",
            "showbackground": true,
            "ticks": "",
            "zerolinecolor": "#EBF0F8"
           },
           "yaxis": {
            "backgroundcolor": "white",
            "gridcolor": "#DFE8F3",
            "gridwidth": 2,
            "linecolor": "#EBF0F8",
            "showbackground": true,
            "ticks": "",
            "zerolinecolor": "#EBF0F8"
           },
           "zaxis": {
            "backgroundcolor": "white",
            "gridcolor": "#DFE8F3",
            "gridwidth": 2,
            "linecolor": "#EBF0F8",
            "showbackground": true,
            "ticks": "",
            "zerolinecolor": "#EBF0F8"
           }
          },
          "shapedefaults": {
           "line": {
            "color": "#2a3f5f"
           }
          },
          "ternary": {
           "aaxis": {
            "gridcolor": "#DFE8F3",
            "linecolor": "#A2B1C6",
            "ticks": ""
           },
           "baxis": {
            "gridcolor": "#DFE8F3",
            "linecolor": "#A2B1C6",
            "ticks": ""
           },
           "bgcolor": "white",
           "caxis": {
            "gridcolor": "#DFE8F3",
            "linecolor": "#A2B1C6",
            "ticks": ""
           }
          },
          "title": {
           "x": 0.05
          },
          "xaxis": {
           "automargin": true,
           "gridcolor": "#EBF0F8",
           "linecolor": "#EBF0F8",
           "ticks": "",
           "title": {
            "standoff": 15
           },
           "zerolinecolor": "#EBF0F8",
           "zerolinewidth": 2
          },
          "yaxis": {
           "automargin": true,
           "gridcolor": "#EBF0F8",
           "linecolor": "#EBF0F8",
           "ticks": "",
           "title": {
            "standoff": 15
           },
           "zerolinecolor": "#EBF0F8",
           "zerolinewidth": 2
          }
         }
        },
        "title": {
         "font": {
          "size": 16
         },
         "text": "Pontos Fortes e Fracos das Top 30 Empresas (com Dividendos)"
        },
        "xaxis": {
         "title": {
          "text": "Pilar"
         }
        },
        "yaxis": {
         "title": {
          "text": "Empresa"
         }
        }
       }
      }
     },
     "metadata": {},
     "output_type": "display_data"
    },
    {
     "name": "stdout",
     "output_type": "stream",
     "text": [
      "\n",
      "🏭 Análise Setorial:\n"
     ]
    },
    {
     "data": {
      "application/vnd.plotly.v1+json": {
       "config": {
        "plotlyServerURL": "https://plot.ly"
       },
       "data": [
        {
         "hovertemplate": "<b>%{y}</b><br>ROE: %{x:.1f}%<extra></extra>",
         "marker": {
          "color": "#7b68ee"
         },
         "orientation": "h",
         "showlegend": false,
         "text": [
          "18.5%",
          "16.9%",
          "14.7%",
          "10.0%",
          "9.8%",
          "9.4%",
          "9.3%",
          "8.7%",
          "8.4%",
          "7.0%",
          "1.1%"
         ],
         "textposition": "outside",
         "type": "bar",
         "x": {
          "bdata": "exSuR+F6MkDsUbgeheswQKRwPQrXYy1Aj8L1KFwPJECkcD0K16MjQD0K16NwvSJAH4XrUbieIkD2KFyPwnUhQOF6FK5H4SBA16NwPQrXG0A0MzMzMzPxPw==",
          "dtype": "f8"
         },
         "xaxis": "x",
         "y": [
          "Energy",
          "Utilities",
          "Financials",
          "Consumer Discretionary",
          "Materials",
          "Consumer Staples",
          "Industrials",
          "Communication Services",
          "Real Estate",
          "Health Care",
          "Information Technology"
         ],
         "yaxis": "y"
        },
        {
         "hovertemplate": "<b>%{y}</b><br>Dívida/EBITDA: %{x:.1f}x<extra></extra>",
         "marker": {
          "color": "#65c99f"
         },
         "orientation": "h",
         "showlegend": false,
         "text": [
          "0.5x",
          "1.3x",
          "1.7x",
          "2.1x",
          "2.1x",
          "3.0x",
          "3.1x",
          "3.1x",
          "3.4x",
          "3.7x",
          "3.9x"
         ],
         "textposition": "outside",
         "type": "bar",
         "x": {
          "bdata": "exSuR+F64D+G61G4HoX1P4XrUbgehfs/16NwPQrXAEAK16NwPQoBQClcj8L1KAhAexSuR+F6CED2KFyPwvUIQPYoXI/C9QpApHA9CtejDUDNzMzMzMwOQA==",
          "dtype": "f8"
         },
         "xaxis": "x2",
         "y": [
          "Financials",
          "Communication Services",
          "Energy",
          "Materials",
          "Information Technology",
          "Consumer Staples",
          "Utilities",
          "Consumer Discretionary",
          "Health Care",
          "Real Estate",
          "Industrials"
         ],
         "yaxis": "y2"
        }
       ],
       "layout": {
        "annotations": [
         {
          "font": {
           "size": 16
          },
          "showarrow": false,
          "text": "ROE Mediano",
          "x": 0.2125,
          "xanchor": "center",
          "xref": "paper",
          "y": 1,
          "yanchor": "bottom",
          "yref": "paper"
         },
         {
          "font": {
           "size": 16
          },
          "showarrow": false,
          "text": "Setores - Menor Endividamento",
          "x": 0.7875,
          "xanchor": "center",
          "xref": "paper",
          "y": 1,
          "yanchor": "bottom",
          "yref": "paper"
         },
         {
          "showarrow": false,
          "text": "Mediana Geral",
          "x": 10.055,
          "xanchor": "left",
          "xref": "x",
          "y": 1,
          "yanchor": "top",
          "yref": "y domain"
         },
         {
          "showarrow": false,
          "text": "Mediana Geral",
          "x": 3.035,
          "xanchor": "left",
          "xref": "x2",
          "y": 1,
          "yanchor": "top",
          "yref": "y2 domain"
         }
        ],
        "height": 700,
        "shapes": [
         {
          "line": {
           "color": "red",
           "dash": "dash"
          },
          "type": "line",
          "x0": 10.055,
          "x1": 10.055,
          "xref": "x",
          "y0": 0,
          "y1": 1,
          "yref": "y domain"
         },
         {
          "line": {
           "color": "red",
           "dash": "dash"
          },
          "type": "line",
          "x0": 3.035,
          "x1": 3.035,
          "xref": "x2",
          "y0": 0,
          "y1": 1,
          "yref": "y2 domain"
         }
        ],
        "template": {
         "data": {
          "bar": [
           {
            "error_x": {
             "color": "#2a3f5f"
            },
            "error_y": {
             "color": "#2a3f5f"
            },
            "marker": {
             "line": {
              "color": "white",
              "width": 0.5
             },
             "pattern": {
              "fillmode": "overlay",
              "size": 10,
              "solidity": 0.2
             }
            },
            "type": "bar"
           }
          ],
          "barpolar": [
           {
            "marker": {
             "line": {
              "color": "white",
              "width": 0.5
             },
             "pattern": {
              "fillmode": "overlay",
              "size": 10,
              "solidity": 0.2
             }
            },
            "type": "barpolar"
           }
          ],
          "carpet": [
           {
            "aaxis": {
             "endlinecolor": "#2a3f5f",
             "gridcolor": "#C8D4E3",
             "linecolor": "#C8D4E3",
             "minorgridcolor": "#C8D4E3",
             "startlinecolor": "#2a3f5f"
            },
            "baxis": {
             "endlinecolor": "#2a3f5f",
             "gridcolor": "#C8D4E3",
             "linecolor": "#C8D4E3",
             "minorgridcolor": "#C8D4E3",
             "startlinecolor": "#2a3f5f"
            },
            "type": "carpet"
           }
          ],
          "choropleth": [
           {
            "colorbar": {
             "outlinewidth": 0,
             "ticks": ""
            },
            "type": "choropleth"
           }
          ],
          "contour": [
           {
            "colorbar": {
             "outlinewidth": 0,
             "ticks": ""
            },
            "colorscale": [
             [
              0,
              "#0d0887"
             ],
             [
              0.1111111111111111,
              "#46039f"
             ],
             [
              0.2222222222222222,
              "#7201a8"
             ],
             [
              0.3333333333333333,
              "#9c179e"
             ],
             [
              0.4444444444444444,
              "#bd3786"
             ],
             [
              0.5555555555555556,
              "#d8576b"
             ],
             [
              0.6666666666666666,
              "#ed7953"
             ],
             [
              0.7777777777777778,
              "#fb9f3a"
             ],
             [
              0.8888888888888888,
              "#fdca26"
             ],
             [
              1,
              "#f0f921"
             ]
            ],
            "type": "contour"
           }
          ],
          "contourcarpet": [
           {
            "colorbar": {
             "outlinewidth": 0,
             "ticks": ""
            },
            "type": "contourcarpet"
           }
          ],
          "heatmap": [
           {
            "colorbar": {
             "outlinewidth": 0,
             "ticks": ""
            },
            "colorscale": [
             [
              0,
              "#0d0887"
             ],
             [
              0.1111111111111111,
              "#46039f"
             ],
             [
              0.2222222222222222,
              "#7201a8"
             ],
             [
              0.3333333333333333,
              "#9c179e"
             ],
             [
              0.4444444444444444,
              "#bd3786"
             ],
             [
              0.5555555555555556,
              "#d8576b"
             ],
             [
              0.6666666666666666,
              "#ed7953"
             ],
             [
              0.7777777777777778,
              "#fb9f3a"
             ],
             [
              0.8888888888888888,
              "#fdca26"
             ],
             [
              1,
              "#f0f921"
             ]
            ],
            "type": "heatmap"
           }
          ],
          "histogram": [
           {
            "marker": {
             "pattern": {
              "fillmode": "overlay",
              "size": 10,
              "solidity": 0.2
             }
            },
            "type": "histogram"
           }
          ],
          "histogram2d": [
           {
            "colorbar": {
             "outlinewidth": 0,
             "ticks": ""
            },
            "colorscale": [
             [
              0,
              "#0d0887"
             ],
             [
              0.1111111111111111,
              "#46039f"
             ],
             [
              0.2222222222222222,
              "#7201a8"
             ],
             [
              0.3333333333333333,
              "#9c179e"
             ],
             [
              0.4444444444444444,
              "#bd3786"
             ],
             [
              0.5555555555555556,
              "#d8576b"
             ],
             [
              0.6666666666666666,
              "#ed7953"
             ],
             [
              0.7777777777777778,
              "#fb9f3a"
             ],
             [
              0.8888888888888888,
              "#fdca26"
             ],
             [
              1,
              "#f0f921"
             ]
            ],
            "type": "histogram2d"
           }
          ],
          "histogram2dcontour": [
           {
            "colorbar": {
             "outlinewidth": 0,
             "ticks": ""
            },
            "colorscale": [
             [
              0,
              "#0d0887"
             ],
             [
              0.1111111111111111,
              "#46039f"
             ],
             [
              0.2222222222222222,
              "#7201a8"
             ],
             [
              0.3333333333333333,
              "#9c179e"
             ],
             [
              0.4444444444444444,
              "#bd3786"
             ],
             [
              0.5555555555555556,
              "#d8576b"
             ],
             [
              0.6666666666666666,
              "#ed7953"
             ],
             [
              0.7777777777777778,
              "#fb9f3a"
             ],
             [
              0.8888888888888888,
              "#fdca26"
             ],
             [
              1,
              "#f0f921"
             ]
            ],
            "type": "histogram2dcontour"
           }
          ],
          "mesh3d": [
           {
            "colorbar": {
             "outlinewidth": 0,
             "ticks": ""
            },
            "type": "mesh3d"
           }
          ],
          "parcoords": [
           {
            "line": {
             "colorbar": {
              "outlinewidth": 0,
              "ticks": ""
             }
            },
            "type": "parcoords"
           }
          ],
          "pie": [
           {
            "automargin": true,
            "type": "pie"
           }
          ],
          "scatter": [
           {
            "fillpattern": {
             "fillmode": "overlay",
             "size": 10,
             "solidity": 0.2
            },
            "type": "scatter"
           }
          ],
          "scatter3d": [
           {
            "line": {
             "colorbar": {
              "outlinewidth": 0,
              "ticks": ""
             }
            },
            "marker": {
             "colorbar": {
              "outlinewidth": 0,
              "ticks": ""
             }
            },
            "type": "scatter3d"
           }
          ],
          "scattercarpet": [
           {
            "marker": {
             "colorbar": {
              "outlinewidth": 0,
              "ticks": ""
             }
            },
            "type": "scattercarpet"
           }
          ],
          "scattergeo": [
           {
            "marker": {
             "colorbar": {
              "outlinewidth": 0,
              "ticks": ""
             }
            },
            "type": "scattergeo"
           }
          ],
          "scattergl": [
           {
            "marker": {
             "colorbar": {
              "outlinewidth": 0,
              "ticks": ""
             }
            },
            "type": "scattergl"
           }
          ],
          "scattermap": [
           {
            "marker": {
             "colorbar": {
              "outlinewidth": 0,
              "ticks": ""
             }
            },
            "type": "scattermap"
           }
          ],
          "scattermapbox": [
           {
            "marker": {
             "colorbar": {
              "outlinewidth": 0,
              "ticks": ""
             }
            },
            "type": "scattermapbox"
           }
          ],
          "scatterpolar": [
           {
            "marker": {
             "colorbar": {
              "outlinewidth": 0,
              "ticks": ""
             }
            },
            "type": "scatterpolar"
           }
          ],
          "scatterpolargl": [
           {
            "marker": {
             "colorbar": {
              "outlinewidth": 0,
              "ticks": ""
             }
            },
            "type": "scatterpolargl"
           }
          ],
          "scatterternary": [
           {
            "marker": {
             "colorbar": {
              "outlinewidth": 0,
              "ticks": ""
             }
            },
            "type": "scatterternary"
           }
          ],
          "surface": [
           {
            "colorbar": {
             "outlinewidth": 0,
             "ticks": ""
            },
            "colorscale": [
             [
              0,
              "#0d0887"
             ],
             [
              0.1111111111111111,
              "#46039f"
             ],
             [
              0.2222222222222222,
              "#7201a8"
             ],
             [
              0.3333333333333333,
              "#9c179e"
             ],
             [
              0.4444444444444444,
              "#bd3786"
             ],
             [
              0.5555555555555556,
              "#d8576b"
             ],
             [
              0.6666666666666666,
              "#ed7953"
             ],
             [
              0.7777777777777778,
              "#fb9f3a"
             ],
             [
              0.8888888888888888,
              "#fdca26"
             ],
             [
              1,
              "#f0f921"
             ]
            ],
            "type": "surface"
           }
          ],
          "table": [
           {
            "cells": {
             "fill": {
              "color": "#EBF0F8"
             },
             "line": {
              "color": "white"
             }
            },
            "header": {
             "fill": {
              "color": "#C8D4E3"
             },
             "line": {
              "color": "white"
             }
            },
            "type": "table"
           }
          ]
         },
         "layout": {
          "annotationdefaults": {
           "arrowcolor": "#2a3f5f",
           "arrowhead": 0,
           "arrowwidth": 1
          },
          "autotypenumbers": "strict",
          "coloraxis": {
           "colorbar": {
            "outlinewidth": 0,
            "ticks": ""
           }
          },
          "colorscale": {
           "diverging": [
            [
             0,
             "#8e0152"
            ],
            [
             0.1,
             "#c51b7d"
            ],
            [
             0.2,
             "#de77ae"
            ],
            [
             0.3,
             "#f1b6da"
            ],
            [
             0.4,
             "#fde0ef"
            ],
            [
             0.5,
             "#f7f7f7"
            ],
            [
             0.6,
             "#e6f5d0"
            ],
            [
             0.7,
             "#b8e186"
            ],
            [
             0.8,
             "#7fbc41"
            ],
            [
             0.9,
             "#4d9221"
            ],
            [
             1,
             "#276419"
            ]
           ],
           "sequential": [
            [
             0,
             "#0d0887"
            ],
            [
             0.1111111111111111,
             "#46039f"
            ],
            [
             0.2222222222222222,
             "#7201a8"
            ],
            [
             0.3333333333333333,
             "#9c179e"
            ],
            [
             0.4444444444444444,
             "#bd3786"
            ],
            [
             0.5555555555555556,
             "#d8576b"
            ],
            [
             0.6666666666666666,
             "#ed7953"
            ],
            [
             0.7777777777777778,
             "#fb9f3a"
            ],
            [
             0.8888888888888888,
             "#fdca26"
            ],
            [
             1,
             "#f0f921"
            ]
           ],
           "sequentialminus": [
            [
             0,
             "#0d0887"
            ],
            [
             0.1111111111111111,
             "#46039f"
            ],
            [
             0.2222222222222222,
             "#7201a8"
            ],
            [
             0.3333333333333333,
             "#9c179e"
            ],
            [
             0.4444444444444444,
             "#bd3786"
            ],
            [
             0.5555555555555556,
             "#d8576b"
            ],
            [
             0.6666666666666666,
             "#ed7953"
            ],
            [
             0.7777777777777778,
             "#fb9f3a"
            ],
            [
             0.8888888888888888,
             "#fdca26"
            ],
            [
             1,
             "#f0f921"
            ]
           ]
          },
          "colorway": [
           "#636efa",
           "#EF553B",
           "#00cc96",
           "#ab63fa",
           "#FFA15A",
           "#19d3f3",
           "#FF6692",
           "#B6E880",
           "#FF97FF",
           "#FECB52"
          ],
          "font": {
           "color": "#2a3f5f"
          },
          "geo": {
           "bgcolor": "white",
           "lakecolor": "white",
           "landcolor": "white",
           "showlakes": true,
           "showland": true,
           "subunitcolor": "#C8D4E3"
          },
          "hoverlabel": {
           "align": "left"
          },
          "hovermode": "closest",
          "mapbox": {
           "style": "light"
          },
          "paper_bgcolor": "white",
          "plot_bgcolor": "white",
          "polar": {
           "angularaxis": {
            "gridcolor": "#EBF0F8",
            "linecolor": "#EBF0F8",
            "ticks": ""
           },
           "bgcolor": "white",
           "radialaxis": {
            "gridcolor": "#EBF0F8",
            "linecolor": "#EBF0F8",
            "ticks": ""
           }
          },
          "scene": {
           "xaxis": {
            "backgroundcolor": "white",
            "gridcolor": "#DFE8F3",
            "gridwidth": 2,
            "linecolor": "#EBF0F8",
            "showbackground": true,
            "ticks": "",
            "zerolinecolor": "#EBF0F8"
           },
           "yaxis": {
            "backgroundcolor": "white",
            "gridcolor": "#DFE8F3",
            "gridwidth": 2,
            "linecolor": "#EBF0F8",
            "showbackground": true,
            "ticks": "",
            "zerolinecolor": "#EBF0F8"
           },
           "zaxis": {
            "backgroundcolor": "white",
            "gridcolor": "#DFE8F3",
            "gridwidth": 2,
            "linecolor": "#EBF0F8",
            "showbackground": true,
            "ticks": "",
            "zerolinecolor": "#EBF0F8"
           }
          },
          "shapedefaults": {
           "line": {
            "color": "#2a3f5f"
           }
          },
          "ternary": {
           "aaxis": {
            "gridcolor": "#DFE8F3",
            "linecolor": "#A2B1C6",
            "ticks": ""
           },
           "baxis": {
            "gridcolor": "#DFE8F3",
            "linecolor": "#A2B1C6",
            "ticks": ""
           },
           "bgcolor": "white",
           "caxis": {
            "gridcolor": "#DFE8F3",
            "linecolor": "#A2B1C6",
            "ticks": ""
           }
          },
          "title": {
           "x": 0.05
          },
          "xaxis": {
           "automargin": true,
           "gridcolor": "#EBF0F8",
           "linecolor": "#EBF0F8",
           "ticks": "",
           "title": {
            "standoff": 15
           },
           "zerolinecolor": "#EBF0F8",
           "zerolinewidth": 2
          },
          "yaxis": {
           "automargin": true,
           "gridcolor": "#EBF0F8",
           "linecolor": "#EBF0F8",
           "ticks": "",
           "title": {
            "standoff": 15
           },
           "zerolinecolor": "#EBF0F8",
           "zerolinewidth": 2
          }
         }
        },
        "title": {
         "font": {
          "size": 16
         },
         "text": "Análise Setorial: ROE vs Endividamento",
         "x": 0.5
        },
        "xaxis": {
         "anchor": "y",
         "domain": [
          0,
          0.425
         ],
         "title": {
          "text": "ROE (%)"
         }
        },
        "xaxis2": {
         "anchor": "y2",
         "domain": [
          0.575,
          1
         ],
         "title": {
          "text": "Dívida/EBITDA (x)"
         }
        },
        "yaxis": {
         "anchor": "x",
         "domain": [
          0,
          1
         ],
         "title": {
          "text": "Setor"
         }
        },
        "yaxis2": {
         "anchor": "x2",
         "domain": [
          0,
          1
         ],
         "title": {
          "text": "Setor"
         }
        }
       }
      }
     },
     "metadata": {},
     "output_type": "display_data"
    },
    {
     "name": "stdout",
     "output_type": "stream",
     "text": [
      "\n",
      "📈 Resumo Estatístico:\n"
     ]
    },
    {
     "data": {
      "text/html": [
       "<div>\n",
       "<style scoped>\n",
       "    .dataframe tbody tr th:only-of-type {\n",
       "        vertical-align: middle;\n",
       "    }\n",
       "\n",
       "    .dataframe tbody tr th {\n",
       "        vertical-align: top;\n",
       "    }\n",
       "\n",
       "    .dataframe thead th {\n",
       "        text-align: right;\n",
       "    }\n",
       "</style>\n",
       "<table border=\"1\" class=\"dataframe\">\n",
       "  <thead>\n",
       "    <tr style=\"text-align: right;\">\n",
       "      <th></th>\n",
       "      <th>Qtd Empresas</th>\n",
       "      <th>ROE Mediano</th>\n",
       "      <th>EV/EBITDA Mediano</th>\n",
       "      <th>Dívida/EBITDA Mediano</th>\n",
       "      <th>Margem Líquida</th>\n",
       "      <th>Score Médio</th>\n",
       "    </tr>\n",
       "    <tr>\n",
       "      <th>class_Composto</th>\n",
       "      <th></th>\n",
       "      <th></th>\n",
       "      <th></th>\n",
       "      <th></th>\n",
       "      <th></th>\n",
       "      <th></th>\n",
       "    </tr>\n",
       "  </thead>\n",
       "  <tbody>\n",
       "    <tr>\n",
       "      <th>Excelente</th>\n",
       "      <td>9</td>\n",
       "      <td>20.12</td>\n",
       "      <td>4.41</td>\n",
       "      <td>1.95</td>\n",
       "      <td>13.80</td>\n",
       "      <td>8.67</td>\n",
       "    </tr>\n",
       "    <tr>\n",
       "      <th>Boa</th>\n",
       "      <td>74</td>\n",
       "      <td>20.10</td>\n",
       "      <td>5.86</td>\n",
       "      <td>1.37</td>\n",
       "      <td>15.66</td>\n",
       "      <td>5.07</td>\n",
       "    </tr>\n",
       "    <tr>\n",
       "      <th>Ok</th>\n",
       "      <td>185</td>\n",
       "      <td>10.08</td>\n",
       "      <td>6.41</td>\n",
       "      <td>2.88</td>\n",
       "      <td>12.40</td>\n",
       "      <td>0.63</td>\n",
       "    </tr>\n",
       "    <tr>\n",
       "      <th>Ruim</th>\n",
       "      <td>127</td>\n",
       "      <td>4.35</td>\n",
       "      <td>6.51</td>\n",
       "      <td>3.70</td>\n",
       "      <td>-2.17</td>\n",
       "      <td>-4.69</td>\n",
       "    </tr>\n",
       "    <tr>\n",
       "      <th>Péssima</th>\n",
       "      <td>13</td>\n",
       "      <td>-19.19</td>\n",
       "      <td>13.24</td>\n",
       "      <td>6.37</td>\n",
       "      <td>-15.37</td>\n",
       "      <td>-8.54</td>\n",
       "    </tr>\n",
       "  </tbody>\n",
       "</table>\n",
       "</div>"
      ],
      "text/plain": [
       "                Qtd Empresas  ROE Mediano  EV/EBITDA Mediano  \\\n",
       "class_Composto                                                 \n",
       "Excelente                  9        20.12               4.41   \n",
       "Boa                       74        20.10               5.86   \n",
       "Ok                       185        10.08               6.41   \n",
       "Ruim                     127         4.35               6.51   \n",
       "Péssima                   13       -19.19              13.24   \n",
       "\n",
       "                Dívida/EBITDA Mediano  Margem Líquida  Score Médio  \n",
       "class_Composto                                                      \n",
       "Excelente                        1.95           13.80         8.67  \n",
       "Boa                              1.37           15.66         5.07  \n",
       "Ok                               2.88           12.40         0.63  \n",
       "Ruim                             3.70           -2.17        -4.69  \n",
       "Péssima                          6.37          -15.37        -8.54  "
      ]
     },
     "metadata": {},
     "output_type": "display_data"
    },
    {
     "name": "stdout",
     "output_type": "stream",
     "text": [
      "Análise completa com Dividendos!\n"
     ]
    }
   ],
   "source": [
    "# ============= PARTE 4: VISUALIZAÇÕES =============\n",
    "\n",
    "# Gráfico 1: Dashboard com 7 pilares (3x3)\n",
    "pilares_completo = ['class_CAGR', 'class_Margins', 'class_Multiplos', 'class_Qualidade', \n",
    "                    'class_Profitability', 'class_Dividends', 'class_Composto']\n",
    "\n",
    "fig_pilares = make_subplots(\n",
    "    rows=3, cols=3,\n",
    "    subplot_titles=[p.replace('class_', '').replace('_', ' ') for p in pilares_completo],\n",
    "    vertical_spacing=0.15,\n",
    "    horizontal_spacing=0.10\n",
    ")\n",
    "\n",
    "for idx, pilar in enumerate(pilares_completo):\n",
    "    row = (idx // 3) + 1\n",
    "    col = (idx % 3) + 1\n",
    "    \n",
    "    counts = dataset[pilar].value_counts().reindex(ordem_classes, fill_value=0)\n",
    "    \n",
    "    fig_pilares.add_trace(\n",
    "        go.Bar(\n",
    "            x=counts.index,\n",
    "            y=counts.values,\n",
    "            text=[f'{v}' for v in counts.values],\n",
    "            textposition='outside',\n",
    "            marker_color=[paleta_cores[c] for c in counts.index],\n",
    "            showlegend=False,\n",
    "            hovertemplate='<b>%{x}</b><br>Empresas: %{y}<extra></extra>'\n",
    "        ),\n",
    "        row=row, col=col\n",
    "    )\n",
    "\n",
    "fig_pilares.update_xaxes(tickangle=-45, tickfont=dict(size=9))\n",
    "fig_pilares.update_yaxes(title_text='Quantidade')\n",
    "fig_pilares.update_layout(\n",
    "    height=1100,\n",
    "    title_text='Dashboard de Classificações por Pilar (com Dividendos)',\n",
    "    title_x=0.5,\n",
    "    title_font_size=18,\n",
    "    showlegend=False\n",
    ")\n",
    "\n",
    "fig_pilares.show()\n",
    "\n",
    "# Gráfico 2: Heatmap Top 30 (com dividendos)\n",
    "print(\"\\n🏆 Top 30 Empresas - Heatmap:\")\n",
    "\n",
    "df_melhores = dataset[dataset['class_Composto'].isin(['Excelente', 'Boa'])].copy()\n",
    "ranking = df_melhores.sort_values('composite_score', ascending=False).head(30)\n",
    "\n",
    "colunas_ranking = ['ENTITY_NAME', 'TICKER', 'SECTOR', 'composite_score', 'class_Composto',\n",
    "                   'class_CAGR', 'class_Margins', 'class_Multiplos', \n",
    "                   'class_Qualidade', 'class_Profitability', 'class_Dividends']\n",
    "\n",
    "display(ranking[colunas_ranking].style.background_gradient(cmap='Purples', subset=['composite_score']))\n",
    "\n",
    "# Heatmap dos pilares\n",
    "class_map = {'Excelente': 2, 'Boa': 1, 'Ok': 0, 'Ruim': -1, 'Péssima': -2}\n",
    "heatmap_data = ranking[colunas_ranking[5:]].applymap(lambda x: class_map.get(x, 0))\n",
    "\n",
    "fig_heatmap_top = go.Figure(data=go.Heatmap(\n",
    "    z=heatmap_data.values,\n",
    "    x=['CAGR', 'Margins', 'Múltiplos', 'Qualidade', 'Rentabilidade', 'Dividendos'],\n",
    "    y=ranking['ENTITY_NAME'].values,\n",
    "    colorscale=[[0, '#ff765e'], [0.25, \"#c9df01\"], [0.5, \"#ffffe0\"], [0.75, \"#009e5c\"], [1, \"#00641E\"]],\n",
    "    text=heatmap_data.values,\n",
    "    texttemplate='%{text}',\n",
    "    textfont={\"size\": 9},\n",
    "    colorbar=dict(title=\"Score\", tickvals=[-2, -1, 0, 1, 2], \n",
    "                  ticktext=['Péssima', 'Ruim', 'Ok', 'Boa', 'Excelente'])\n",
    "))\n",
    "\n",
    "fig_heatmap_top.update_layout(\n",
    "    title='Pontos Fortes e Fracos das Top 30 Empresas (com Dividendos)',\n",
    "    height=900,\n",
    "    yaxis_title='Empresa',\n",
    "    xaxis_title='Pilar',\n",
    "    title_font_size=16\n",
    ")\n",
    "\n",
    "fig_heatmap_top.show()\n",
    "\n",
    "# Gráfico 3: Análise Setorial (ROE e Dívida)\n",
    "print(\"\\n🏭 Análise Setorial:\")\n",
    "\n",
    "sector_roe = dataset.groupby('SECTOR')['ROE_LTM'].median().sort_values(ascending=False)\n",
    "sector_debt = dataset.groupby('SECTOR')['DEBT_TO_EBITDA_LTM'].median().sort_values(ascending=True)\n",
    "\n",
    "fig_setores = make_subplots(\n",
    "    rows=1, cols=2,\n",
    "    subplot_titles=('ROE Mediano', 'Setores - Menor Endividamento'),\n",
    "    horizontal_spacing=0.15\n",
    ")\n",
    "\n",
    "fig_setores.add_trace(\n",
    "    go.Bar(\n",
    "        y=sector_roe.index,\n",
    "        x=sector_roe.values,\n",
    "        text=[f'{v:.1f}%' for v in sector_roe.values],\n",
    "        textposition='outside',\n",
    "        marker_color='#7b68ee',\n",
    "        orientation='h',\n",
    "        showlegend=False,\n",
    "        hovertemplate='<b>%{y}</b><br>ROE: %{x:.1f}%<extra></extra>'\n",
    "    ),\n",
    "    row=1, col=1\n",
    ")\n",
    "\n",
    "median_roe = dataset['ROE_LTM'].median()\n",
    "fig_setores.add_vline(x=median_roe, line_dash=\"dash\", line_color=\"red\", \n",
    "                      annotation_text=\"Mediana Geral\", row=1, col=1)\n",
    "\n",
    "fig_setores.add_trace(\n",
    "    go.Bar(\n",
    "        y=sector_debt.index,\n",
    "        x=sector_debt.values,\n",
    "        text=[f'{v:.1f}x' for v in sector_debt.values],\n",
    "        textposition='outside',\n",
    "        marker_color='#65c99f',\n",
    "        orientation='h',\n",
    "        showlegend=False,\n",
    "        hovertemplate='<b>%{y}</b><br>Dívida/EBITDA: %{x:.1f}x<extra></extra>'\n",
    "    ),\n",
    "    row=1, col=2\n",
    ")\n",
    "\n",
    "median_debt = dataset['DEBT_TO_EBITDA_LTM'].median()\n",
    "fig_setores.add_vline(x=median_debt, line_dash=\"dash\", line_color=\"red\",\n",
    "                     annotation_text=\"Mediana Geral\", row=1, col=2)\n",
    "\n",
    "fig_setores.update_xaxes(title_text=\"ROE (%)\", row=1, col=1)\n",
    "fig_setores.update_xaxes(title_text=\"Dívida/EBITDA (x)\", row=1, col=2)\n",
    "fig_setores.update_yaxes(title_text=\"Setor\")\n",
    "\n",
    "fig_setores.update_layout(\n",
    "    height=700,\n",
    "    title_text='Análise Setorial: ROE vs Endividamento',\n",
    "    title_x=0.5,\n",
    "    title_font_size=16\n",
    ")\n",
    "\n",
    "fig_setores.show()\n",
    "\n",
    "# Resumo Estatístico\n",
    "print(\"\\n📈 Resumo Estatístico:\")\n",
    "\n",
    "resumo = dataset.groupby('class_Composto').agg({\n",
    "    'ENTITY_NAME': 'count',\n",
    "    'ROE_LTM': 'median',\n",
    "    'EV/EBITDA_LTM': 'median',\n",
    "    'DEBT_TO_EBITDA_LTM': 'median',\n",
    "    'NET_MARGIN_LTM': 'median',\n",
    "    'composite_score': 'mean'\n",
    "}).round(2)\n",
    "\n",
    "resumo.columns = ['Qtd Empresas', 'ROE Mediano', 'EV/EBITDA Mediano', \n",
    "                  'Dívida/EBITDA Mediano', 'Margem Líquida', 'Score Médio']\n",
    "\n",
    "display(resumo.reindex(ordem_classes))\n",
    "\n",
    "print(\"Análise completa com Dividendos!\")"
   ]
  },
  {
   "cell_type": "code",
   "execution_count": 49,
   "id": "5d74ac2e",
   "metadata": {},
   "outputs": [
    {
     "name": "stdout",
     "output_type": "stream",
     "text": [
      "Total de setores: 11\n"
     ]
    },
    {
     "data": {
      "application/vnd.plotly.v1+json": {
       "config": {
        "plotlyServerURL": "https://plot.ly"
       },
       "data": [
        {
         "marker": {
          "color": "#7b68ee"
         },
         "name": "EV/Revenue",
         "text": [
          "1.0x",
          "1.4x",
          "5.4x",
          "2.5x",
          "1.0x",
          "2.4x",
          "0.6x",
          "1.9x",
          "1.3x",
          "0.9x",
          "2.0x"
         ],
         "textposition": "outside",
         "type": "bar",
         "x": [
          "Consumer Discretionary",
          "Industrials",
          "Real Estate",
          "Financials",
          "Materials",
          "Utilities",
          "Consumer Staples",
          "Communication Services",
          "Health Care",
          "Information Technology",
          "Energy"
         ],
         "xaxis": "x",
         "y": {
          "bdata": "PgrXo3A98D8K16NwPQr3P5qZmZmZmRVAUrgehetRBECuR+F6FK7vP83MzMzMzAJAPQrXo3A94j+uR+F6FK79PzQzMzMzM/U/hetRuB6F6z8UrkfhehQAQA==",
          "dtype": "f8"
         },
         "yaxis": "y"
        },
        {
         "marker": {
          "color": "#505050"
         },
         "name": "EV/EBITDA",
         "text": [
          "5.9x",
          "6.7x",
          "9.9x",
          "6.4x",
          "5.2x",
          "6.5x",
          "6.3x",
          "5.2x",
          "6.7x",
          "10.4x",
          "3.5x"
         ],
         "textposition": "outside",
         "type": "bar",
         "x": [
          "Consumer Discretionary",
          "Industrials",
          "Real Estate",
          "Financials",
          "Materials",
          "Utilities",
          "Consumer Staples",
          "Communication Services",
          "Health Care",
          "Information Technology",
          "Energy"
         ],
         "xaxis": "x2",
         "y": {
          "bdata": "w/UoXI/CF0DNzMzMzMwaQFK4HoXr0SNApHA9CtejGUDD9Shcj8IUQArXo3A9ChpAPQrXo3A9GUCuR+F6FK4UQOxRuB6F6xpAkML1KFzPJECuR+F6FK4LQA==",
          "dtype": "f8"
         },
         "yaxis": "y2"
        },
        {
         "marker": {
          "color": "#8a2be2"
         },
         "name": "EV/EBIT",
         "text": [
          "8.1x",
          "8.8x",
          "11.4x",
          "7.0x",
          "9.0x",
          "8.4x",
          "9.4x",
          "10.0x",
          "8.5x",
          "14.1x",
          "5.4x"
         ],
         "textposition": "outside",
         "type": "bar",
         "x": [
          "Consumer Discretionary",
          "Industrials",
          "Real Estate",
          "Financials",
          "Materials",
          "Utilities",
          "Consumer Staples",
          "Communication Services",
          "Health Care",
          "Information Technology",
          "Energy"
         ],
         "xaxis": "x3",
         "y": {
          "bdata": "mpmZmZkZIEApXI/C9aghQFyPwvUo3CZAzczMzMzMG0DsUbgeheshQFK4HoXr0SBAXI/C9SjcIkCF61G4HgUkQI/C9ShcDyFAmpmZmZkZLECkcD0K16MVQA==",
          "dtype": "f8"
         },
         "yaxis": "y3"
        },
        {
         "marker": {
          "color": "#7b68ee"
         },
         "name": "EV/UFCF",
         "text": [
          "10.2x",
          "11.2x",
          "8.2x",
          "9.2x",
          "18.1x",
          "23.2x",
          "12.8x",
          "8.2x",
          "13.0x",
          "16.7x",
          "12.4x"
         ],
         "textposition": "outside",
         "type": "bar",
         "x": [
          "Consumer Discretionary",
          "Industrials",
          "Real Estate",
          "Financials",
          "Materials",
          "Utilities",
          "Consumer Staples",
          "Communication Services",
          "Health Care",
          "Information Technology",
          "Energy"
         ],
         "xaxis": "x4",
         "y": {
          "bdata": "ZmZmZmZmJEBcj8L1KFwmQB+F61G4XiBAUrgehetRIkAehetRuB4yQK5H4XoULjdACtejcD2KKUBxPQrXo3AgQD4K16Nw/SlAcT0K16OwMECamZmZmdkoQA==",
          "dtype": "f8"
         },
         "yaxis": "y4"
        },
        {
         "marker": {
          "color": "#6a5acd"
         },
         "name": "P/E",
         "text": [
          "6.9x",
          "9.7x",
          "7.3x",
          "8.1x",
          "9.5x",
          "8.8x",
          "12.8x",
          "15.7x",
          "12.3x",
          "25.8x",
          "5.2x"
         ],
         "textposition": "outside",
         "type": "bar",
         "x": [
          "Consumer Discretionary",
          "Industrials",
          "Real Estate",
          "Financials",
          "Materials",
          "Utilities",
          "Consumer Staples",
          "Communication Services",
          "Health Care",
          "Information Technology",
          "Energy"
         ],
         "xaxis": "x5",
         "y": {
          "bdata": "cT0K16NwG0BmZmZmZmYjQClcj8L1KB1AKVyPwvUoIECF61G4HgUjQClcj8L1qCFAH4XrUbieKUDXo3A9ClcvQKRwPQrXoyhA7FG4HoXLOUCamZmZmZkUQA==",
          "dtype": "f8"
         },
         "yaxis": "y5"
        },
        {
         "marker": {
          "color": "#9932cc"
         },
         "name": "P/BV",
         "text": [
          "1.0x",
          "1.4x",
          "0.7x",
          "1.3x",
          "1.0x",
          "1.5x",
          "1.2x",
          "0.9x",
          "1.1x",
          "0.5x",
          "0.8x"
         ],
         "textposition": "outside",
         "type": "bar",
         "x": [
          "Consumer Discretionary",
          "Industrials",
          "Real Estate",
          "Financials",
          "Materials",
          "Utilities",
          "Consumer Staples",
          "Communication Services",
          "Health Care",
          "Information Technology",
          "Energy"
         ],
         "xaxis": "x6",
         "y": {
          "bdata": "j8L1KFyP7j/hehSuR+H2P65H4XoUruc/zczMzMzM9D8pXI/C9SjwP6RwPQrXo/g/zMzMzMzM8j+F61G4HoXrP+J6FK5H4fA/H4XrUbge4T/sUbgehevpPw==",
          "dtype": "f8"
         },
         "yaxis": "y6"
        }
       ],
       "layout": {
        "annotations": [
         {
          "font": {
           "size": 16
          },
          "showarrow": false,
          "text": "EV/Revenue",
          "x": 0.13333333333333333,
          "xanchor": "center",
          "xref": "paper",
          "y": 1,
          "yanchor": "bottom",
          "yref": "paper"
         },
         {
          "font": {
           "size": 16
          },
          "showarrow": false,
          "text": "EV/EBITDA",
          "x": 0.5,
          "xanchor": "center",
          "xref": "paper",
          "y": 1,
          "yanchor": "bottom",
          "yref": "paper"
         },
         {
          "font": {
           "size": 16
          },
          "showarrow": false,
          "text": "EV/EBIT",
          "x": 0.8666666666666667,
          "xanchor": "center",
          "xref": "paper",
          "y": 1,
          "yanchor": "bottom",
          "yref": "paper"
         },
         {
          "font": {
           "size": 16
          },
          "showarrow": false,
          "text": "EV/UFCF",
          "x": 0.13333333333333333,
          "xanchor": "center",
          "xref": "paper",
          "y": 0.39,
          "yanchor": "bottom",
          "yref": "paper"
         },
         {
          "font": {
           "size": 16
          },
          "showarrow": false,
          "text": "P/E",
          "x": 0.5,
          "xanchor": "center",
          "xref": "paper",
          "y": 0.39,
          "yanchor": "bottom",
          "yref": "paper"
         },
         {
          "font": {
           "size": 16
          },
          "showarrow": false,
          "text": "P/BV",
          "x": 0.8666666666666667,
          "xanchor": "center",
          "xref": "paper",
          "y": 0.39,
          "yanchor": "bottom",
          "yref": "paper"
         }
        ],
        "height": 900,
        "showlegend": false,
        "template": {
         "data": {
          "bar": [
           {
            "error_x": {
             "color": "#2a3f5f"
            },
            "error_y": {
             "color": "#2a3f5f"
            },
            "marker": {
             "line": {
              "color": "white",
              "width": 0.5
             },
             "pattern": {
              "fillmode": "overlay",
              "size": 10,
              "solidity": 0.2
             }
            },
            "type": "bar"
           }
          ],
          "barpolar": [
           {
            "marker": {
             "line": {
              "color": "white",
              "width": 0.5
             },
             "pattern": {
              "fillmode": "overlay",
              "size": 10,
              "solidity": 0.2
             }
            },
            "type": "barpolar"
           }
          ],
          "carpet": [
           {
            "aaxis": {
             "endlinecolor": "#2a3f5f",
             "gridcolor": "#C8D4E3",
             "linecolor": "#C8D4E3",
             "minorgridcolor": "#C8D4E3",
             "startlinecolor": "#2a3f5f"
            },
            "baxis": {
             "endlinecolor": "#2a3f5f",
             "gridcolor": "#C8D4E3",
             "linecolor": "#C8D4E3",
             "minorgridcolor": "#C8D4E3",
             "startlinecolor": "#2a3f5f"
            },
            "type": "carpet"
           }
          ],
          "choropleth": [
           {
            "colorbar": {
             "outlinewidth": 0,
             "ticks": ""
            },
            "type": "choropleth"
           }
          ],
          "contour": [
           {
            "colorbar": {
             "outlinewidth": 0,
             "ticks": ""
            },
            "colorscale": [
             [
              0,
              "#0d0887"
             ],
             [
              0.1111111111111111,
              "#46039f"
             ],
             [
              0.2222222222222222,
              "#7201a8"
             ],
             [
              0.3333333333333333,
              "#9c179e"
             ],
             [
              0.4444444444444444,
              "#bd3786"
             ],
             [
              0.5555555555555556,
              "#d8576b"
             ],
             [
              0.6666666666666666,
              "#ed7953"
             ],
             [
              0.7777777777777778,
              "#fb9f3a"
             ],
             [
              0.8888888888888888,
              "#fdca26"
             ],
             [
              1,
              "#f0f921"
             ]
            ],
            "type": "contour"
           }
          ],
          "contourcarpet": [
           {
            "colorbar": {
             "outlinewidth": 0,
             "ticks": ""
            },
            "type": "contourcarpet"
           }
          ],
          "heatmap": [
           {
            "colorbar": {
             "outlinewidth": 0,
             "ticks": ""
            },
            "colorscale": [
             [
              0,
              "#0d0887"
             ],
             [
              0.1111111111111111,
              "#46039f"
             ],
             [
              0.2222222222222222,
              "#7201a8"
             ],
             [
              0.3333333333333333,
              "#9c179e"
             ],
             [
              0.4444444444444444,
              "#bd3786"
             ],
             [
              0.5555555555555556,
              "#d8576b"
             ],
             [
              0.6666666666666666,
              "#ed7953"
             ],
             [
              0.7777777777777778,
              "#fb9f3a"
             ],
             [
              0.8888888888888888,
              "#fdca26"
             ],
             [
              1,
              "#f0f921"
             ]
            ],
            "type": "heatmap"
           }
          ],
          "histogram": [
           {
            "marker": {
             "pattern": {
              "fillmode": "overlay",
              "size": 10,
              "solidity": 0.2
             }
            },
            "type": "histogram"
           }
          ],
          "histogram2d": [
           {
            "colorbar": {
             "outlinewidth": 0,
             "ticks": ""
            },
            "colorscale": [
             [
              0,
              "#0d0887"
             ],
             [
              0.1111111111111111,
              "#46039f"
             ],
             [
              0.2222222222222222,
              "#7201a8"
             ],
             [
              0.3333333333333333,
              "#9c179e"
             ],
             [
              0.4444444444444444,
              "#bd3786"
             ],
             [
              0.5555555555555556,
              "#d8576b"
             ],
             [
              0.6666666666666666,
              "#ed7953"
             ],
             [
              0.7777777777777778,
              "#fb9f3a"
             ],
             [
              0.8888888888888888,
              "#fdca26"
             ],
             [
              1,
              "#f0f921"
             ]
            ],
            "type": "histogram2d"
           }
          ],
          "histogram2dcontour": [
           {
            "colorbar": {
             "outlinewidth": 0,
             "ticks": ""
            },
            "colorscale": [
             [
              0,
              "#0d0887"
             ],
             [
              0.1111111111111111,
              "#46039f"
             ],
             [
              0.2222222222222222,
              "#7201a8"
             ],
             [
              0.3333333333333333,
              "#9c179e"
             ],
             [
              0.4444444444444444,
              "#bd3786"
             ],
             [
              0.5555555555555556,
              "#d8576b"
             ],
             [
              0.6666666666666666,
              "#ed7953"
             ],
             [
              0.7777777777777778,
              "#fb9f3a"
             ],
             [
              0.8888888888888888,
              "#fdca26"
             ],
             [
              1,
              "#f0f921"
             ]
            ],
            "type": "histogram2dcontour"
           }
          ],
          "mesh3d": [
           {
            "colorbar": {
             "outlinewidth": 0,
             "ticks": ""
            },
            "type": "mesh3d"
           }
          ],
          "parcoords": [
           {
            "line": {
             "colorbar": {
              "outlinewidth": 0,
              "ticks": ""
             }
            },
            "type": "parcoords"
           }
          ],
          "pie": [
           {
            "automargin": true,
            "type": "pie"
           }
          ],
          "scatter": [
           {
            "fillpattern": {
             "fillmode": "overlay",
             "size": 10,
             "solidity": 0.2
            },
            "type": "scatter"
           }
          ],
          "scatter3d": [
           {
            "line": {
             "colorbar": {
              "outlinewidth": 0,
              "ticks": ""
             }
            },
            "marker": {
             "colorbar": {
              "outlinewidth": 0,
              "ticks": ""
             }
            },
            "type": "scatter3d"
           }
          ],
          "scattercarpet": [
           {
            "marker": {
             "colorbar": {
              "outlinewidth": 0,
              "ticks": ""
             }
            },
            "type": "scattercarpet"
           }
          ],
          "scattergeo": [
           {
            "marker": {
             "colorbar": {
              "outlinewidth": 0,
              "ticks": ""
             }
            },
            "type": "scattergeo"
           }
          ],
          "scattergl": [
           {
            "marker": {
             "colorbar": {
              "outlinewidth": 0,
              "ticks": ""
             }
            },
            "type": "scattergl"
           }
          ],
          "scattermap": [
           {
            "marker": {
             "colorbar": {
              "outlinewidth": 0,
              "ticks": ""
             }
            },
            "type": "scattermap"
           }
          ],
          "scattermapbox": [
           {
            "marker": {
             "colorbar": {
              "outlinewidth": 0,
              "ticks": ""
             }
            },
            "type": "scattermapbox"
           }
          ],
          "scatterpolar": [
           {
            "marker": {
             "colorbar": {
              "outlinewidth": 0,
              "ticks": ""
             }
            },
            "type": "scatterpolar"
           }
          ],
          "scatterpolargl": [
           {
            "marker": {
             "colorbar": {
              "outlinewidth": 0,
              "ticks": ""
             }
            },
            "type": "scatterpolargl"
           }
          ],
          "scatterternary": [
           {
            "marker": {
             "colorbar": {
              "outlinewidth": 0,
              "ticks": ""
             }
            },
            "type": "scatterternary"
           }
          ],
          "surface": [
           {
            "colorbar": {
             "outlinewidth": 0,
             "ticks": ""
            },
            "colorscale": [
             [
              0,
              "#0d0887"
             ],
             [
              0.1111111111111111,
              "#46039f"
             ],
             [
              0.2222222222222222,
              "#7201a8"
             ],
             [
              0.3333333333333333,
              "#9c179e"
             ],
             [
              0.4444444444444444,
              "#bd3786"
             ],
             [
              0.5555555555555556,
              "#d8576b"
             ],
             [
              0.6666666666666666,
              "#ed7953"
             ],
             [
              0.7777777777777778,
              "#fb9f3a"
             ],
             [
              0.8888888888888888,
              "#fdca26"
             ],
             [
              1,
              "#f0f921"
             ]
            ],
            "type": "surface"
           }
          ],
          "table": [
           {
            "cells": {
             "fill": {
              "color": "#EBF0F8"
             },
             "line": {
              "color": "white"
             }
            },
            "header": {
             "fill": {
              "color": "#C8D4E3"
             },
             "line": {
              "color": "white"
             }
            },
            "type": "table"
           }
          ]
         },
         "layout": {
          "annotationdefaults": {
           "arrowcolor": "#2a3f5f",
           "arrowhead": 0,
           "arrowwidth": 1
          },
          "autotypenumbers": "strict",
          "coloraxis": {
           "colorbar": {
            "outlinewidth": 0,
            "ticks": ""
           }
          },
          "colorscale": {
           "diverging": [
            [
             0,
             "#8e0152"
            ],
            [
             0.1,
             "#c51b7d"
            ],
            [
             0.2,
             "#de77ae"
            ],
            [
             0.3,
             "#f1b6da"
            ],
            [
             0.4,
             "#fde0ef"
            ],
            [
             0.5,
             "#f7f7f7"
            ],
            [
             0.6,
             "#e6f5d0"
            ],
            [
             0.7,
             "#b8e186"
            ],
            [
             0.8,
             "#7fbc41"
            ],
            [
             0.9,
             "#4d9221"
            ],
            [
             1,
             "#276419"
            ]
           ],
           "sequential": [
            [
             0,
             "#0d0887"
            ],
            [
             0.1111111111111111,
             "#46039f"
            ],
            [
             0.2222222222222222,
             "#7201a8"
            ],
            [
             0.3333333333333333,
             "#9c179e"
            ],
            [
             0.4444444444444444,
             "#bd3786"
            ],
            [
             0.5555555555555556,
             "#d8576b"
            ],
            [
             0.6666666666666666,
             "#ed7953"
            ],
            [
             0.7777777777777778,
             "#fb9f3a"
            ],
            [
             0.8888888888888888,
             "#fdca26"
            ],
            [
             1,
             "#f0f921"
            ]
           ],
           "sequentialminus": [
            [
             0,
             "#0d0887"
            ],
            [
             0.1111111111111111,
             "#46039f"
            ],
            [
             0.2222222222222222,
             "#7201a8"
            ],
            [
             0.3333333333333333,
             "#9c179e"
            ],
            [
             0.4444444444444444,
             "#bd3786"
            ],
            [
             0.5555555555555556,
             "#d8576b"
            ],
            [
             0.6666666666666666,
             "#ed7953"
            ],
            [
             0.7777777777777778,
             "#fb9f3a"
            ],
            [
             0.8888888888888888,
             "#fdca26"
            ],
            [
             1,
             "#f0f921"
            ]
           ]
          },
          "colorway": [
           "#636efa",
           "#EF553B",
           "#00cc96",
           "#ab63fa",
           "#FFA15A",
           "#19d3f3",
           "#FF6692",
           "#B6E880",
           "#FF97FF",
           "#FECB52"
          ],
          "font": {
           "color": "#2a3f5f"
          },
          "geo": {
           "bgcolor": "white",
           "lakecolor": "white",
           "landcolor": "white",
           "showlakes": true,
           "showland": true,
           "subunitcolor": "#C8D4E3"
          },
          "hoverlabel": {
           "align": "left"
          },
          "hovermode": "closest",
          "mapbox": {
           "style": "light"
          },
          "paper_bgcolor": "white",
          "plot_bgcolor": "white",
          "polar": {
           "angularaxis": {
            "gridcolor": "#EBF0F8",
            "linecolor": "#EBF0F8",
            "ticks": ""
           },
           "bgcolor": "white",
           "radialaxis": {
            "gridcolor": "#EBF0F8",
            "linecolor": "#EBF0F8",
            "ticks": ""
           }
          },
          "scene": {
           "xaxis": {
            "backgroundcolor": "white",
            "gridcolor": "#DFE8F3",
            "gridwidth": 2,
            "linecolor": "#EBF0F8",
            "showbackground": true,
            "ticks": "",
            "zerolinecolor": "#EBF0F8"
           },
           "yaxis": {
            "backgroundcolor": "white",
            "gridcolor": "#DFE8F3",
            "gridwidth": 2,
            "linecolor": "#EBF0F8",
            "showbackground": true,
            "ticks": "",
            "zerolinecolor": "#EBF0F8"
           },
           "zaxis": {
            "backgroundcolor": "white",
            "gridcolor": "#DFE8F3",
            "gridwidth": 2,
            "linecolor": "#EBF0F8",
            "showbackground": true,
            "ticks": "",
            "zerolinecolor": "#EBF0F8"
           }
          },
          "shapedefaults": {
           "line": {
            "color": "#2a3f5f"
           }
          },
          "ternary": {
           "aaxis": {
            "gridcolor": "#DFE8F3",
            "linecolor": "#A2B1C6",
            "ticks": ""
           },
           "baxis": {
            "gridcolor": "#DFE8F3",
            "linecolor": "#A2B1C6",
            "ticks": ""
           },
           "bgcolor": "white",
           "caxis": {
            "gridcolor": "#DFE8F3",
            "linecolor": "#A2B1C6",
            "ticks": ""
           }
          },
          "title": {
           "x": 0.05
          },
          "xaxis": {
           "automargin": true,
           "gridcolor": "#EBF0F8",
           "linecolor": "#EBF0F8",
           "ticks": "",
           "title": {
            "standoff": 15
           },
           "zerolinecolor": "#EBF0F8",
           "zerolinewidth": 2
          },
          "yaxis": {
           "automargin": true,
           "gridcolor": "#EBF0F8",
           "linecolor": "#EBF0F8",
           "ticks": "",
           "title": {
            "standoff": 15
           },
           "zerolinecolor": "#EBF0F8",
           "zerolinewidth": 2
          }
         }
        },
        "title": {
         "font": {
          "size": 16
         },
         "text": "Múltiplos Medianos LTM por Setor",
         "x": 0.5
        },
        "xaxis": {
         "anchor": "y",
         "domain": [
          0,
          0.26666666666666666
         ],
         "tickangle": -45,
         "tickfont": {
          "size": 9
         }
        },
        "xaxis2": {
         "anchor": "y2",
         "domain": [
          0.3666666666666667,
          0.6333333333333333
         ],
         "tickangle": -45,
         "tickfont": {
          "size": 9
         }
        },
        "xaxis3": {
         "anchor": "y3",
         "domain": [
          0.7333333333333334,
          1
         ],
         "tickangle": -45,
         "tickfont": {
          "size": 9
         }
        },
        "xaxis4": {
         "anchor": "y4",
         "domain": [
          0,
          0.26666666666666666
         ],
         "tickangle": -45,
         "tickfont": {
          "size": 9
         }
        },
        "xaxis5": {
         "anchor": "y5",
         "domain": [
          0.3666666666666667,
          0.6333333333333333
         ],
         "tickangle": -45,
         "tickfont": {
          "size": 9
         }
        },
        "xaxis6": {
         "anchor": "y6",
         "domain": [
          0.7333333333333334,
          1
         ],
         "tickangle": -45,
         "tickfont": {
          "size": 9
         }
        },
        "yaxis": {
         "anchor": "x",
         "domain": [
          0.61,
          1
         ]
        },
        "yaxis2": {
         "anchor": "x2",
         "domain": [
          0.61,
          1
         ]
        },
        "yaxis3": {
         "anchor": "x3",
         "domain": [
          0.61,
          1
         ]
        },
        "yaxis4": {
         "anchor": "x4",
         "domain": [
          0,
          0.39
         ]
        },
        "yaxis5": {
         "anchor": "x5",
         "domain": [
          0,
          0.39
         ]
        },
        "yaxis6": {
         "anchor": "x6",
         "domain": [
          0,
          0.39
         ]
        }
       }
      }
     },
     "metadata": {},
     "output_type": "display_data"
    },
    {
     "name": "stdout",
     "output_type": "stream",
     "text": [
      "\n",
      "=== Gráfico 2: Evolução dos Múltiplos Forward (2025-2027) ===\n"
     ]
    },
    {
     "data": {
      "application/vnd.plotly.v1+json": {
       "config": {
        "plotlyServerURL": "https://plot.ly"
       },
       "data": [
        {
         "marker": {
          "color": "#5b1ba3"
         },
         "name": "2025",
         "text": [
          "1.0x",
          "1.4x",
          "3.6x",
          "2.0x",
          "1.3x",
          "2.8x",
          "0.5x",
          "1.8x",
          "1.3x",
          "0.6x"
         ],
         "textfont": {
          "size": 8
         },
         "textposition": "outside",
         "type": "bar",
         "x": [
          "Consumer Discretionary",
          "Industrials",
          "Real Estate",
          "Financials",
          "Materials",
          "Utilities",
          "Consumer Staples",
          "Communication Services",
          "Health Care",
          "Information Technology"
         ],
         "xaxis": "x",
         "y": {
          "bdata": "4XoUrkfh7j8pXI/C9Sj2P83MzMzMzAxA16NwPQrX/z/2KFyPwvX0P5qZmZmZmQZAUrgehetR4D/2KFyPwvX8P3A9CtejcPU/KVyPwvUo5D8=",
          "dtype": "f8"
         },
         "yaxis": "y"
        },
        {
         "marker": {
          "color": "#575757"
         },
         "name": "2026",
         "text": [
          "0.9x",
          "1.2x",
          "4.7x",
          "3.9x",
          "1.6x",
          "2.9x",
          "0.5x",
          "1.6x",
          "1.2x",
          "0.6x"
         ],
         "textfont": {
          "size": 8
         },
         "textposition": "outside",
         "type": "bar",
         "x": [
          "Consumer Discretionary",
          "Industrials",
          "Real Estate",
          "Financials",
          "Materials",
          "Utilities",
          "Consumer Staples",
          "Communication Services",
          "Health Care",
          "Information Technology"
         ],
         "xaxis": "x",
         "y": {
          "bdata": "cT0K16Nw7T/hehSuR+HyP/YoXI/C9RJASOF6FK5HD0DD9Shcj8L5P3A9CtejcAdAzczMzMzM3D89CtejcD36PwAAAAAAAPQ/7FG4HoXr4T8=",
          "dtype": "f8"
         },
         "yaxis": "y"
        },
        {
         "marker": {
          "color": "#31c4b0"
         },
         "name": "2027",
         "text": [
          "0.8x",
          "1.2x",
          "5.6x",
          "3.5x",
          "1.2x",
          "2.9x",
          "0.4x",
          "1.6x",
          "1.1x",
          "0.6x"
         ],
         "textfont": {
          "size": 8
         },
         "textposition": "outside",
         "type": "bar",
         "x": [
          "Consumer Discretionary",
          "Industrials",
          "Real Estate",
          "Financials",
          "Materials",
          "Utilities",
          "Consumer Staples",
          "Communication Services",
          "Health Care",
          "Information Technology"
         ],
         "xaxis": "x",
         "y": {
          "bdata": "MzMzMzMz6z+G61G4HoXzP4/C9ShcjxZAKVyPwvUoDEAK16NwPQrzP0jhehSuRwdA4XoUrkfh2j/Xo3A9Ctf5P2ZmZmZmZvI/61G4HoXr4T8=",
          "dtype": "f8"
         },
         "yaxis": "y"
        },
        {
         "marker": {
          "color": "#5b1ba3"
         },
         "name": "2025",
         "showlegend": false,
         "text": [
          "5.4x",
          "5.2x",
          "8.4x",
          "3.7x",
          "5.7x",
          "8.0x",
          "5.9x",
          "4.9x",
          "6.6x",
          "6.7x"
         ],
         "textfont": {
          "size": 8
         },
         "textposition": "outside",
         "type": "bar",
         "x": [
          "Consumer Discretionary",
          "Industrials",
          "Real Estate",
          "Financials",
          "Materials",
          "Utilities",
          "Consumer Staples",
          "Communication Services",
          "Health Care",
          "Information Technology"
         ],
         "xaxis": "x2",
         "y": {
          "bdata": "AAAAAACAFUC4HoXrUbgUQEjhehSuxyBAcD0K16NwDUDXo3A9CtcWQGZmZmZm5h9AexSuR+F6F0DD9Shcj8ITQGZmZmZmZhpAw/UoXI/CGkA=",
          "dtype": "f8"
         },
         "yaxis": "y2"
        },
        {
         "marker": {
          "color": "#575757"
         },
         "name": "2026",
         "showlegend": false,
         "text": [
          "4.8x",
          "4.6x",
          "9.1x",
          "6.3x",
          "4.9x",
          "7.2x",
          "5.7x",
          "4.5x",
          "5.7x",
          "5.5x"
         ],
         "textfont": {
          "size": 8
         },
         "textposition": "outside",
         "type": "bar",
         "x": [
          "Consumer Discretionary",
          "Industrials",
          "Real Estate",
          "Financials",
          "Materials",
          "Utilities",
          "Consumer Staples",
          "Communication Services",
          "Health Care",
          "Information Technology"
         ],
         "xaxis": "x2",
         "y": {
          "bdata": "pHA9CtcjE0CPwvUoXI8SQDMzMzMzMyJAPQrXo3A9GUDsUbgehWsTQDQzMzMzsxxArkfhehSuFkAUrkfhehQSQOxRuB6F6xZAKVyPwvUoFkA=",
          "dtype": "f8"
         },
         "yaxis": "y2"
        },
        {
         "marker": {
          "color": "#31c4b0"
         },
         "name": "2027",
         "showlegend": false,
         "text": [
          "4.5x",
          "4.3x",
          "8.7x",
          "5.8x",
          "4.2x",
          "6.7x",
          "5.3x",
          "4.3x",
          "5.3x",
          "4.8x"
         ],
         "textfont": {
          "size": 8
         },
         "textposition": "outside",
         "type": "bar",
         "x": [
          "Consumer Discretionary",
          "Industrials",
          "Real Estate",
          "Financials",
          "Materials",
          "Utilities",
          "Consumer Staples",
          "Communication Services",
          "Health Care",
          "Information Technology"
         ],
         "xaxis": "x2",
         "y": {
          "bdata": "9ihcj8L1EUA9CtejcD0RQNejcD0KVyFA4XoUrkdhF0DhehSuR+EQQDQzMzMzsxpACtejcD0KFUAK16NwPQoRQK5H4XoULhVAXI/C9ShcE0A=",
          "dtype": "f8"
         },
         "yaxis": "y2"
        },
        {
         "marker": {
          "color": "#5b1ba3"
         },
         "name": "2025",
         "showlegend": false,
         "text": [
          "8.3x",
          "8.3x",
          "10.5x",
          "8.1x",
          "10.2x",
          "10.5x",
          "8.2x",
          "8.1x",
          "9.7x",
          "10.9x"
         ],
         "textfont": {
          "size": 8
         },
         "textposition": "outside",
         "type": "bar",
         "x": [
          "Consumer Discretionary",
          "Industrials",
          "Real Estate",
          "Financials",
          "Materials",
          "Utilities",
          "Consumer Staples",
          "Communication Services",
          "Health Care",
          "Information Technology"
         ],
         "xaxis": "x3",
         "y": {
          "bdata": "rkfhehSuIEApXI/C9aggQNejcD0KFyVAH4XrUbgeIEBxPQrXo3AkQJDC9ShcDyVAKVyPwvVoIEBI4XoUrkcgQFK4HoXrUSNAuB6F61G4JUA=",
          "dtype": "f8"
         },
         "yaxis": "y3"
        },
        {
         "marker": {
          "color": "#575757"
         },
         "name": "2026",
         "showlegend": false,
         "text": [
          "6.8x",
          "6.3x",
          "10.1x",
          "7.3x",
          "8.4x",
          "9.1x",
          "7.4x",
          "6.5x",
          "8.2x",
          "9.1x"
         ],
         "textfont": {
          "size": 8
         },
         "textposition": "outside",
         "type": "bar",
         "x": [
          "Consumer Discretionary",
          "Industrials",
          "Real Estate",
          "Financials",
          "Materials",
          "Utilities",
          "Consumer Staples",
          "Communication Services",
          "Health Care",
          "Information Technology"
         ],
         "xaxis": "x3",
         "y": {
          "bdata": "CtejcD0KG0DhehSuR2EZQDMzMzMzMyRASOF6FK5HHUDXo3A9CtcgQHE9CtejMCJAj8L1KFyPHUAAAAAAAAAaQHsUrkfheiBAMzMzMzMzIkA=",
          "dtype": "f8"
         },
         "yaxis": "y3"
        },
        {
         "marker": {
          "color": "#31c4b0"
         },
         "name": "2027",
         "showlegend": false,
         "text": [
          "6.1x",
          "5.9x",
          "10.0x",
          "8.0x",
          "7.1x",
          "8.6x",
          "7.0x",
          "6.0x",
          "7.3x",
          "6.6x"
         ],
         "textfont": {
          "size": 8
         },
         "textposition": "outside",
         "type": "bar",
         "x": [
          "Consumer Discretionary",
          "Industrials",
          "Real Estate",
          "Financials",
          "Materials",
          "Utilities",
          "Consumer Staples",
          "Communication Services",
          "Health Care",
          "Information Technology"
         ],
         "xaxis": "x3",
         "y": {
          "bdata": "XI/C9ShcGECuR+F6FK4XQIXrUbgeBSRAAAAAAAAAIEDiehSuR2EcQKRwPQrXIyFAXI/C9SjcG0CPwvUoXA8YQBSuR+F6FB1AwvUoXI9CGkA=",
          "dtype": "f8"
         },
         "yaxis": "y3"
        },
        {
         "marker": {
          "color": "#5b1ba3"
         },
         "name": "2025",
         "showlegend": false,
         "text": [
          "9.3x",
          "12.3x",
          "5.5x",
          "8.8x",
          "8.9x",
          "12.9x",
          "9.9x",
          "12.5x",
          "12.5x",
          "7.8x"
         ],
         "textfont": {
          "size": 8
         },
         "textposition": "outside",
         "type": "bar",
         "x": [
          "Consumer Discretionary",
          "Industrials",
          "Real Estate",
          "Financials",
          "Materials",
          "Utilities",
          "Consumer Staples",
          "Communication Services",
          "Health Care",
          "Information Technology"
         ],
         "xaxis": "x4",
         "y": {
          "bdata": "mpmZmZmZIkCamZmZmZkoQAAAAAAAABZAmpmZmZmZIUBmZmZmZuYhQM3MzMzMzClANDMzMzOzI0AAAAAAAAApQAAAAAAAAClAMzMzMzMzH0A=",
          "dtype": "f8"
         },
         "yaxis": "y4"
        },
        {
         "marker": {
          "color": "#575757"
         },
         "name": "2026",
         "showlegend": false,
         "text": [
          "8.1x",
          "7.1x",
          "6.8x",
          "7.5x",
          "8.0x",
          "11.5x",
          "9.8x",
          "10.4x",
          "9.5x",
          "6.3x"
         ],
         "textfont": {
          "size": 8
         },
         "textposition": "outside",
         "type": "bar",
         "x": [
          "Consumer Discretionary",
          "Industrials",
          "Real Estate",
          "Financials",
          "Materials",
          "Utilities",
          "Consumer Staples",
          "Communication Services",
          "Health Care",
          "Information Technology"
         ],
         "xaxis": "x4",
         "y": {
          "bdata": "mpmZmZkZIEBmZmZmZmYcQDQzMzMzMxtAAAAAAAAAHkAAAAAAAAAgQAAAAAAAACdAAAAAAACAI0A0MzMzM7MkQAAAAAAAACNAZmZmZmZmGUA=",
          "dtype": "f8"
         },
         "yaxis": "y4"
        },
        {
         "marker": {
          "color": "#31c4b0"
         },
         "name": "2027",
         "showlegend": false,
         "text": [
          "7.0x",
          "6.0x",
          "5.4x",
          "6.5x",
          "6.7x",
          "10.2x",
          "7.5x",
          "10.5x",
          "7.3x",
          "6.7x"
         ],
         "textfont": {
          "size": 8
         },
         "textposition": "outside",
         "type": "bar",
         "x": [
          "Consumer Discretionary",
          "Industrials",
          "Real Estate",
          "Financials",
          "Materials",
          "Utilities",
          "Consumer Staples",
          "Communication Services",
          "Health Care",
          "Information Technology"
         ],
         "xaxis": "x4",
         "y": {
          "bdata": "AAAAAAAAHEAAAAAAAAAYQJqZmZmZmRVAMzMzMzMzGkDMzMzMzMwaQGZmZmZmZiRAAAAAAAAAHkAAAAAAAAAlQGZmZmZmZh1AzczMzMzMGkA=",
          "dtype": "f8"
         },
         "yaxis": "y4"
        }
       ],
       "layout": {
        "annotations": [
         {
          "font": {
           "size": 16
          },
          "showarrow": false,
          "text": "EV/Revenue Forward",
          "x": 0.22,
          "xanchor": "center",
          "xref": "paper",
          "y": 1,
          "yanchor": "bottom",
          "yref": "paper"
         },
         {
          "font": {
           "size": 16
          },
          "showarrow": false,
          "text": "EV/EBITDA Forward",
          "x": 0.78,
          "xanchor": "center",
          "xref": "paper",
          "y": 1,
          "yanchor": "bottom",
          "yref": "paper"
         },
         {
          "font": {
           "size": 16
          },
          "showarrow": false,
          "text": "EV/EBIT Forward",
          "x": 0.22,
          "xanchor": "center",
          "xref": "paper",
          "y": 0.4,
          "yanchor": "bottom",
          "yref": "paper"
         },
         {
          "font": {
           "size": 16
          },
          "showarrow": false,
          "text": "P/E Forward",
          "x": 0.78,
          "xanchor": "center",
          "xref": "paper",
          "y": 0.4,
          "yanchor": "bottom",
          "yref": "paper"
         }
        ],
        "barmode": "group",
        "height": 900,
        "legend": {
         "orientation": "h",
         "x": 1,
         "xanchor": "right",
         "y": 1.02,
         "yanchor": "bottom"
        },
        "template": {
         "data": {
          "bar": [
           {
            "error_x": {
             "color": "#2a3f5f"
            },
            "error_y": {
             "color": "#2a3f5f"
            },
            "marker": {
             "line": {
              "color": "white",
              "width": 0.5
             },
             "pattern": {
              "fillmode": "overlay",
              "size": 10,
              "solidity": 0.2
             }
            },
            "type": "bar"
           }
          ],
          "barpolar": [
           {
            "marker": {
             "line": {
              "color": "white",
              "width": 0.5
             },
             "pattern": {
              "fillmode": "overlay",
              "size": 10,
              "solidity": 0.2
             }
            },
            "type": "barpolar"
           }
          ],
          "carpet": [
           {
            "aaxis": {
             "endlinecolor": "#2a3f5f",
             "gridcolor": "#C8D4E3",
             "linecolor": "#C8D4E3",
             "minorgridcolor": "#C8D4E3",
             "startlinecolor": "#2a3f5f"
            },
            "baxis": {
             "endlinecolor": "#2a3f5f",
             "gridcolor": "#C8D4E3",
             "linecolor": "#C8D4E3",
             "minorgridcolor": "#C8D4E3",
             "startlinecolor": "#2a3f5f"
            },
            "type": "carpet"
           }
          ],
          "choropleth": [
           {
            "colorbar": {
             "outlinewidth": 0,
             "ticks": ""
            },
            "type": "choropleth"
           }
          ],
          "contour": [
           {
            "colorbar": {
             "outlinewidth": 0,
             "ticks": ""
            },
            "colorscale": [
             [
              0,
              "#0d0887"
             ],
             [
              0.1111111111111111,
              "#46039f"
             ],
             [
              0.2222222222222222,
              "#7201a8"
             ],
             [
              0.3333333333333333,
              "#9c179e"
             ],
             [
              0.4444444444444444,
              "#bd3786"
             ],
             [
              0.5555555555555556,
              "#d8576b"
             ],
             [
              0.6666666666666666,
              "#ed7953"
             ],
             [
              0.7777777777777778,
              "#fb9f3a"
             ],
             [
              0.8888888888888888,
              "#fdca26"
             ],
             [
              1,
              "#f0f921"
             ]
            ],
            "type": "contour"
           }
          ],
          "contourcarpet": [
           {
            "colorbar": {
             "outlinewidth": 0,
             "ticks": ""
            },
            "type": "contourcarpet"
           }
          ],
          "heatmap": [
           {
            "colorbar": {
             "outlinewidth": 0,
             "ticks": ""
            },
            "colorscale": [
             [
              0,
              "#0d0887"
             ],
             [
              0.1111111111111111,
              "#46039f"
             ],
             [
              0.2222222222222222,
              "#7201a8"
             ],
             [
              0.3333333333333333,
              "#9c179e"
             ],
             [
              0.4444444444444444,
              "#bd3786"
             ],
             [
              0.5555555555555556,
              "#d8576b"
             ],
             [
              0.6666666666666666,
              "#ed7953"
             ],
             [
              0.7777777777777778,
              "#fb9f3a"
             ],
             [
              0.8888888888888888,
              "#fdca26"
             ],
             [
              1,
              "#f0f921"
             ]
            ],
            "type": "heatmap"
           }
          ],
          "histogram": [
           {
            "marker": {
             "pattern": {
              "fillmode": "overlay",
              "size": 10,
              "solidity": 0.2
             }
            },
            "type": "histogram"
           }
          ],
          "histogram2d": [
           {
            "colorbar": {
             "outlinewidth": 0,
             "ticks": ""
            },
            "colorscale": [
             [
              0,
              "#0d0887"
             ],
             [
              0.1111111111111111,
              "#46039f"
             ],
             [
              0.2222222222222222,
              "#7201a8"
             ],
             [
              0.3333333333333333,
              "#9c179e"
             ],
             [
              0.4444444444444444,
              "#bd3786"
             ],
             [
              0.5555555555555556,
              "#d8576b"
             ],
             [
              0.6666666666666666,
              "#ed7953"
             ],
             [
              0.7777777777777778,
              "#fb9f3a"
             ],
             [
              0.8888888888888888,
              "#fdca26"
             ],
             [
              1,
              "#f0f921"
             ]
            ],
            "type": "histogram2d"
           }
          ],
          "histogram2dcontour": [
           {
            "colorbar": {
             "outlinewidth": 0,
             "ticks": ""
            },
            "colorscale": [
             [
              0,
              "#0d0887"
             ],
             [
              0.1111111111111111,
              "#46039f"
             ],
             [
              0.2222222222222222,
              "#7201a8"
             ],
             [
              0.3333333333333333,
              "#9c179e"
             ],
             [
              0.4444444444444444,
              "#bd3786"
             ],
             [
              0.5555555555555556,
              "#d8576b"
             ],
             [
              0.6666666666666666,
              "#ed7953"
             ],
             [
              0.7777777777777778,
              "#fb9f3a"
             ],
             [
              0.8888888888888888,
              "#fdca26"
             ],
             [
              1,
              "#f0f921"
             ]
            ],
            "type": "histogram2dcontour"
           }
          ],
          "mesh3d": [
           {
            "colorbar": {
             "outlinewidth": 0,
             "ticks": ""
            },
            "type": "mesh3d"
           }
          ],
          "parcoords": [
           {
            "line": {
             "colorbar": {
              "outlinewidth": 0,
              "ticks": ""
             }
            },
            "type": "parcoords"
           }
          ],
          "pie": [
           {
            "automargin": true,
            "type": "pie"
           }
          ],
          "scatter": [
           {
            "fillpattern": {
             "fillmode": "overlay",
             "size": 10,
             "solidity": 0.2
            },
            "type": "scatter"
           }
          ],
          "scatter3d": [
           {
            "line": {
             "colorbar": {
              "outlinewidth": 0,
              "ticks": ""
             }
            },
            "marker": {
             "colorbar": {
              "outlinewidth": 0,
              "ticks": ""
             }
            },
            "type": "scatter3d"
           }
          ],
          "scattercarpet": [
           {
            "marker": {
             "colorbar": {
              "outlinewidth": 0,
              "ticks": ""
             }
            },
            "type": "scattercarpet"
           }
          ],
          "scattergeo": [
           {
            "marker": {
             "colorbar": {
              "outlinewidth": 0,
              "ticks": ""
             }
            },
            "type": "scattergeo"
           }
          ],
          "scattergl": [
           {
            "marker": {
             "colorbar": {
              "outlinewidth": 0,
              "ticks": ""
             }
            },
            "type": "scattergl"
           }
          ],
          "scattermap": [
           {
            "marker": {
             "colorbar": {
              "outlinewidth": 0,
              "ticks": ""
             }
            },
            "type": "scattermap"
           }
          ],
          "scattermapbox": [
           {
            "marker": {
             "colorbar": {
              "outlinewidth": 0,
              "ticks": ""
             }
            },
            "type": "scattermapbox"
           }
          ],
          "scatterpolar": [
           {
            "marker": {
             "colorbar": {
              "outlinewidth": 0,
              "ticks": ""
             }
            },
            "type": "scatterpolar"
           }
          ],
          "scatterpolargl": [
           {
            "marker": {
             "colorbar": {
              "outlinewidth": 0,
              "ticks": ""
             }
            },
            "type": "scatterpolargl"
           }
          ],
          "scatterternary": [
           {
            "marker": {
             "colorbar": {
              "outlinewidth": 0,
              "ticks": ""
             }
            },
            "type": "scatterternary"
           }
          ],
          "surface": [
           {
            "colorbar": {
             "outlinewidth": 0,
             "ticks": ""
            },
            "colorscale": [
             [
              0,
              "#0d0887"
             ],
             [
              0.1111111111111111,
              "#46039f"
             ],
             [
              0.2222222222222222,
              "#7201a8"
             ],
             [
              0.3333333333333333,
              "#9c179e"
             ],
             [
              0.4444444444444444,
              "#bd3786"
             ],
             [
              0.5555555555555556,
              "#d8576b"
             ],
             [
              0.6666666666666666,
              "#ed7953"
             ],
             [
              0.7777777777777778,
              "#fb9f3a"
             ],
             [
              0.8888888888888888,
              "#fdca26"
             ],
             [
              1,
              "#f0f921"
             ]
            ],
            "type": "surface"
           }
          ],
          "table": [
           {
            "cells": {
             "fill": {
              "color": "#EBF0F8"
             },
             "line": {
              "color": "white"
             }
            },
            "header": {
             "fill": {
              "color": "#C8D4E3"
             },
             "line": {
              "color": "white"
             }
            },
            "type": "table"
           }
          ]
         },
         "layout": {
          "annotationdefaults": {
           "arrowcolor": "#2a3f5f",
           "arrowhead": 0,
           "arrowwidth": 1
          },
          "autotypenumbers": "strict",
          "coloraxis": {
           "colorbar": {
            "outlinewidth": 0,
            "ticks": ""
           }
          },
          "colorscale": {
           "diverging": [
            [
             0,
             "#8e0152"
            ],
            [
             0.1,
             "#c51b7d"
            ],
            [
             0.2,
             "#de77ae"
            ],
            [
             0.3,
             "#f1b6da"
            ],
            [
             0.4,
             "#fde0ef"
            ],
            [
             0.5,
             "#f7f7f7"
            ],
            [
             0.6,
             "#e6f5d0"
            ],
            [
             0.7,
             "#b8e186"
            ],
            [
             0.8,
             "#7fbc41"
            ],
            [
             0.9,
             "#4d9221"
            ],
            [
             1,
             "#276419"
            ]
           ],
           "sequential": [
            [
             0,
             "#0d0887"
            ],
            [
             0.1111111111111111,
             "#46039f"
            ],
            [
             0.2222222222222222,
             "#7201a8"
            ],
            [
             0.3333333333333333,
             "#9c179e"
            ],
            [
             0.4444444444444444,
             "#bd3786"
            ],
            [
             0.5555555555555556,
             "#d8576b"
            ],
            [
             0.6666666666666666,
             "#ed7953"
            ],
            [
             0.7777777777777778,
             "#fb9f3a"
            ],
            [
             0.8888888888888888,
             "#fdca26"
            ],
            [
             1,
             "#f0f921"
            ]
           ],
           "sequentialminus": [
            [
             0,
             "#0d0887"
            ],
            [
             0.1111111111111111,
             "#46039f"
            ],
            [
             0.2222222222222222,
             "#7201a8"
            ],
            [
             0.3333333333333333,
             "#9c179e"
            ],
            [
             0.4444444444444444,
             "#bd3786"
            ],
            [
             0.5555555555555556,
             "#d8576b"
            ],
            [
             0.6666666666666666,
             "#ed7953"
            ],
            [
             0.7777777777777778,
             "#fb9f3a"
            ],
            [
             0.8888888888888888,
             "#fdca26"
            ],
            [
             1,
             "#f0f921"
            ]
           ]
          },
          "colorway": [
           "#636efa",
           "#EF553B",
           "#00cc96",
           "#ab63fa",
           "#FFA15A",
           "#19d3f3",
           "#FF6692",
           "#B6E880",
           "#FF97FF",
           "#FECB52"
          ],
          "font": {
           "color": "#2a3f5f"
          },
          "geo": {
           "bgcolor": "white",
           "lakecolor": "white",
           "landcolor": "white",
           "showlakes": true,
           "showland": true,
           "subunitcolor": "#C8D4E3"
          },
          "hoverlabel": {
           "align": "left"
          },
          "hovermode": "closest",
          "mapbox": {
           "style": "light"
          },
          "paper_bgcolor": "white",
          "plot_bgcolor": "white",
          "polar": {
           "angularaxis": {
            "gridcolor": "#EBF0F8",
            "linecolor": "#EBF0F8",
            "ticks": ""
           },
           "bgcolor": "white",
           "radialaxis": {
            "gridcolor": "#EBF0F8",
            "linecolor": "#EBF0F8",
            "ticks": ""
           }
          },
          "scene": {
           "xaxis": {
            "backgroundcolor": "white",
            "gridcolor": "#DFE8F3",
            "gridwidth": 2,
            "linecolor": "#EBF0F8",
            "showbackground": true,
            "ticks": "",
            "zerolinecolor": "#EBF0F8"
           },
           "yaxis": {
            "backgroundcolor": "white",
            "gridcolor": "#DFE8F3",
            "gridwidth": 2,
            "linecolor": "#EBF0F8",
            "showbackground": true,
            "ticks": "",
            "zerolinecolor": "#EBF0F8"
           },
           "zaxis": {
            "backgroundcolor": "white",
            "gridcolor": "#DFE8F3",
            "gridwidth": 2,
            "linecolor": "#EBF0F8",
            "showbackground": true,
            "ticks": "",
            "zerolinecolor": "#EBF0F8"
           }
          },
          "shapedefaults": {
           "line": {
            "color": "#2a3f5f"
           }
          },
          "ternary": {
           "aaxis": {
            "gridcolor": "#DFE8F3",
            "linecolor": "#A2B1C6",
            "ticks": ""
           },
           "baxis": {
            "gridcolor": "#DFE8F3",
            "linecolor": "#A2B1C6",
            "ticks": ""
           },
           "bgcolor": "white",
           "caxis": {
            "gridcolor": "#DFE8F3",
            "linecolor": "#A2B1C6",
            "ticks": ""
           }
          },
          "title": {
           "x": 0.05
          },
          "xaxis": {
           "automargin": true,
           "gridcolor": "#EBF0F8",
           "linecolor": "#EBF0F8",
           "ticks": "",
           "title": {
            "standoff": 15
           },
           "zerolinecolor": "#EBF0F8",
           "zerolinewidth": 2
          },
          "yaxis": {
           "automargin": true,
           "gridcolor": "#EBF0F8",
           "linecolor": "#EBF0F8",
           "ticks": "",
           "title": {
            "standoff": 15
           },
           "zerolinecolor": "#EBF0F8",
           "zerolinewidth": 2
          }
         }
        },
        "title": {
         "font": {
          "size": 16
         },
         "text": "Evolução dos Múltiplos Forward (2025-2027)",
         "x": 0.5
        },
        "xaxis": {
         "anchor": "y",
         "domain": [
          0,
          0.44
         ],
         "tickangle": -45,
         "tickfont": {
          "size": 9
         }
        },
        "xaxis2": {
         "anchor": "y2",
         "domain": [
          0.56,
          1
         ],
         "tickangle": -45,
         "tickfont": {
          "size": 9
         }
        },
        "xaxis3": {
         "anchor": "y3",
         "domain": [
          0,
          0.44
         ],
         "tickangle": -45,
         "tickfont": {
          "size": 9
         }
        },
        "xaxis4": {
         "anchor": "y4",
         "domain": [
          0.56,
          1
         ],
         "tickangle": -45,
         "tickfont": {
          "size": 9
         }
        },
        "yaxis": {
         "anchor": "x",
         "domain": [
          0.6000000000000001,
          1
         ]
        },
        "yaxis2": {
         "anchor": "x2",
         "domain": [
          0.6000000000000001,
          1
         ]
        },
        "yaxis3": {
         "anchor": "x3",
         "domain": [
          0,
          0.4
         ]
        },
        "yaxis4": {
         "anchor": "x4",
         "domain": [
          0,
          0.4
         ]
        }
       }
      }
     },
     "metadata": {},
     "output_type": "display_data"
    },
    {
     "data": {
      "application/vnd.plotly.v1+json": {
       "config": {
        "plotlyServerURL": "https://plot.ly"
       },
       "data": [
        {
         "marker": {
          "color": "#711c99",
          "opacity": 0.6,
          "size": 10
         },
         "mode": "markers+text",
         "name": "Setores",
         "text": [
          "Information Technology",
          "Real Estate",
          "Health Care",
          "Industrials",
          "Utilities",
          "Financials",
          "Consumer Staples",
          "Consumer Discretionary",
          "Materials",
          "Communication Services",
          "Energy"
         ],
         "textfont": {
          "size": 10
         },
         "textposition": "top center",
         "type": "scatter",
         "x": {
          "bdata": "kML1KFzPJEBSuB6F69EjQOxRuB6F6xpAzczMzMzMGkAK16NwPQoaQKRwPQrXoxlAPQrXo3A9GUDD9Shcj8IXQMP1KFyPwhRArkfhehSuFECuR+F6FK4LQA==",
          "dtype": "f8"
         },
         "xaxis": "x",
         "y": {
          "bdata": "XI/C9ShcE0DXo3A9ClchQK5H4XoULhVAPQrXo3A9EUA0MzMzM7MaQOF6FK5HYRdACtejcD0KFUD2KFyPwvURQOF6FK5H4RBACtejcD0KEUCPwvUoXI8GQA==",
          "dtype": "f8"
         },
         "yaxis": "y"
        },
        {
         "line": {
          "color": "gray",
          "dash": "dash"
         },
         "mode": "lines",
         "showlegend": false,
         "type": "scatter",
         "x": [
          0,
          10.405000000000001
         ],
         "xaxis": "x",
         "y": [
          0,
          10.405000000000001
         ],
         "yaxis": "y"
        },
        {
         "marker": {
          "color": "#0effcb",
          "opacity": 0.6,
          "size": 10
         },
         "mode": "markers+text",
         "showlegend": false,
         "text": [
          "Information Technology",
          "Real Estate",
          "Health Care",
          "Industrials",
          "Utilities",
          "Financials",
          "Consumer Staples",
          "Consumer Discretionary",
          "Materials",
          "Communication Services",
          "Energy"
         ],
         "textfont": {
          "size": 10
         },
         "textposition": "top center",
         "type": "scatter",
         "x": {
          "bdata": "7FG4HoXLOUApXI/C9SgdQKRwPQrXoyhAZmZmZmZmI0ApXI/C9aghQClcj8L1KCBAH4XrUbieKUBxPQrXo3AbQIXrUbgeBSNA16NwPQpXL0CamZmZmZkUQA==",
          "dtype": "f8"
         },
         "xaxis": "x2",
         "y": {
          "bdata": "zczMzMzMGkCamZmZmZkVQGZmZmZmZh1AAAAAAAAAGEBmZmZmZmYkQDMzMzMzMxpAAAAAAAAAHkAAAAAAAAAcQMzMzMzMzBpAAAAAAAAAJUBmZmZmZmYOQA==",
          "dtype": "f8"
         },
         "yaxis": "y2"
        },
        {
         "line": {
          "color": "gray",
          "dash": "dash"
         },
         "mode": "lines",
         "showlegend": false,
         "type": "scatter",
         "x": [
          0,
          25.795
         ],
         "xaxis": "x2",
         "y": [
          0,
          25.795
         ],
         "yaxis": "y2"
        }
       ],
       "layout": {
        "annotations": [
         {
          "font": {
           "size": 16
          },
          "showarrow": false,
          "text": "EV/EBITDA: LTM vs 2027",
          "x": 0.2125,
          "xanchor": "center",
          "xref": "paper",
          "y": 1,
          "yanchor": "bottom",
          "yref": "paper"
         },
         {
          "font": {
           "size": 16
          },
          "showarrow": false,
          "text": "P/E: LTM vs 2027",
          "x": 0.7875,
          "xanchor": "center",
          "xref": "paper",
          "y": 1,
          "yanchor": "bottom",
          "yref": "paper"
         }
        ],
        "height": 600,
        "template": {
         "data": {
          "bar": [
           {
            "error_x": {
             "color": "#2a3f5f"
            },
            "error_y": {
             "color": "#2a3f5f"
            },
            "marker": {
             "line": {
              "color": "white",
              "width": 0.5
             },
             "pattern": {
              "fillmode": "overlay",
              "size": 10,
              "solidity": 0.2
             }
            },
            "type": "bar"
           }
          ],
          "barpolar": [
           {
            "marker": {
             "line": {
              "color": "white",
              "width": 0.5
             },
             "pattern": {
              "fillmode": "overlay",
              "size": 10,
              "solidity": 0.2
             }
            },
            "type": "barpolar"
           }
          ],
          "carpet": [
           {
            "aaxis": {
             "endlinecolor": "#2a3f5f",
             "gridcolor": "#C8D4E3",
             "linecolor": "#C8D4E3",
             "minorgridcolor": "#C8D4E3",
             "startlinecolor": "#2a3f5f"
            },
            "baxis": {
             "endlinecolor": "#2a3f5f",
             "gridcolor": "#C8D4E3",
             "linecolor": "#C8D4E3",
             "minorgridcolor": "#C8D4E3",
             "startlinecolor": "#2a3f5f"
            },
            "type": "carpet"
           }
          ],
          "choropleth": [
           {
            "colorbar": {
             "outlinewidth": 0,
             "ticks": ""
            },
            "type": "choropleth"
           }
          ],
          "contour": [
           {
            "colorbar": {
             "outlinewidth": 0,
             "ticks": ""
            },
            "colorscale": [
             [
              0,
              "#0d0887"
             ],
             [
              0.1111111111111111,
              "#46039f"
             ],
             [
              0.2222222222222222,
              "#7201a8"
             ],
             [
              0.3333333333333333,
              "#9c179e"
             ],
             [
              0.4444444444444444,
              "#bd3786"
             ],
             [
              0.5555555555555556,
              "#d8576b"
             ],
             [
              0.6666666666666666,
              "#ed7953"
             ],
             [
              0.7777777777777778,
              "#fb9f3a"
             ],
             [
              0.8888888888888888,
              "#fdca26"
             ],
             [
              1,
              "#f0f921"
             ]
            ],
            "type": "contour"
           }
          ],
          "contourcarpet": [
           {
            "colorbar": {
             "outlinewidth": 0,
             "ticks": ""
            },
            "type": "contourcarpet"
           }
          ],
          "heatmap": [
           {
            "colorbar": {
             "outlinewidth": 0,
             "ticks": ""
            },
            "colorscale": [
             [
              0,
              "#0d0887"
             ],
             [
              0.1111111111111111,
              "#46039f"
             ],
             [
              0.2222222222222222,
              "#7201a8"
             ],
             [
              0.3333333333333333,
              "#9c179e"
             ],
             [
              0.4444444444444444,
              "#bd3786"
             ],
             [
              0.5555555555555556,
              "#d8576b"
             ],
             [
              0.6666666666666666,
              "#ed7953"
             ],
             [
              0.7777777777777778,
              "#fb9f3a"
             ],
             [
              0.8888888888888888,
              "#fdca26"
             ],
             [
              1,
              "#f0f921"
             ]
            ],
            "type": "heatmap"
           }
          ],
          "histogram": [
           {
            "marker": {
             "pattern": {
              "fillmode": "overlay",
              "size": 10,
              "solidity": 0.2
             }
            },
            "type": "histogram"
           }
          ],
          "histogram2d": [
           {
            "colorbar": {
             "outlinewidth": 0,
             "ticks": ""
            },
            "colorscale": [
             [
              0,
              "#0d0887"
             ],
             [
              0.1111111111111111,
              "#46039f"
             ],
             [
              0.2222222222222222,
              "#7201a8"
             ],
             [
              0.3333333333333333,
              "#9c179e"
             ],
             [
              0.4444444444444444,
              "#bd3786"
             ],
             [
              0.5555555555555556,
              "#d8576b"
             ],
             [
              0.6666666666666666,
              "#ed7953"
             ],
             [
              0.7777777777777778,
              "#fb9f3a"
             ],
             [
              0.8888888888888888,
              "#fdca26"
             ],
             [
              1,
              "#f0f921"
             ]
            ],
            "type": "histogram2d"
           }
          ],
          "histogram2dcontour": [
           {
            "colorbar": {
             "outlinewidth": 0,
             "ticks": ""
            },
            "colorscale": [
             [
              0,
              "#0d0887"
             ],
             [
              0.1111111111111111,
              "#46039f"
             ],
             [
              0.2222222222222222,
              "#7201a8"
             ],
             [
              0.3333333333333333,
              "#9c179e"
             ],
             [
              0.4444444444444444,
              "#bd3786"
             ],
             [
              0.5555555555555556,
              "#d8576b"
             ],
             [
              0.6666666666666666,
              "#ed7953"
             ],
             [
              0.7777777777777778,
              "#fb9f3a"
             ],
             [
              0.8888888888888888,
              "#fdca26"
             ],
             [
              1,
              "#f0f921"
             ]
            ],
            "type": "histogram2dcontour"
           }
          ],
          "mesh3d": [
           {
            "colorbar": {
             "outlinewidth": 0,
             "ticks": ""
            },
            "type": "mesh3d"
           }
          ],
          "parcoords": [
           {
            "line": {
             "colorbar": {
              "outlinewidth": 0,
              "ticks": ""
             }
            },
            "type": "parcoords"
           }
          ],
          "pie": [
           {
            "automargin": true,
            "type": "pie"
           }
          ],
          "scatter": [
           {
            "fillpattern": {
             "fillmode": "overlay",
             "size": 10,
             "solidity": 0.2
            },
            "type": "scatter"
           }
          ],
          "scatter3d": [
           {
            "line": {
             "colorbar": {
              "outlinewidth": 0,
              "ticks": ""
             }
            },
            "marker": {
             "colorbar": {
              "outlinewidth": 0,
              "ticks": ""
             }
            },
            "type": "scatter3d"
           }
          ],
          "scattercarpet": [
           {
            "marker": {
             "colorbar": {
              "outlinewidth": 0,
              "ticks": ""
             }
            },
            "type": "scattercarpet"
           }
          ],
          "scattergeo": [
           {
            "marker": {
             "colorbar": {
              "outlinewidth": 0,
              "ticks": ""
             }
            },
            "type": "scattergeo"
           }
          ],
          "scattergl": [
           {
            "marker": {
             "colorbar": {
              "outlinewidth": 0,
              "ticks": ""
             }
            },
            "type": "scattergl"
           }
          ],
          "scattermap": [
           {
            "marker": {
             "colorbar": {
              "outlinewidth": 0,
              "ticks": ""
             }
            },
            "type": "scattermap"
           }
          ],
          "scattermapbox": [
           {
            "marker": {
             "colorbar": {
              "outlinewidth": 0,
              "ticks": ""
             }
            },
            "type": "scattermapbox"
           }
          ],
          "scatterpolar": [
           {
            "marker": {
             "colorbar": {
              "outlinewidth": 0,
              "ticks": ""
             }
            },
            "type": "scatterpolar"
           }
          ],
          "scatterpolargl": [
           {
            "marker": {
             "colorbar": {
              "outlinewidth": 0,
              "ticks": ""
             }
            },
            "type": "scatterpolargl"
           }
          ],
          "scatterternary": [
           {
            "marker": {
             "colorbar": {
              "outlinewidth": 0,
              "ticks": ""
             }
            },
            "type": "scatterternary"
           }
          ],
          "surface": [
           {
            "colorbar": {
             "outlinewidth": 0,
             "ticks": ""
            },
            "colorscale": [
             [
              0,
              "#0d0887"
             ],
             [
              0.1111111111111111,
              "#46039f"
             ],
             [
              0.2222222222222222,
              "#7201a8"
             ],
             [
              0.3333333333333333,
              "#9c179e"
             ],
             [
              0.4444444444444444,
              "#bd3786"
             ],
             [
              0.5555555555555556,
              "#d8576b"
             ],
             [
              0.6666666666666666,
              "#ed7953"
             ],
             [
              0.7777777777777778,
              "#fb9f3a"
             ],
             [
              0.8888888888888888,
              "#fdca26"
             ],
             [
              1,
              "#f0f921"
             ]
            ],
            "type": "surface"
           }
          ],
          "table": [
           {
            "cells": {
             "fill": {
              "color": "#EBF0F8"
             },
             "line": {
              "color": "white"
             }
            },
            "header": {
             "fill": {
              "color": "#C8D4E3"
             },
             "line": {
              "color": "white"
             }
            },
            "type": "table"
           }
          ]
         },
         "layout": {
          "annotationdefaults": {
           "arrowcolor": "#2a3f5f",
           "arrowhead": 0,
           "arrowwidth": 1
          },
          "autotypenumbers": "strict",
          "coloraxis": {
           "colorbar": {
            "outlinewidth": 0,
            "ticks": ""
           }
          },
          "colorscale": {
           "diverging": [
            [
             0,
             "#8e0152"
            ],
            [
             0.1,
             "#c51b7d"
            ],
            [
             0.2,
             "#de77ae"
            ],
            [
             0.3,
             "#f1b6da"
            ],
            [
             0.4,
             "#fde0ef"
            ],
            [
             0.5,
             "#f7f7f7"
            ],
            [
             0.6,
             "#e6f5d0"
            ],
            [
             0.7,
             "#b8e186"
            ],
            [
             0.8,
             "#7fbc41"
            ],
            [
             0.9,
             "#4d9221"
            ],
            [
             1,
             "#276419"
            ]
           ],
           "sequential": [
            [
             0,
             "#0d0887"
            ],
            [
             0.1111111111111111,
             "#46039f"
            ],
            [
             0.2222222222222222,
             "#7201a8"
            ],
            [
             0.3333333333333333,
             "#9c179e"
            ],
            [
             0.4444444444444444,
             "#bd3786"
            ],
            [
             0.5555555555555556,
             "#d8576b"
            ],
            [
             0.6666666666666666,
             "#ed7953"
            ],
            [
             0.7777777777777778,
             "#fb9f3a"
            ],
            [
             0.8888888888888888,
             "#fdca26"
            ],
            [
             1,
             "#f0f921"
            ]
           ],
           "sequentialminus": [
            [
             0,
             "#0d0887"
            ],
            [
             0.1111111111111111,
             "#46039f"
            ],
            [
             0.2222222222222222,
             "#7201a8"
            ],
            [
             0.3333333333333333,
             "#9c179e"
            ],
            [
             0.4444444444444444,
             "#bd3786"
            ],
            [
             0.5555555555555556,
             "#d8576b"
            ],
            [
             0.6666666666666666,
             "#ed7953"
            ],
            [
             0.7777777777777778,
             "#fb9f3a"
            ],
            [
             0.8888888888888888,
             "#fdca26"
            ],
            [
             1,
             "#f0f921"
            ]
           ]
          },
          "colorway": [
           "#636efa",
           "#EF553B",
           "#00cc96",
           "#ab63fa",
           "#FFA15A",
           "#19d3f3",
           "#FF6692",
           "#B6E880",
           "#FF97FF",
           "#FECB52"
          ],
          "font": {
           "color": "#2a3f5f"
          },
          "geo": {
           "bgcolor": "white",
           "lakecolor": "white",
           "landcolor": "white",
           "showlakes": true,
           "showland": true,
           "subunitcolor": "#C8D4E3"
          },
          "hoverlabel": {
           "align": "left"
          },
          "hovermode": "closest",
          "mapbox": {
           "style": "light"
          },
          "paper_bgcolor": "white",
          "plot_bgcolor": "white",
          "polar": {
           "angularaxis": {
            "gridcolor": "#EBF0F8",
            "linecolor": "#EBF0F8",
            "ticks": ""
           },
           "bgcolor": "white",
           "radialaxis": {
            "gridcolor": "#EBF0F8",
            "linecolor": "#EBF0F8",
            "ticks": ""
           }
          },
          "scene": {
           "xaxis": {
            "backgroundcolor": "white",
            "gridcolor": "#DFE8F3",
            "gridwidth": 2,
            "linecolor": "#EBF0F8",
            "showbackground": true,
            "ticks": "",
            "zerolinecolor": "#EBF0F8"
           },
           "yaxis": {
            "backgroundcolor": "white",
            "gridcolor": "#DFE8F3",
            "gridwidth": 2,
            "linecolor": "#EBF0F8",
            "showbackground": true,
            "ticks": "",
            "zerolinecolor": "#EBF0F8"
           },
           "zaxis": {
            "backgroundcolor": "white",
            "gridcolor": "#DFE8F3",
            "gridwidth": 2,
            "linecolor": "#EBF0F8",
            "showbackground": true,
            "ticks": "",
            "zerolinecolor": "#EBF0F8"
           }
          },
          "shapedefaults": {
           "line": {
            "color": "#2a3f5f"
           }
          },
          "ternary": {
           "aaxis": {
            "gridcolor": "#DFE8F3",
            "linecolor": "#A2B1C6",
            "ticks": ""
           },
           "baxis": {
            "gridcolor": "#DFE8F3",
            "linecolor": "#A2B1C6",
            "ticks": ""
           },
           "bgcolor": "white",
           "caxis": {
            "gridcolor": "#DFE8F3",
            "linecolor": "#A2B1C6",
            "ticks": ""
           }
          },
          "title": {
           "x": 0.05
          },
          "xaxis": {
           "automargin": true,
           "gridcolor": "#EBF0F8",
           "linecolor": "#EBF0F8",
           "ticks": "",
           "title": {
            "standoff": 15
           },
           "zerolinecolor": "#EBF0F8",
           "zerolinewidth": 2
          },
          "yaxis": {
           "automargin": true,
           "gridcolor": "#EBF0F8",
           "linecolor": "#EBF0F8",
           "ticks": "",
           "title": {
            "standoff": 15
           },
           "zerolinecolor": "#EBF0F8",
           "zerolinewidth": 2
          }
         }
        },
        "title": {
         "font": {
          "size": 16
         },
         "text": "Comparação: Múltiplos LTM vs Forward 2027",
         "x": 0.5
        },
        "xaxis": {
         "anchor": "y",
         "domain": [
          0,
          0.425
         ],
         "title": {
          "text": "Múltiplo LTM"
         }
        },
        "xaxis2": {
         "anchor": "y2",
         "domain": [
          0.575,
          1
         ],
         "title": {
          "text": "Múltiplo LTM"
         }
        },
        "yaxis": {
         "anchor": "x",
         "domain": [
          0,
          1
         ],
         "title": {
          "text": "Múltiplo FWD 2027"
         }
        },
        "yaxis2": {
         "anchor": "x2",
         "domain": [
          0,
          1
         ],
         "title": {
          "text": "Múltiplo FWD 2027"
         }
        }
       }
      }
     },
     "metadata": {},
     "output_type": "display_data"
    },
    {
     "data": {
      "application/vnd.plotly.v1+json": {
       "config": {
        "plotlyServerURL": "https://plot.ly"
       },
       "data": [
        {
         "colorbar": {
          "len": 0.8,
          "title": {
           "text": "Múltiplo"
          }
         },
         "colorscale": [
          [
           0,
           "#1a5c1a"
          ],
          [
           0.2,
           "#28a745"
          ],
          [
           0.4,
           "#90ee90"
          ],
          [
           0.5,
           "#ffffe0"
          ],
          [
           0.6,
           "#ffd700"
          ],
          [
           0.8,
           "#ff8c00"
          ],
          [
           1,
           "#8b0000"
          ]
         ],
         "text": {
          "bdata": "AAAAAAAA8D+amZmZmZkXQAAAAAAAACBAZmZmZmZmJECamZmZmZkbQAAAAAAAAPA/ZmZmZmZm9j/NzMzMzMwaQJqZmZmZmSFAZmZmZmZmJkBmZmZmZmYjQGZmZmZmZvY/mpmZmZmZFUDNzMzMzMwjQM3MzMzMzCZAZmZmZmZmIEAzMzMzMzMdQGZmZmZmZuY/AAAAAAAABECamZmZmZkZQAAAAAAAABxAZmZmZmZmIkAzMzMzMzMgQM3MzMzMzPQ/AAAAAAAA8D/NzMzMzMwUQAAAAAAAACJAmpmZmZkZMkAAAAAAAAAjQAAAAAAAAPA/MzMzMzMzA0AAAAAAAAAaQM3MzMzMzCBAMzMzMzMzN0CamZmZmZkhQAAAAAAAAPg/MzMzMzMz4z8zMzMzMzMZQM3MzMzMzCJAmpmZmZmZKUCamZmZmZkpQDMzMzMzM/M/ZmZmZmZm/j/NzMzMzMwUQAAAAAAAACRAZmZmZmZmIEBmZmZmZmYvQM3MzMzMzOw/zczMzMzM9D/NzMzMzMwaQAAAAAAAACFAAAAAAAAAKkCamZmZmZkoQJqZmZmZmfE/zczMzMzM7D/NzMzMzMwkQAAAAAAAACxAMzMzMzOzMEDNzMzMzMw5QAAAAAAAAOA/AAAAAAAAAEAAAAAAAAAMQJqZmZmZmRVAzczMzMzMKEDNzMzMzMwUQJqZmZmZmek/",
          "dtype": "f8",
          "shape": "11, 6"
         },
         "textfont": {
          "size": 10
         },
         "texttemplate": "%{text}x",
         "type": "heatmap",
         "x": [
          "EV/REVENUE_LTM",
          "EV/EBITDA_LTM",
          "EV/EBIT_LTM",
          "EV/UFCF_LTM",
          "PE_LTM",
          "PBV_LTM"
         ],
         "y": [
          "Consumer Discretionary",
          "Industrials",
          "Real Estate",
          "Financials",
          "Materials",
          "Utilities",
          "Consumer Staples",
          "Communication Services",
          "Health Care",
          "Information Technology",
          "Energy"
         ],
         "z": {
          "bdata": "PgrXo3A98D/D9Shcj8IXQJqZmZmZGSBAZmZmZmZmJEBxPQrXo3AbQI/C9Shcj+4/CtejcD0K9z/NzMzMzMwaQClcj8L1qCFAXI/C9ShcJkBmZmZmZmYjQOF6FK5H4fY/mpmZmZmZFUBSuB6F69EjQFyPwvUo3CZAH4XrUbheIEApXI/C9SgdQK5H4XoUruc/UrgehetRBECkcD0K16MZQM3MzMzMzBtAUrgehetRIkApXI/C9SggQM3MzMzMzPQ/rkfhehSu7z/D9Shcj8IUQOxRuB6F6yFAHoXrUbgeMkCF61G4HgUjQClcj8L1KPA/zczMzMzMAkAK16NwPQoaQFK4HoXr0SBArkfhehQuN0ApXI/C9aghQKRwPQrXo/g/PQrXo3A94j89CtejcD0ZQFyPwvUo3CJACtejcD2KKUAfhetRuJ4pQMzMzMzMzPI/rkfhehSu/T+uR+F6FK4UQIXrUbgeBSRAcT0K16NwIEDXo3A9ClcvQIXrUbgehes/NDMzMzMz9T/sUbgehesaQI/C9ShcDyFAPgrXo3D9KUCkcD0K16MoQOJ6FK5H4fA/hetRuB6F6z+QwvUoXM8kQJqZmZmZGSxAcT0K16OwMEDsUbgehcs5QB+F61G4HuE/FK5H4XoUAECuR+F6FK4LQKRwPQrXoxVAmpmZmZnZKECamZmZmZkUQOxRuB6F6+k/",
          "dtype": "f8",
          "shape": "11, 6"
         }
        }
       ],
       "layout": {
        "height": 700,
        "template": {
         "data": {
          "bar": [
           {
            "error_x": {
             "color": "#2a3f5f"
            },
            "error_y": {
             "color": "#2a3f5f"
            },
            "marker": {
             "line": {
              "color": "white",
              "width": 0.5
             },
             "pattern": {
              "fillmode": "overlay",
              "size": 10,
              "solidity": 0.2
             }
            },
            "type": "bar"
           }
          ],
          "barpolar": [
           {
            "marker": {
             "line": {
              "color": "white",
              "width": 0.5
             },
             "pattern": {
              "fillmode": "overlay",
              "size": 10,
              "solidity": 0.2
             }
            },
            "type": "barpolar"
           }
          ],
          "carpet": [
           {
            "aaxis": {
             "endlinecolor": "#2a3f5f",
             "gridcolor": "#C8D4E3",
             "linecolor": "#C8D4E3",
             "minorgridcolor": "#C8D4E3",
             "startlinecolor": "#2a3f5f"
            },
            "baxis": {
             "endlinecolor": "#2a3f5f",
             "gridcolor": "#C8D4E3",
             "linecolor": "#C8D4E3",
             "minorgridcolor": "#C8D4E3",
             "startlinecolor": "#2a3f5f"
            },
            "type": "carpet"
           }
          ],
          "choropleth": [
           {
            "colorbar": {
             "outlinewidth": 0,
             "ticks": ""
            },
            "type": "choropleth"
           }
          ],
          "contour": [
           {
            "colorbar": {
             "outlinewidth": 0,
             "ticks": ""
            },
            "colorscale": [
             [
              0,
              "#0d0887"
             ],
             [
              0.1111111111111111,
              "#46039f"
             ],
             [
              0.2222222222222222,
              "#7201a8"
             ],
             [
              0.3333333333333333,
              "#9c179e"
             ],
             [
              0.4444444444444444,
              "#bd3786"
             ],
             [
              0.5555555555555556,
              "#d8576b"
             ],
             [
              0.6666666666666666,
              "#ed7953"
             ],
             [
              0.7777777777777778,
              "#fb9f3a"
             ],
             [
              0.8888888888888888,
              "#fdca26"
             ],
             [
              1,
              "#f0f921"
             ]
            ],
            "type": "contour"
           }
          ],
          "contourcarpet": [
           {
            "colorbar": {
             "outlinewidth": 0,
             "ticks": ""
            },
            "type": "contourcarpet"
           }
          ],
          "heatmap": [
           {
            "colorbar": {
             "outlinewidth": 0,
             "ticks": ""
            },
            "colorscale": [
             [
              0,
              "#0d0887"
             ],
             [
              0.1111111111111111,
              "#46039f"
             ],
             [
              0.2222222222222222,
              "#7201a8"
             ],
             [
              0.3333333333333333,
              "#9c179e"
             ],
             [
              0.4444444444444444,
              "#bd3786"
             ],
             [
              0.5555555555555556,
              "#d8576b"
             ],
             [
              0.6666666666666666,
              "#ed7953"
             ],
             [
              0.7777777777777778,
              "#fb9f3a"
             ],
             [
              0.8888888888888888,
              "#fdca26"
             ],
             [
              1,
              "#f0f921"
             ]
            ],
            "type": "heatmap"
           }
          ],
          "histogram": [
           {
            "marker": {
             "pattern": {
              "fillmode": "overlay",
              "size": 10,
              "solidity": 0.2
             }
            },
            "type": "histogram"
           }
          ],
          "histogram2d": [
           {
            "colorbar": {
             "outlinewidth": 0,
             "ticks": ""
            },
            "colorscale": [
             [
              0,
              "#0d0887"
             ],
             [
              0.1111111111111111,
              "#46039f"
             ],
             [
              0.2222222222222222,
              "#7201a8"
             ],
             [
              0.3333333333333333,
              "#9c179e"
             ],
             [
              0.4444444444444444,
              "#bd3786"
             ],
             [
              0.5555555555555556,
              "#d8576b"
             ],
             [
              0.6666666666666666,
              "#ed7953"
             ],
             [
              0.7777777777777778,
              "#fb9f3a"
             ],
             [
              0.8888888888888888,
              "#fdca26"
             ],
             [
              1,
              "#f0f921"
             ]
            ],
            "type": "histogram2d"
           }
          ],
          "histogram2dcontour": [
           {
            "colorbar": {
             "outlinewidth": 0,
             "ticks": ""
            },
            "colorscale": [
             [
              0,
              "#0d0887"
             ],
             [
              0.1111111111111111,
              "#46039f"
             ],
             [
              0.2222222222222222,
              "#7201a8"
             ],
             [
              0.3333333333333333,
              "#9c179e"
             ],
             [
              0.4444444444444444,
              "#bd3786"
             ],
             [
              0.5555555555555556,
              "#d8576b"
             ],
             [
              0.6666666666666666,
              "#ed7953"
             ],
             [
              0.7777777777777778,
              "#fb9f3a"
             ],
             [
              0.8888888888888888,
              "#fdca26"
             ],
             [
              1,
              "#f0f921"
             ]
            ],
            "type": "histogram2dcontour"
           }
          ],
          "mesh3d": [
           {
            "colorbar": {
             "outlinewidth": 0,
             "ticks": ""
            },
            "type": "mesh3d"
           }
          ],
          "parcoords": [
           {
            "line": {
             "colorbar": {
              "outlinewidth": 0,
              "ticks": ""
             }
            },
            "type": "parcoords"
           }
          ],
          "pie": [
           {
            "automargin": true,
            "type": "pie"
           }
          ],
          "scatter": [
           {
            "fillpattern": {
             "fillmode": "overlay",
             "size": 10,
             "solidity": 0.2
            },
            "type": "scatter"
           }
          ],
          "scatter3d": [
           {
            "line": {
             "colorbar": {
              "outlinewidth": 0,
              "ticks": ""
             }
            },
            "marker": {
             "colorbar": {
              "outlinewidth": 0,
              "ticks": ""
             }
            },
            "type": "scatter3d"
           }
          ],
          "scattercarpet": [
           {
            "marker": {
             "colorbar": {
              "outlinewidth": 0,
              "ticks": ""
             }
            },
            "type": "scattercarpet"
           }
          ],
          "scattergeo": [
           {
            "marker": {
             "colorbar": {
              "outlinewidth": 0,
              "ticks": ""
             }
            },
            "type": "scattergeo"
           }
          ],
          "scattergl": [
           {
            "marker": {
             "colorbar": {
              "outlinewidth": 0,
              "ticks": ""
             }
            },
            "type": "scattergl"
           }
          ],
          "scattermap": [
           {
            "marker": {
             "colorbar": {
              "outlinewidth": 0,
              "ticks": ""
             }
            },
            "type": "scattermap"
           }
          ],
          "scattermapbox": [
           {
            "marker": {
             "colorbar": {
              "outlinewidth": 0,
              "ticks": ""
             }
            },
            "type": "scattermapbox"
           }
          ],
          "scatterpolar": [
           {
            "marker": {
             "colorbar": {
              "outlinewidth": 0,
              "ticks": ""
             }
            },
            "type": "scatterpolar"
           }
          ],
          "scatterpolargl": [
           {
            "marker": {
             "colorbar": {
              "outlinewidth": 0,
              "ticks": ""
             }
            },
            "type": "scatterpolargl"
           }
          ],
          "scatterternary": [
           {
            "marker": {
             "colorbar": {
              "outlinewidth": 0,
              "ticks": ""
             }
            },
            "type": "scatterternary"
           }
          ],
          "surface": [
           {
            "colorbar": {
             "outlinewidth": 0,
             "ticks": ""
            },
            "colorscale": [
             [
              0,
              "#0d0887"
             ],
             [
              0.1111111111111111,
              "#46039f"
             ],
             [
              0.2222222222222222,
              "#7201a8"
             ],
             [
              0.3333333333333333,
              "#9c179e"
             ],
             [
              0.4444444444444444,
              "#bd3786"
             ],
             [
              0.5555555555555556,
              "#d8576b"
             ],
             [
              0.6666666666666666,
              "#ed7953"
             ],
             [
              0.7777777777777778,
              "#fb9f3a"
             ],
             [
              0.8888888888888888,
              "#fdca26"
             ],
             [
              1,
              "#f0f921"
             ]
            ],
            "type": "surface"
           }
          ],
          "table": [
           {
            "cells": {
             "fill": {
              "color": "#EBF0F8"
             },
             "line": {
              "color": "white"
             }
            },
            "header": {
             "fill": {
              "color": "#C8D4E3"
             },
             "line": {
              "color": "white"
             }
            },
            "type": "table"
           }
          ]
         },
         "layout": {
          "annotationdefaults": {
           "arrowcolor": "#2a3f5f",
           "arrowhead": 0,
           "arrowwidth": 1
          },
          "autotypenumbers": "strict",
          "coloraxis": {
           "colorbar": {
            "outlinewidth": 0,
            "ticks": ""
           }
          },
          "colorscale": {
           "diverging": [
            [
             0,
             "#8e0152"
            ],
            [
             0.1,
             "#c51b7d"
            ],
            [
             0.2,
             "#de77ae"
            ],
            [
             0.3,
             "#f1b6da"
            ],
            [
             0.4,
             "#fde0ef"
            ],
            [
             0.5,
             "#f7f7f7"
            ],
            [
             0.6,
             "#e6f5d0"
            ],
            [
             0.7,
             "#b8e186"
            ],
            [
             0.8,
             "#7fbc41"
            ],
            [
             0.9,
             "#4d9221"
            ],
            [
             1,
             "#276419"
            ]
           ],
           "sequential": [
            [
             0,
             "#0d0887"
            ],
            [
             0.1111111111111111,
             "#46039f"
            ],
            [
             0.2222222222222222,
             "#7201a8"
            ],
            [
             0.3333333333333333,
             "#9c179e"
            ],
            [
             0.4444444444444444,
             "#bd3786"
            ],
            [
             0.5555555555555556,
             "#d8576b"
            ],
            [
             0.6666666666666666,
             "#ed7953"
            ],
            [
             0.7777777777777778,
             "#fb9f3a"
            ],
            [
             0.8888888888888888,
             "#fdca26"
            ],
            [
             1,
             "#f0f921"
            ]
           ],
           "sequentialminus": [
            [
             0,
             "#0d0887"
            ],
            [
             0.1111111111111111,
             "#46039f"
            ],
            [
             0.2222222222222222,
             "#7201a8"
            ],
            [
             0.3333333333333333,
             "#9c179e"
            ],
            [
             0.4444444444444444,
             "#bd3786"
            ],
            [
             0.5555555555555556,
             "#d8576b"
            ],
            [
             0.6666666666666666,
             "#ed7953"
            ],
            [
             0.7777777777777778,
             "#fb9f3a"
            ],
            [
             0.8888888888888888,
             "#fdca26"
            ],
            [
             1,
             "#f0f921"
            ]
           ]
          },
          "colorway": [
           "#636efa",
           "#EF553B",
           "#00cc96",
           "#ab63fa",
           "#FFA15A",
           "#19d3f3",
           "#FF6692",
           "#B6E880",
           "#FF97FF",
           "#FECB52"
          ],
          "font": {
           "color": "#2a3f5f"
          },
          "geo": {
           "bgcolor": "white",
           "lakecolor": "white",
           "landcolor": "white",
           "showlakes": true,
           "showland": true,
           "subunitcolor": "#C8D4E3"
          },
          "hoverlabel": {
           "align": "left"
          },
          "hovermode": "closest",
          "mapbox": {
           "style": "light"
          },
          "paper_bgcolor": "white",
          "plot_bgcolor": "white",
          "polar": {
           "angularaxis": {
            "gridcolor": "#EBF0F8",
            "linecolor": "#EBF0F8",
            "ticks": ""
           },
           "bgcolor": "white",
           "radialaxis": {
            "gridcolor": "#EBF0F8",
            "linecolor": "#EBF0F8",
            "ticks": ""
           }
          },
          "scene": {
           "xaxis": {
            "backgroundcolor": "white",
            "gridcolor": "#DFE8F3",
            "gridwidth": 2,
            "linecolor": "#EBF0F8",
            "showbackground": true,
            "ticks": "",
            "zerolinecolor": "#EBF0F8"
           },
           "yaxis": {
            "backgroundcolor": "white",
            "gridcolor": "#DFE8F3",
            "gridwidth": 2,
            "linecolor": "#EBF0F8",
            "showbackground": true,
            "ticks": "",
            "zerolinecolor": "#EBF0F8"
           },
           "zaxis": {
            "backgroundcolor": "white",
            "gridcolor": "#DFE8F3",
            "gridwidth": 2,
            "linecolor": "#EBF0F8",
            "showbackground": true,
            "ticks": "",
            "zerolinecolor": "#EBF0F8"
           }
          },
          "shapedefaults": {
           "line": {
            "color": "#2a3f5f"
           }
          },
          "ternary": {
           "aaxis": {
            "gridcolor": "#DFE8F3",
            "linecolor": "#A2B1C6",
            "ticks": ""
           },
           "baxis": {
            "gridcolor": "#DFE8F3",
            "linecolor": "#A2B1C6",
            "ticks": ""
           },
           "bgcolor": "white",
           "caxis": {
            "gridcolor": "#DFE8F3",
            "linecolor": "#A2B1C6",
            "ticks": ""
           }
          },
          "title": {
           "x": 0.05
          },
          "xaxis": {
           "automargin": true,
           "gridcolor": "#EBF0F8",
           "linecolor": "#EBF0F8",
           "ticks": "",
           "title": {
            "standoff": 15
           },
           "zerolinecolor": "#EBF0F8",
           "zerolinewidth": 2
          },
          "yaxis": {
           "automargin": true,
           "gridcolor": "#EBF0F8",
           "linecolor": "#EBF0F8",
           "ticks": "",
           "title": {
            "standoff": 15
           },
           "zerolinecolor": "#EBF0F8",
           "zerolinewidth": 2
          }
         }
        },
        "title": {
         "font": {
          "size": 16
         },
         "text": "Heatmap: Múltiplos LTM por Setor"
        },
        "width": 1000,
        "xaxis": {
         "title": {
          "text": "Múltiplo"
         }
        },
        "yaxis": {
         "title": {
          "text": "Setor"
         }
        }
       }
      }
     },
     "metadata": {},
     "output_type": "display_data"
    },
    {
     "data": {
      "application/vnd.plotly.v1+json": {
       "config": {
        "plotlyServerURL": "https://plot.ly"
       },
       "data": [
        {
         "colorbar": {
          "len": 0.8,
          "title": {
           "text": "Múltiplo"
          }
         },
         "colorscale": [
          [
           0,
           "#1a5c1a"
          ],
          [
           0.2,
           "#28a745"
          ],
          [
           0.4,
           "#90ee90"
          ],
          [
           0.5,
           "#ffffe0"
          ],
          [
           0.6,
           "#ffd700"
          ],
          [
           0.8,
           "#ff8c00"
          ],
          [
           1,
           "#8b0000"
          ]
         ],
         "text": {
          "bdata": "AAAAAAAA8D+amZmZmZkVQJqZmZmZmSBAmpmZmZmZIkDNzMzMzMzsPzMzMzMzMxNAMzMzMzMzG0AAAAAAAAAgQJqZmZmZmek/AAAAAAAAEkBmZmZmZmYYQAAAAAAAABxAZmZmZmZm9j/NzMzMzMwUQJqZmZmZmSBAmpmZmZmZKEAzMzMzMzPzP2ZmZmZmZhJAMzMzMzMzGUBmZmZmZmYcQDMzMzMzM/M/MzMzMzMzEUCamZmZmZkXQAAAAAAAABhAzczMzMzMDEDNzMzMzMwgQAAAAAAAACVAAAAAAAAAFkDNzMzMzMwSQDMzMzMzMyJAMzMzMzMzJEAzMzMzMzMbQGZmZmZmZhZAZmZmZmZmIUAAAAAAAAAkQJqZmZmZmRVAAAAAAAAAAECamZmZmZkNQDMzMzMzMyBAmpmZmZmZIUAzMzMzMzMPQDMzMzMzMxlAMzMzMzMzHUAAAAAAAAAeQAAAAAAAAAxAMzMzMzMzF0AAAAAAAAAgQGZmZmZmZhpAzczMzMzM9D/NzMzMzMwWQGZmZmZmZiRAAAAAAAAAIkCamZmZmZn5P5qZmZmZmRNAzczMzMzMIEAAAAAAAAAgQDMzMzMzM/M/zczMzMzMEEBmZmZmZmYcQM3MzMzMzBpAZmZmZmZmBkAAAAAAAAAgQAAAAAAAACVAzczMzMzMKUAzMzMzMzMHQM3MzMzMzBxAMzMzMzMzIkAAAAAAAAAnQDMzMzMzMwdAzczMzMzMGkAzMzMzMzMhQGZmZmZmZiRAAAAAAAAA4D+amZmZmZkXQGZmZmZmZiBAzczMzMzMI0CamZmZmZnZP83MzMzMzBZAmpmZmZmZHUCamZmZmZkjQJqZmZmZmdk/MzMzMzMzFUAAAAAAAAAcQAAAAAAAAB5AzczMzMzM/D+amZmZmZkTQDMzMzMzMyBAAAAAAAAAKUCamZmZmZn5PwAAAAAAABJAAAAAAAAAGkDNzMzMzMwkQJqZmZmZmfk/MzMzMzMzEUAAAAAAAAAYQAAAAAAAACVAzczMzMzM9D9mZmZmZmYaQGZmZmZmZiNAAAAAAAAAKUAzMzMzMzPzP83MzMzMzBZAZmZmZmZmIEAAAAAAAAAjQDMzMzMzM/M/MzMzMzMzFUAzMzMzMzMdQJqZmZmZmR1AMzMzMzMz4z/NzMzMzMwaQM3MzMzMzCVAMzMzMzMzH0AzMzMzMzPjPwAAAAAAABZAMzMzMzMzIkCamZmZmZkZQDMzMzMzM+M/MzMzMzMzE0BmZmZmZmYaQM3MzMzMzBpAmpmZmZmZ+T8AAAAAAAASQM3MzMzMzBxAZmZmZmZmFEDNzMzMzMz8P2ZmZmZmZgpAzczMzMzMFkAAAAAAAAAUQAAAAAAAAPg/ZmZmZmZmBkDNzMzMzMwSQGZmZmZmZg5A",
          "dtype": "f8",
          "shape": "11, 12"
         },
         "textfont": {
          "size": 10
         },
         "texttemplate": "%{text}x",
         "type": "heatmap",
         "x": [
          "EV/REVENUE_FWD_2025",
          "EV/EBITDA_FWD_2025",
          "EV/EBIT_FWD_2025",
          "PE_FWD_2025",
          "EV/REVENUE_FWD_2026",
          "EV/EBITDA_FWD_2026",
          "EV/EBIT_FWD_2026",
          "PE_FWD_2026",
          "EV/REVENUE_FWD_2027",
          "EV/EBITDA_FWD_2027",
          "EV/EBIT_FWD_2027",
          "PE_FWD_2027"
         ],
         "y": [
          "Consumer Discretionary",
          "Industrials",
          "Real Estate",
          "Financials",
          "Materials",
          "Utilities",
          "Consumer Staples",
          "Communication Services",
          "Health Care",
          "Information Technology",
          "Energy"
         ],
         "z": {
          "bdata": "4XoUrkfh7j8AAAAAAIAVQK5H4XoUriBAmpmZmZmZIkBxPQrXo3DtP6RwPQrXIxNACtejcD0KG0CamZmZmRkgQDMzMzMzM+s/9ihcj8L1EUBcj8L1KFwYQAAAAAAAABxAKVyPwvUo9j+4HoXrUbgUQClcj8L1qCBAmpmZmZmZKEDhehSuR+HyP4/C9ShcjxJA4XoUrkdhGUBmZmZmZmYcQIbrUbgehfM/PQrXo3A9EUCuR+F6FK4XQAAAAAAAABhAzczMzMzMDEBI4XoUrscgQNejcD0KFyVAAAAAAAAAFkD2KFyPwvUSQDMzMzMzMyJAMzMzMzMzJEA0MzMzMzMbQI/C9ShcjxZA16NwPQpXIUCF61G4HgUkQJqZmZmZmRVA16NwPQrX/z9wPQrXo3ANQB+F61G4HiBAmpmZmZmZIUBI4XoUrkcPQD0K16NwPRlASOF6FK5HHUAAAAAAAAAeQClcj8L1KAxA4XoUrkdhF0AAAAAAAAAgQDMzMzMzMxpA9ihcj8L19D/Xo3A9CtcWQHE9CtejcCRAZmZmZmbmIUDD9Shcj8L5P+xRuB6FaxNA16NwPQrXIEAAAAAAAAAgQArXo3A9CvM/4XoUrkfhEEDiehSuR2EcQMzMzMzMzBpAmpmZmZmZBkBmZmZmZuYfQJDC9ShcDyVAzczMzMzMKUBwPQrXo3AHQDQzMzMzsxxAcT0K16MwIkAAAAAAAAAnQEjhehSuRwdANDMzMzOzGkCkcD0K1yMhQGZmZmZmZiRAUrgehetR4D97FK5H4XoXQClcj8L1aCBANDMzMzOzI0DNzMzMzMzcP65H4XoUrhZAj8L1KFyPHUAAAAAAAIAjQOF6FK5H4do/CtejcD0KFUBcj8L1KNwbQAAAAAAAAB5A9ihcj8L1/D/D9Shcj8ITQEjhehSuRyBAAAAAAAAAKUA9CtejcD36PxSuR+F6FBJAAAAAAAAAGkA0MzMzM7MkQNejcD0K1/k/CtejcD0KEUCPwvUoXA8YQAAAAAAAACVAcD0K16Nw9T9mZmZmZmYaQFK4HoXrUSNAAAAAAAAAKUAAAAAAAAD0P+xRuB6F6xZAexSuR+F6IEAAAAAAAAAjQGZmZmZmZvI/rkfhehQuFUAUrkfhehQdQGZmZmZmZh1AKVyPwvUo5D/D9Shcj8IaQLgehetRuCVAMzMzMzMzH0DsUbgehevhPylcj8L1KBZAMzMzMzMzIkBmZmZmZmYZQOtRuB6F6+E/XI/C9ShcE0DC9Shcj0IaQM3MzMzMzBpASOF6FK5H+T/hehSuR+ERQJqZmZmZmRxAZmZmZmZmFEB7FK5H4Xr8Pylcj8L1KApApHA9CtejFkDNzMzMzMwTQClcj8L1KPg/j8L1KFyPBkDNzMzMzMwSQGZmZmZmZg5A",
          "dtype": "f8",
          "shape": "11, 12"
         }
        }
       ],
       "layout": {
        "height": 700,
        "template": {
         "data": {
          "bar": [
           {
            "error_x": {
             "color": "#2a3f5f"
            },
            "error_y": {
             "color": "#2a3f5f"
            },
            "marker": {
             "line": {
              "color": "white",
              "width": 0.5
             },
             "pattern": {
              "fillmode": "overlay",
              "size": 10,
              "solidity": 0.2
             }
            },
            "type": "bar"
           }
          ],
          "barpolar": [
           {
            "marker": {
             "line": {
              "color": "white",
              "width": 0.5
             },
             "pattern": {
              "fillmode": "overlay",
              "size": 10,
              "solidity": 0.2
             }
            },
            "type": "barpolar"
           }
          ],
          "carpet": [
           {
            "aaxis": {
             "endlinecolor": "#2a3f5f",
             "gridcolor": "#C8D4E3",
             "linecolor": "#C8D4E3",
             "minorgridcolor": "#C8D4E3",
             "startlinecolor": "#2a3f5f"
            },
            "baxis": {
             "endlinecolor": "#2a3f5f",
             "gridcolor": "#C8D4E3",
             "linecolor": "#C8D4E3",
             "minorgridcolor": "#C8D4E3",
             "startlinecolor": "#2a3f5f"
            },
            "type": "carpet"
           }
          ],
          "choropleth": [
           {
            "colorbar": {
             "outlinewidth": 0,
             "ticks": ""
            },
            "type": "choropleth"
           }
          ],
          "contour": [
           {
            "colorbar": {
             "outlinewidth": 0,
             "ticks": ""
            },
            "colorscale": [
             [
              0,
              "#0d0887"
             ],
             [
              0.1111111111111111,
              "#46039f"
             ],
             [
              0.2222222222222222,
              "#7201a8"
             ],
             [
              0.3333333333333333,
              "#9c179e"
             ],
             [
              0.4444444444444444,
              "#bd3786"
             ],
             [
              0.5555555555555556,
              "#d8576b"
             ],
             [
              0.6666666666666666,
              "#ed7953"
             ],
             [
              0.7777777777777778,
              "#fb9f3a"
             ],
             [
              0.8888888888888888,
              "#fdca26"
             ],
             [
              1,
              "#f0f921"
             ]
            ],
            "type": "contour"
           }
          ],
          "contourcarpet": [
           {
            "colorbar": {
             "outlinewidth": 0,
             "ticks": ""
            },
            "type": "contourcarpet"
           }
          ],
          "heatmap": [
           {
            "colorbar": {
             "outlinewidth": 0,
             "ticks": ""
            },
            "colorscale": [
             [
              0,
              "#0d0887"
             ],
             [
              0.1111111111111111,
              "#46039f"
             ],
             [
              0.2222222222222222,
              "#7201a8"
             ],
             [
              0.3333333333333333,
              "#9c179e"
             ],
             [
              0.4444444444444444,
              "#bd3786"
             ],
             [
              0.5555555555555556,
              "#d8576b"
             ],
             [
              0.6666666666666666,
              "#ed7953"
             ],
             [
              0.7777777777777778,
              "#fb9f3a"
             ],
             [
              0.8888888888888888,
              "#fdca26"
             ],
             [
              1,
              "#f0f921"
             ]
            ],
            "type": "heatmap"
           }
          ],
          "histogram": [
           {
            "marker": {
             "pattern": {
              "fillmode": "overlay",
              "size": 10,
              "solidity": 0.2
             }
            },
            "type": "histogram"
           }
          ],
          "histogram2d": [
           {
            "colorbar": {
             "outlinewidth": 0,
             "ticks": ""
            },
            "colorscale": [
             [
              0,
              "#0d0887"
             ],
             [
              0.1111111111111111,
              "#46039f"
             ],
             [
              0.2222222222222222,
              "#7201a8"
             ],
             [
              0.3333333333333333,
              "#9c179e"
             ],
             [
              0.4444444444444444,
              "#bd3786"
             ],
             [
              0.5555555555555556,
              "#d8576b"
             ],
             [
              0.6666666666666666,
              "#ed7953"
             ],
             [
              0.7777777777777778,
              "#fb9f3a"
             ],
             [
              0.8888888888888888,
              "#fdca26"
             ],
             [
              1,
              "#f0f921"
             ]
            ],
            "type": "histogram2d"
           }
          ],
          "histogram2dcontour": [
           {
            "colorbar": {
             "outlinewidth": 0,
             "ticks": ""
            },
            "colorscale": [
             [
              0,
              "#0d0887"
             ],
             [
              0.1111111111111111,
              "#46039f"
             ],
             [
              0.2222222222222222,
              "#7201a8"
             ],
             [
              0.3333333333333333,
              "#9c179e"
             ],
             [
              0.4444444444444444,
              "#bd3786"
             ],
             [
              0.5555555555555556,
              "#d8576b"
             ],
             [
              0.6666666666666666,
              "#ed7953"
             ],
             [
              0.7777777777777778,
              "#fb9f3a"
             ],
             [
              0.8888888888888888,
              "#fdca26"
             ],
             [
              1,
              "#f0f921"
             ]
            ],
            "type": "histogram2dcontour"
           }
          ],
          "mesh3d": [
           {
            "colorbar": {
             "outlinewidth": 0,
             "ticks": ""
            },
            "type": "mesh3d"
           }
          ],
          "parcoords": [
           {
            "line": {
             "colorbar": {
              "outlinewidth": 0,
              "ticks": ""
             }
            },
            "type": "parcoords"
           }
          ],
          "pie": [
           {
            "automargin": true,
            "type": "pie"
           }
          ],
          "scatter": [
           {
            "fillpattern": {
             "fillmode": "overlay",
             "size": 10,
             "solidity": 0.2
            },
            "type": "scatter"
           }
          ],
          "scatter3d": [
           {
            "line": {
             "colorbar": {
              "outlinewidth": 0,
              "ticks": ""
             }
            },
            "marker": {
             "colorbar": {
              "outlinewidth": 0,
              "ticks": ""
             }
            },
            "type": "scatter3d"
           }
          ],
          "scattercarpet": [
           {
            "marker": {
             "colorbar": {
              "outlinewidth": 0,
              "ticks": ""
             }
            },
            "type": "scattercarpet"
           }
          ],
          "scattergeo": [
           {
            "marker": {
             "colorbar": {
              "outlinewidth": 0,
              "ticks": ""
             }
            },
            "type": "scattergeo"
           }
          ],
          "scattergl": [
           {
            "marker": {
             "colorbar": {
              "outlinewidth": 0,
              "ticks": ""
             }
            },
            "type": "scattergl"
           }
          ],
          "scattermap": [
           {
            "marker": {
             "colorbar": {
              "outlinewidth": 0,
              "ticks": ""
             }
            },
            "type": "scattermap"
           }
          ],
          "scattermapbox": [
           {
            "marker": {
             "colorbar": {
              "outlinewidth": 0,
              "ticks": ""
             }
            },
            "type": "scattermapbox"
           }
          ],
          "scatterpolar": [
           {
            "marker": {
             "colorbar": {
              "outlinewidth": 0,
              "ticks": ""
             }
            },
            "type": "scatterpolar"
           }
          ],
          "scatterpolargl": [
           {
            "marker": {
             "colorbar": {
              "outlinewidth": 0,
              "ticks": ""
             }
            },
            "type": "scatterpolargl"
           }
          ],
          "scatterternary": [
           {
            "marker": {
             "colorbar": {
              "outlinewidth": 0,
              "ticks": ""
             }
            },
            "type": "scatterternary"
           }
          ],
          "surface": [
           {
            "colorbar": {
             "outlinewidth": 0,
             "ticks": ""
            },
            "colorscale": [
             [
              0,
              "#0d0887"
             ],
             [
              0.1111111111111111,
              "#46039f"
             ],
             [
              0.2222222222222222,
              "#7201a8"
             ],
             [
              0.3333333333333333,
              "#9c179e"
             ],
             [
              0.4444444444444444,
              "#bd3786"
             ],
             [
              0.5555555555555556,
              "#d8576b"
             ],
             [
              0.6666666666666666,
              "#ed7953"
             ],
             [
              0.7777777777777778,
              "#fb9f3a"
             ],
             [
              0.8888888888888888,
              "#fdca26"
             ],
             [
              1,
              "#f0f921"
             ]
            ],
            "type": "surface"
           }
          ],
          "table": [
           {
            "cells": {
             "fill": {
              "color": "#EBF0F8"
             },
             "line": {
              "color": "white"
             }
            },
            "header": {
             "fill": {
              "color": "#C8D4E3"
             },
             "line": {
              "color": "white"
             }
            },
            "type": "table"
           }
          ]
         },
         "layout": {
          "annotationdefaults": {
           "arrowcolor": "#2a3f5f",
           "arrowhead": 0,
           "arrowwidth": 1
          },
          "autotypenumbers": "strict",
          "coloraxis": {
           "colorbar": {
            "outlinewidth": 0,
            "ticks": ""
           }
          },
          "colorscale": {
           "diverging": [
            [
             0,
             "#8e0152"
            ],
            [
             0.1,
             "#c51b7d"
            ],
            [
             0.2,
             "#de77ae"
            ],
            [
             0.3,
             "#f1b6da"
            ],
            [
             0.4,
             "#fde0ef"
            ],
            [
             0.5,
             "#f7f7f7"
            ],
            [
             0.6,
             "#e6f5d0"
            ],
            [
             0.7,
             "#b8e186"
            ],
            [
             0.8,
             "#7fbc41"
            ],
            [
             0.9,
             "#4d9221"
            ],
            [
             1,
             "#276419"
            ]
           ],
           "sequential": [
            [
             0,
             "#0d0887"
            ],
            [
             0.1111111111111111,
             "#46039f"
            ],
            [
             0.2222222222222222,
             "#7201a8"
            ],
            [
             0.3333333333333333,
             "#9c179e"
            ],
            [
             0.4444444444444444,
             "#bd3786"
            ],
            [
             0.5555555555555556,
             "#d8576b"
            ],
            [
             0.6666666666666666,
             "#ed7953"
            ],
            [
             0.7777777777777778,
             "#fb9f3a"
            ],
            [
             0.8888888888888888,
             "#fdca26"
            ],
            [
             1,
             "#f0f921"
            ]
           ],
           "sequentialminus": [
            [
             0,
             "#0d0887"
            ],
            [
             0.1111111111111111,
             "#46039f"
            ],
            [
             0.2222222222222222,
             "#7201a8"
            ],
            [
             0.3333333333333333,
             "#9c179e"
            ],
            [
             0.4444444444444444,
             "#bd3786"
            ],
            [
             0.5555555555555556,
             "#d8576b"
            ],
            [
             0.6666666666666666,
             "#ed7953"
            ],
            [
             0.7777777777777778,
             "#fb9f3a"
            ],
            [
             0.8888888888888888,
             "#fdca26"
            ],
            [
             1,
             "#f0f921"
            ]
           ]
          },
          "colorway": [
           "#636efa",
           "#EF553B",
           "#00cc96",
           "#ab63fa",
           "#FFA15A",
           "#19d3f3",
           "#FF6692",
           "#B6E880",
           "#FF97FF",
           "#FECB52"
          ],
          "font": {
           "color": "#2a3f5f"
          },
          "geo": {
           "bgcolor": "white",
           "lakecolor": "white",
           "landcolor": "white",
           "showlakes": true,
           "showland": true,
           "subunitcolor": "#C8D4E3"
          },
          "hoverlabel": {
           "align": "left"
          },
          "hovermode": "closest",
          "mapbox": {
           "style": "light"
          },
          "paper_bgcolor": "white",
          "plot_bgcolor": "white",
          "polar": {
           "angularaxis": {
            "gridcolor": "#EBF0F8",
            "linecolor": "#EBF0F8",
            "ticks": ""
           },
           "bgcolor": "white",
           "radialaxis": {
            "gridcolor": "#EBF0F8",
            "linecolor": "#EBF0F8",
            "ticks": ""
           }
          },
          "scene": {
           "xaxis": {
            "backgroundcolor": "white",
            "gridcolor": "#DFE8F3",
            "gridwidth": 2,
            "linecolor": "#EBF0F8",
            "showbackground": true,
            "ticks": "",
            "zerolinecolor": "#EBF0F8"
           },
           "yaxis": {
            "backgroundcolor": "white",
            "gridcolor": "#DFE8F3",
            "gridwidth": 2,
            "linecolor": "#EBF0F8",
            "showbackground": true,
            "ticks": "",
            "zerolinecolor": "#EBF0F8"
           },
           "zaxis": {
            "backgroundcolor": "white",
            "gridcolor": "#DFE8F3",
            "gridwidth": 2,
            "linecolor": "#EBF0F8",
            "showbackground": true,
            "ticks": "",
            "zerolinecolor": "#EBF0F8"
           }
          },
          "shapedefaults": {
           "line": {
            "color": "#2a3f5f"
           }
          },
          "ternary": {
           "aaxis": {
            "gridcolor": "#DFE8F3",
            "linecolor": "#A2B1C6",
            "ticks": ""
           },
           "baxis": {
            "gridcolor": "#DFE8F3",
            "linecolor": "#A2B1C6",
            "ticks": ""
           },
           "bgcolor": "white",
           "caxis": {
            "gridcolor": "#DFE8F3",
            "linecolor": "#A2B1C6",
            "ticks": ""
           }
          },
          "title": {
           "x": 0.05
          },
          "xaxis": {
           "automargin": true,
           "gridcolor": "#EBF0F8",
           "linecolor": "#EBF0F8",
           "ticks": "",
           "title": {
            "standoff": 15
           },
           "zerolinecolor": "#EBF0F8",
           "zerolinewidth": 2
          },
          "yaxis": {
           "automargin": true,
           "gridcolor": "#EBF0F8",
           "linecolor": "#EBF0F8",
           "ticks": "",
           "title": {
            "standoff": 15
           },
           "zerolinecolor": "#EBF0F8",
           "zerolinewidth": 2
          }
         }
        },
        "title": {
         "font": {
          "size": 16
         },
         "text": "Heatmap: Múltiplos Forward por Setor"
        },
        "width": 1000,
        "xaxis": {
         "title": {
          "text": "Múltiplo"
         }
        },
        "yaxis": {
         "title": {
          "text": "Setor"
         }
        }
       }
      }
     },
     "metadata": {},
     "output_type": "display_data"
    },
    {
     "name": "stdout",
     "output_type": "stream",
     "text": [
      "\n",
      "=== Tabela Resumo: Medianas por Setor ===\n",
      "\n",
      "Setores por Número de Empresas:\n"
     ]
    },
    {
     "data": {
      "text/html": [
       "<style type=\"text/css\">\n",
       "#T_50aca_row0_col0, #T_50aca_row6_col1 {\n",
       "  background-color: #7dc765;\n",
       "  color: #000000;\n",
       "}\n",
       "#T_50aca_row0_col1, #T_50aca_row2_col7 {\n",
       "  background-color: #70c164;\n",
       "  color: #000000;\n",
       "}\n",
       "#T_50aca_row0_col2 {\n",
       "  background-color: #5db961;\n",
       "  color: #f1f1f1;\n",
       "}\n",
       "#T_50aca_row0_col3, #T_50aca_row10_col1 {\n",
       "  background-color: #54b45f;\n",
       "  color: #f1f1f1;\n",
       "}\n",
       "#T_50aca_row0_col4 {\n",
       "  background-color: #96d268;\n",
       "  color: #000000;\n",
       "}\n",
       "#T_50aca_row0_col5 {\n",
       "  background-color: #cbe982;\n",
       "  color: #000000;\n",
       "}\n",
       "#T_50aca_row0_col6, #T_50aca_row3_col4 {\n",
       "  background-color: #b1de71;\n",
       "  color: #000000;\n",
       "}\n",
       "#T_50aca_row0_col7 {\n",
       "  background-color: #98d368;\n",
       "  color: #000000;\n",
       "}\n",
       "#T_50aca_row0_col8 {\n",
       "  background-color: #097940;\n",
       "  color: #f1f1f1;\n",
       "}\n",
       "#T_50aca_row1_col0, #T_50aca_row4_col7, #T_50aca_row5_col3, #T_50aca_row8_col0, #T_50aca_row9_col1, #T_50aca_row9_col7 {\n",
       "  background-color: #91d068;\n",
       "  color: #000000;\n",
       "}\n",
       "#T_50aca_row1_col1, #T_50aca_row4_col0, #T_50aca_row6_col3 {\n",
       "  background-color: #6bbf64;\n",
       "  color: #000000;\n",
       "}\n",
       "#T_50aca_row1_col2 {\n",
       "  background-color: #5ab760;\n",
       "  color: #f1f1f1;\n",
       "}\n",
       "#T_50aca_row1_col3 {\n",
       "  background-color: #51b35e;\n",
       "  color: #f1f1f1;\n",
       "}\n",
       "#T_50aca_row1_col4, #T_50aca_row6_col6 {\n",
       "  background-color: #d3ec87;\n",
       "  color: #000000;\n",
       "}\n",
       "#T_50aca_row1_col5 {\n",
       "  background-color: #fbfdba;\n",
       "  color: #000000;\n",
       "}\n",
       "#T_50aca_row1_col6 {\n",
       "  background-color: #9bd469;\n",
       "  color: #000000;\n",
       "}\n",
       "#T_50aca_row1_col7 {\n",
       "  background-color: #7fc866;\n",
       "  color: #000000;\n",
       "}\n",
       "#T_50aca_row1_col8 {\n",
       "  background-color: #0e8245;\n",
       "  color: #f1f1f1;\n",
       "}\n",
       "#T_50aca_row2_col0 {\n",
       "  background-color: #d7ee8a;\n",
       "  color: #000000;\n",
       "}\n",
       "#T_50aca_row2_col1 {\n",
       "  background-color: #b7e075;\n",
       "  color: #000000;\n",
       "}\n",
       "#T_50aca_row2_col2 {\n",
       "  background-color: #c7e77f;\n",
       "  color: #000000;\n",
       "}\n",
       "#T_50aca_row2_col3 {\n",
       "  background-color: #bde379;\n",
       "  color: #000000;\n",
       "}\n",
       "#T_50aca_row2_col4 {\n",
       "  background-color: #a0d669;\n",
       "  color: #000000;\n",
       "}\n",
       "#T_50aca_row2_col5, #T_50aca_row9_col2 {\n",
       "  background-color: #73c264;\n",
       "  color: #000000;\n",
       "}\n",
       "#T_50aca_row2_col6 {\n",
       "  background-color: #93d168;\n",
       "  color: #000000;\n",
       "}\n",
       "#T_50aca_row2_col8 {\n",
       "  background-color: #07753e;\n",
       "  color: #f1f1f1;\n",
       "}\n",
       "#T_50aca_row3_col0, #T_50aca_row9_col6 {\n",
       "  background-color: #89cc67;\n",
       "  color: #000000;\n",
       "}\n",
       "#T_50aca_row3_col1 {\n",
       "  background-color: #3ca959;\n",
       "  color: #f1f1f1;\n",
       "}\n",
       "#T_50aca_row3_col2, #T_50aca_row6_col0 {\n",
       "  background-color: #87cb67;\n",
       "  color: #000000;\n",
       "}\n",
       "#T_50aca_row3_col3 {\n",
       "  background-color: #7ac665;\n",
       "  color: #000000;\n",
       "}\n",
       "#T_50aca_row3_col5, #T_50aca_row5_col4 {\n",
       "  background-color: #c1e57b;\n",
       "  color: #000000;\n",
       "}\n",
       "#T_50aca_row3_col6, #T_50aca_row6_col7 {\n",
       "  background-color: #a5d86a;\n",
       "  color: #000000;\n",
       "}\n",
       "#T_50aca_row3_col7, #T_50aca_row8_col1 {\n",
       "  background-color: #8ecf67;\n",
       "  color: #000000;\n",
       "}\n",
       "#T_50aca_row3_col8 {\n",
       "  background-color: #0d8044;\n",
       "  color: #f1f1f1;\n",
       "}\n",
       "#T_50aca_row4_col1, #T_50aca_row6_col2, #T_50aca_row8_col2 {\n",
       "  background-color: #78c565;\n",
       "  color: #000000;\n",
       "}\n",
       "#T_50aca_row4_col2, #T_50aca_row9_col3 {\n",
       "  background-color: #60ba62;\n",
       "  color: #f1f1f1;\n",
       "}\n",
       "#T_50aca_row4_col3, #T_50aca_row7_col3 {\n",
       "  background-color: #4eb15d;\n",
       "  color: #f1f1f1;\n",
       "}\n",
       "#T_50aca_row4_col4, #T_50aca_row8_col6 {\n",
       "  background-color: #cfeb85;\n",
       "  color: #000000;\n",
       "}\n",
       "#T_50aca_row4_col5 {\n",
       "  background-color: #c3e67d;\n",
       "  color: #000000;\n",
       "}\n",
       "#T_50aca_row4_col6, #T_50aca_row5_col1 {\n",
       "  background-color: #afdd70;\n",
       "  color: #000000;\n",
       "}\n",
       "#T_50aca_row4_col8, #T_50aca_row8_col8 {\n",
       "  background-color: #0a7b41;\n",
       "  color: #f1f1f1;\n",
       "}\n",
       "#T_50aca_row5_col0 {\n",
       "  background-color: #8ccd67;\n",
       "  color: #000000;\n",
       "}\n",
       "#T_50aca_row5_col2 {\n",
       "  background-color: #9dd569;\n",
       "  color: #000000;\n",
       "}\n",
       "#T_50aca_row5_col5 {\n",
       "  background-color: #fffab6;\n",
       "  color: #000000;\n",
       "}\n",
       "#T_50aca_row5_col6 {\n",
       "  background-color: #eff8aa;\n",
       "  color: #000000;\n",
       "}\n",
       "#T_50aca_row5_col7 {\n",
       "  background-color: #dcf08f;\n",
       "  color: #000000;\n",
       "}\n",
       "#T_50aca_row5_col8 {\n",
       "  background-color: #0f8446;\n",
       "  color: #f1f1f1;\n",
       "}\n",
       "#T_50aca_row6_col4 {\n",
       "  background-color: #fffbb8;\n",
       "  color: #000000;\n",
       "}\n",
       "#T_50aca_row6_col5 {\n",
       "  background-color: #d5ed88;\n",
       "  color: #000000;\n",
       "}\n",
       "#T_50aca_row6_col8 {\n",
       "  background-color: #0b7d42;\n",
       "  color: #f1f1f1;\n",
       "}\n",
       "#T_50aca_row7_col0, #T_50aca_row10_col4, #T_50aca_row10_col5 {\n",
       "  background-color: #69be63;\n",
       "  color: #f1f1f1;\n",
       "}\n",
       "#T_50aca_row7_col1, #T_50aca_row10_col6 {\n",
       "  background-color: #63bc62;\n",
       "  color: #f1f1f1;\n",
       "}\n",
       "#T_50aca_row7_col2 {\n",
       "  background-color: #57b65f;\n",
       "  color: #f1f1f1;\n",
       "}\n",
       "#T_50aca_row7_col4 {\n",
       "  background-color: #fed27f;\n",
       "  color: #000000;\n",
       "}\n",
       "#T_50aca_row7_col5, #T_50aca_row8_col5 {\n",
       "  background-color: #fffebe;\n",
       "  color: #000000;\n",
       "}\n",
       "#T_50aca_row7_col6 {\n",
       "  background-color: #ddf191;\n",
       "  color: #000000;\n",
       "}\n",
       "#T_50aca_row7_col7 {\n",
       "  background-color: #e0f295;\n",
       "  color: #000000;\n",
       "}\n",
       "#T_50aca_row7_col8, #T_50aca_row10_col8 {\n",
       "  background-color: #08773f;\n",
       "  color: #f1f1f1;\n",
       "}\n",
       "#T_50aca_row8_col3 {\n",
       "  background-color: #6ec064;\n",
       "  color: #000000;\n",
       "}\n",
       "#T_50aca_row8_col4 {\n",
       "  background-color: #fdfebc;\n",
       "  color: #000000;\n",
       "}\n",
       "#T_50aca_row8_col7 {\n",
       "  background-color: #a2d76a;\n",
       "  color: #000000;\n",
       "}\n",
       "#T_50aca_row9_col0 {\n",
       "  background-color: #dff293;\n",
       "  color: #000000;\n",
       "}\n",
       "#T_50aca_row9_col4 {\n",
       "  background-color: #a50026;\n",
       "  color: #f1f1f1;\n",
       "}\n",
       "#T_50aca_row9_col5 {\n",
       "  background-color: #abdb6d;\n",
       "  color: #000000;\n",
       "}\n",
       "#T_50aca_row9_col8 {\n",
       "  background-color: #05713c;\n",
       "  color: #f1f1f1;\n",
       "}\n",
       "#T_50aca_row10_col0 {\n",
       "  background-color: #36a657;\n",
       "  color: #f1f1f1;\n",
       "}\n",
       "#T_50aca_row10_col2 {\n",
       "  background-color: #30a356;\n",
       "  color: #f1f1f1;\n",
       "}\n",
       "#T_50aca_row10_col3 {\n",
       "  background-color: #219c52;\n",
       "  color: #f1f1f1;\n",
       "}\n",
       "#T_50aca_row10_col7 {\n",
       "  background-color: #3faa59;\n",
       "  color: #f1f1f1;\n",
       "}\n",
       "</style>\n",
       "<table id=\"T_50aca\">\n",
       "  <thead>\n",
       "    <tr>\n",
       "      <th class=\"blank level0\" >&nbsp;</th>\n",
       "      <th id=\"T_50aca_level0_col0\" class=\"col_heading level0 col0\" >EV/EBITDA_LTM</th>\n",
       "      <th id=\"T_50aca_level0_col1\" class=\"col_heading level0 col1\" >EV/EBITDA_FWD_2025</th>\n",
       "      <th id=\"T_50aca_level0_col2\" class=\"col_heading level0 col2\" >EV/EBITDA_FWD_2026</th>\n",
       "      <th id=\"T_50aca_level0_col3\" class=\"col_heading level0 col3\" >EV/EBITDA_FWD_2027</th>\n",
       "      <th id=\"T_50aca_level0_col4\" class=\"col_heading level0 col4\" >PE_LTM</th>\n",
       "      <th id=\"T_50aca_level0_col5\" class=\"col_heading level0 col5\" >PE_FWD_2025</th>\n",
       "      <th id=\"T_50aca_level0_col6\" class=\"col_heading level0 col6\" >PE_FWD_2026</th>\n",
       "      <th id=\"T_50aca_level0_col7\" class=\"col_heading level0 col7\" >PE_FWD_2027</th>\n",
       "      <th id=\"T_50aca_level0_col8\" class=\"col_heading level0 col8\" >PBV_LTM</th>\n",
       "      <th id=\"T_50aca_level0_col9\" class=\"col_heading level0 col9\" >Qtd_Empresas</th>\n",
       "    </tr>\n",
       "  </thead>\n",
       "  <tbody>\n",
       "    <tr>\n",
       "      <th id=\"T_50aca_level0_row0\" class=\"row_heading level0 row0\" >Consumer Discretionary</th>\n",
       "      <td id=\"T_50aca_row0_col0\" class=\"data row0 col0\" >5.94x</td>\n",
       "      <td id=\"T_50aca_row0_col1\" class=\"data row0 col1\" >5.38x</td>\n",
       "      <td id=\"T_50aca_row0_col2\" class=\"data row0 col2\" >4.78x</td>\n",
       "      <td id=\"T_50aca_row0_col3\" class=\"data row0 col3\" >4.49x</td>\n",
       "      <td id=\"T_50aca_row0_col4\" class=\"data row0 col4\" >6.86x</td>\n",
       "      <td id=\"T_50aca_row0_col5\" class=\"data row0 col5\" >9.30x</td>\n",
       "      <td id=\"T_50aca_row0_col6\" class=\"data row0 col6\" >8.05x</td>\n",
       "      <td id=\"T_50aca_row0_col7\" class=\"data row0 col7\" >7.00x</td>\n",
       "      <td id=\"T_50aca_row0_col8\" class=\"data row0 col8\" >0.96x</td>\n",
       "      <td id=\"T_50aca_row0_col9\" class=\"data row0 col9\" >85</td>\n",
       "    </tr>\n",
       "    <tr>\n",
       "      <th id=\"T_50aca_level0_row1\" class=\"row_heading level0 row1\" >Industrials</th>\n",
       "      <td id=\"T_50aca_row1_col0\" class=\"data row1 col0\" >6.70x</td>\n",
       "      <td id=\"T_50aca_row1_col1\" class=\"data row1 col1\" >5.18x</td>\n",
       "      <td id=\"T_50aca_row1_col2\" class=\"data row1 col2\" >4.64x</td>\n",
       "      <td id=\"T_50aca_row1_col3\" class=\"data row1 col3\" >4.31x</td>\n",
       "      <td id=\"T_50aca_row1_col4\" class=\"data row1 col4\" >9.70x</td>\n",
       "      <td id=\"T_50aca_row1_col5\" class=\"data row1 col5\" >12.30x</td>\n",
       "      <td id=\"T_50aca_row1_col6\" class=\"data row1 col6\" >7.10x</td>\n",
       "      <td id=\"T_50aca_row1_col7\" class=\"data row1 col7\" >6.00x</td>\n",
       "      <td id=\"T_50aca_row1_col8\" class=\"data row1 col8\" >1.43x</td>\n",
       "      <td id=\"T_50aca_row1_col9\" class=\"data row1 col9\" >62</td>\n",
       "    </tr>\n",
       "    <tr>\n",
       "      <th id=\"T_50aca_level0_row2\" class=\"row_heading level0 row2\" >Real Estate</th>\n",
       "      <td id=\"T_50aca_row2_col0\" class=\"data row2 col0\" >9.91x</td>\n",
       "      <td id=\"T_50aca_row2_col1\" class=\"data row2 col1\" >8.39x</td>\n",
       "      <td id=\"T_50aca_row2_col2\" class=\"data row2 col2\" >9.10x</td>\n",
       "      <td id=\"T_50aca_row2_col3\" class=\"data row2 col3\" >8.67x</td>\n",
       "      <td id=\"T_50aca_row2_col4\" class=\"data row2 col4\" >7.29x</td>\n",
       "      <td id=\"T_50aca_row2_col5\" class=\"data row2 col5\" >5.50x</td>\n",
       "      <td id=\"T_50aca_row2_col6\" class=\"data row2 col6\" >6.80x</td>\n",
       "      <td id=\"T_50aca_row2_col7\" class=\"data row2 col7\" >5.40x</td>\n",
       "      <td id=\"T_50aca_row2_col8\" class=\"data row2 col8\" >0.74x</td>\n",
       "      <td id=\"T_50aca_row2_col9\" class=\"data row2 col9\" >49</td>\n",
       "    </tr>\n",
       "    <tr>\n",
       "      <th id=\"T_50aca_level0_row3\" class=\"row_heading level0 row3\" >Financials</th>\n",
       "      <td id=\"T_50aca_row3_col0\" class=\"data row3 col0\" >6.41x</td>\n",
       "      <td id=\"T_50aca_row3_col1\" class=\"data row3 col1\" >3.68x</td>\n",
       "      <td id=\"T_50aca_row3_col2\" class=\"data row3 col2\" >6.31x</td>\n",
       "      <td id=\"T_50aca_row3_col3\" class=\"data row3 col3\" >5.84x</td>\n",
       "      <td id=\"T_50aca_row3_col4\" class=\"data row3 col4\" >8.08x</td>\n",
       "      <td id=\"T_50aca_row3_col5\" class=\"data row3 col5\" >8.80x</td>\n",
       "      <td id=\"T_50aca_row3_col6\" class=\"data row3 col6\" >7.50x</td>\n",
       "      <td id=\"T_50aca_row3_col7\" class=\"data row3 col7\" >6.55x</td>\n",
       "      <td id=\"T_50aca_row3_col8\" class=\"data row3 col8\" >1.30x</td>\n",
       "      <td id=\"T_50aca_row3_col9\" class=\"data row3 col9\" >48</td>\n",
       "    </tr>\n",
       "    <tr>\n",
       "      <th id=\"T_50aca_level0_row4\" class=\"row_heading level0 row4\" >Materials</th>\n",
       "      <td id=\"T_50aca_row4_col0\" class=\"data row4 col0\" >5.19x</td>\n",
       "      <td id=\"T_50aca_row4_col1\" class=\"data row4 col1\" >5.71x</td>\n",
       "      <td id=\"T_50aca_row4_col2\" class=\"data row4 col2\" >4.86x</td>\n",
       "      <td id=\"T_50aca_row4_col3\" class=\"data row4 col3\" >4.22x</td>\n",
       "      <td id=\"T_50aca_row4_col4\" class=\"data row4 col4\" >9.51x</td>\n",
       "      <td id=\"T_50aca_row4_col5\" class=\"data row4 col5\" >8.95x</td>\n",
       "      <td id=\"T_50aca_row4_col6\" class=\"data row4 col6\" >8.00x</td>\n",
       "      <td id=\"T_50aca_row4_col7\" class=\"data row4 col7\" >6.70x</td>\n",
       "      <td id=\"T_50aca_row4_col8\" class=\"data row4 col8\" >1.01x</td>\n",
       "      <td id=\"T_50aca_row4_col9\" class=\"data row4 col9\" >42</td>\n",
       "    </tr>\n",
       "    <tr>\n",
       "      <th id=\"T_50aca_level0_row5\" class=\"row_heading level0 row5\" >Utilities</th>\n",
       "      <td id=\"T_50aca_row5_col0\" class=\"data row5 col0\" >6.51x</td>\n",
       "      <td id=\"T_50aca_row5_col1\" class=\"data row5 col1\" >7.98x</td>\n",
       "      <td id=\"T_50aca_row5_col2\" class=\"data row5 col2\" >7.18x</td>\n",
       "      <td id=\"T_50aca_row5_col3\" class=\"data row5 col3\" >6.68x</td>\n",
       "      <td id=\"T_50aca_row5_col4\" class=\"data row5 col4\" >8.83x</td>\n",
       "      <td id=\"T_50aca_row5_col5\" class=\"data row5 col5\" >12.90x</td>\n",
       "      <td id=\"T_50aca_row5_col6\" class=\"data row5 col6\" >11.50x</td>\n",
       "      <td id=\"T_50aca_row5_col7\" class=\"data row5 col7\" >10.20x</td>\n",
       "      <td id=\"T_50aca_row5_col8\" class=\"data row5 col8\" >1.54x</td>\n",
       "      <td id=\"T_50aca_row5_col9\" class=\"data row5 col9\" >38</td>\n",
       "    </tr>\n",
       "    <tr>\n",
       "      <th id=\"T_50aca_level0_row6\" class=\"row_heading level0 row6\" >Consumer Staples</th>\n",
       "      <td id=\"T_50aca_row6_col0\" class=\"data row6 col0\" >6.31x</td>\n",
       "      <td id=\"T_50aca_row6_col1\" class=\"data row6 col1\" >5.87x</td>\n",
       "      <td id=\"T_50aca_row6_col2\" class=\"data row6 col2\" >5.67x</td>\n",
       "      <td id=\"T_50aca_row6_col3\" class=\"data row6 col3\" >5.26x</td>\n",
       "      <td id=\"T_50aca_row6_col4\" class=\"data row6 col4\" >12.81x</td>\n",
       "      <td id=\"T_50aca_row6_col5\" class=\"data row6 col5\" >9.85x</td>\n",
       "      <td id=\"T_50aca_row6_col6\" class=\"data row6 col6\" >9.75x</td>\n",
       "      <td id=\"T_50aca_row6_col7\" class=\"data row6 col7\" >7.50x</td>\n",
       "      <td id=\"T_50aca_row6_col8\" class=\"data row6 col8\" >1.17x</td>\n",
       "      <td id=\"T_50aca_row6_col9\" class=\"data row6 col9\" >27</td>\n",
       "    </tr>\n",
       "    <tr>\n",
       "      <th id=\"T_50aca_level0_row7\" class=\"row_heading level0 row7\" >Communication Services</th>\n",
       "      <td id=\"T_50aca_row7_col0\" class=\"data row7 col0\" >5.17x</td>\n",
       "      <td id=\"T_50aca_row7_col1\" class=\"data row7 col1\" >4.94x</td>\n",
       "      <td id=\"T_50aca_row7_col2\" class=\"data row7 col2\" >4.52x</td>\n",
       "      <td id=\"T_50aca_row7_col3\" class=\"data row7 col3\" >4.26x</td>\n",
       "      <td id=\"T_50aca_row7_col4\" class=\"data row7 col4\" >15.67x</td>\n",
       "      <td id=\"T_50aca_row7_col5\" class=\"data row7 col5\" >12.50x</td>\n",
       "      <td id=\"T_50aca_row7_col6\" class=\"data row7 col6\" >10.35x</td>\n",
       "      <td id=\"T_50aca_row7_col7\" class=\"data row7 col7\" >10.50x</td>\n",
       "      <td id=\"T_50aca_row7_col8\" class=\"data row7 col8\" >0.86x</td>\n",
       "      <td id=\"T_50aca_row7_col9\" class=\"data row7 col9\" >18</td>\n",
       "    </tr>\n",
       "    <tr>\n",
       "      <th id=\"T_50aca_level0_row8\" class=\"row_heading level0 row8\" >Health Care</th>\n",
       "      <td id=\"T_50aca_row8_col0\" class=\"data row8 col0\" >6.73x</td>\n",
       "      <td id=\"T_50aca_row8_col1\" class=\"data row8 col1\" >6.60x</td>\n",
       "      <td id=\"T_50aca_row8_col2\" class=\"data row8 col2\" >5.73x</td>\n",
       "      <td id=\"T_50aca_row8_col3\" class=\"data row8 col3\" >5.30x</td>\n",
       "      <td id=\"T_50aca_row8_col4\" class=\"data row8 col4\" >12.32x</td>\n",
       "      <td id=\"T_50aca_row8_col5\" class=\"data row8 col5\" >12.50x</td>\n",
       "      <td id=\"T_50aca_row8_col6\" class=\"data row8 col6\" >9.50x</td>\n",
       "      <td id=\"T_50aca_row8_col7\" class=\"data row8 col7\" >7.35x</td>\n",
       "      <td id=\"T_50aca_row8_col8\" class=\"data row8 col8\" >1.06x</td>\n",
       "      <td id=\"T_50aca_row8_col9\" class=\"data row8 col9\" >16</td>\n",
       "    </tr>\n",
       "    <tr>\n",
       "      <th id=\"T_50aca_level0_row9\" class=\"row_heading level0 row9\" >Information Technology</th>\n",
       "      <td id=\"T_50aca_row9_col0\" class=\"data row9 col0\" >10.40x</td>\n",
       "      <td id=\"T_50aca_row9_col1\" class=\"data row9 col1\" >6.69x</td>\n",
       "      <td id=\"T_50aca_row9_col2\" class=\"data row9 col2\" >5.54x</td>\n",
       "      <td id=\"T_50aca_row9_col3\" class=\"data row9 col3\" >4.84x</td>\n",
       "      <td id=\"T_50aca_row9_col4\" class=\"data row9 col4\" >25.80x</td>\n",
       "      <td id=\"T_50aca_row9_col5\" class=\"data row9 col5\" >7.80x</td>\n",
       "      <td id=\"T_50aca_row9_col6\" class=\"data row9 col6\" >6.35x</td>\n",
       "      <td id=\"T_50aca_row9_col7\" class=\"data row9 col7\" >6.70x</td>\n",
       "      <td id=\"T_50aca_row9_col8\" class=\"data row9 col8\" >0.54x</td>\n",
       "      <td id=\"T_50aca_row9_col9\" class=\"data row9 col9\" >14</td>\n",
       "    </tr>\n",
       "    <tr>\n",
       "      <th id=\"T_50aca_level0_row10\" class=\"row_heading level0 row10\" >Energy</th>\n",
       "      <td id=\"T_50aca_row10_col0\" class=\"data row10 col0\" >3.46x</td>\n",
       "      <td id=\"T_50aca_row10_col1\" class=\"data row10 col1\" >4.47x</td>\n",
       "      <td id=\"T_50aca_row10_col2\" class=\"data row10 col2\" >3.27x</td>\n",
       "      <td id=\"T_50aca_row10_col3\" class=\"data row10 col3\" >2.82x</td>\n",
       "      <td id=\"T_50aca_row10_col4\" class=\"data row10 col4\" >5.15x</td>\n",
       "      <td id=\"T_50aca_row10_col5\" class=\"data row10 col5\" >5.10x</td>\n",
       "      <td id=\"T_50aca_row10_col6\" class=\"data row10 col6\" >4.95x</td>\n",
       "      <td id=\"T_50aca_row10_col7\" class=\"data row10 col7\" >3.80x</td>\n",
       "      <td id=\"T_50aca_row10_col8\" class=\"data row10 col8\" >0.81x</td>\n",
       "      <td id=\"T_50aca_row10_col9\" class=\"data row10 col9\" >9</td>\n",
       "    </tr>\n",
       "  </tbody>\n",
       "</table>\n"
      ],
      "text/plain": [
       "<pandas.io.formats.style.Styler at 0x294e6386350>"
      ]
     },
     "metadata": {},
     "output_type": "display_data"
    },
    {
     "name": "stdout",
     "output_type": "stream",
     "text": [
      "\n",
      "Setores com maior variação negativa de múltiplos:\n"
     ]
    },
    {
     "data": {
      "text/html": [
       "<div>\n",
       "<style scoped>\n",
       "    .dataframe tbody tr th:only-of-type {\n",
       "        vertical-align: middle;\n",
       "    }\n",
       "\n",
       "    .dataframe tbody tr th {\n",
       "        vertical-align: top;\n",
       "    }\n",
       "\n",
       "    .dataframe thead th {\n",
       "        text-align: right;\n",
       "    }\n",
       "</style>\n",
       "<table border=\"1\" class=\"dataframe\">\n",
       "  <thead>\n",
       "    <tr style=\"text-align: right;\">\n",
       "      <th></th>\n",
       "      <th>EV/EBITDA_LTM</th>\n",
       "      <th>EV/EBITDA_FWD_2027</th>\n",
       "      <th>EV_EBITDA_Change</th>\n",
       "    </tr>\n",
       "  </thead>\n",
       "  <tbody>\n",
       "    <tr>\n",
       "      <th>Information Technology</th>\n",
       "      <td>10.405</td>\n",
       "      <td>4.840</td>\n",
       "      <td>-53.483902</td>\n",
       "    </tr>\n",
       "    <tr>\n",
       "      <th>Industrials</th>\n",
       "      <td>6.700</td>\n",
       "      <td>4.310</td>\n",
       "      <td>-35.671642</td>\n",
       "    </tr>\n",
       "    <tr>\n",
       "      <th>Consumer Discretionary</th>\n",
       "      <td>5.940</td>\n",
       "      <td>4.490</td>\n",
       "      <td>-24.410774</td>\n",
       "    </tr>\n",
       "    <tr>\n",
       "      <th>Health Care</th>\n",
       "      <td>6.730</td>\n",
       "      <td>5.295</td>\n",
       "      <td>-21.322437</td>\n",
       "    </tr>\n",
       "    <tr>\n",
       "      <th>Materials</th>\n",
       "      <td>5.190</td>\n",
       "      <td>4.220</td>\n",
       "      <td>-18.689788</td>\n",
       "    </tr>\n",
       "  </tbody>\n",
       "</table>\n",
       "</div>"
      ],
      "text/plain": [
       "                        EV/EBITDA_LTM  EV/EBITDA_FWD_2027  EV_EBITDA_Change\n",
       "Information Technology         10.405               4.840        -53.483902\n",
       "Industrials                     6.700               4.310        -35.671642\n",
       "Consumer Discretionary          5.940               4.490        -24.410774\n",
       "Health Care                     6.730               5.295        -21.322437\n",
       "Materials                       5.190               4.220        -18.689788"
      ]
     },
     "metadata": {},
     "output_type": "display_data"
    },
    {
     "name": "stdout",
     "output_type": "stream",
     "text": [
      "\n",
      "Setores com maior expansão de múltiplos:\n"
     ]
    },
    {
     "data": {
      "text/html": [
       "<div>\n",
       "<style scoped>\n",
       "    .dataframe tbody tr th:only-of-type {\n",
       "        vertical-align: middle;\n",
       "    }\n",
       "\n",
       "    .dataframe tbody tr th {\n",
       "        vertical-align: top;\n",
       "    }\n",
       "\n",
       "    .dataframe thead th {\n",
       "        text-align: right;\n",
       "    }\n",
       "</style>\n",
       "<table border=\"1\" class=\"dataframe\">\n",
       "  <thead>\n",
       "    <tr style=\"text-align: right;\">\n",
       "      <th></th>\n",
       "      <th>EV/EBITDA_LTM</th>\n",
       "      <th>EV/EBITDA_FWD_2027</th>\n",
       "      <th>EV_EBITDA_Change</th>\n",
       "    </tr>\n",
       "  </thead>\n",
       "  <tbody>\n",
       "    <tr>\n",
       "      <th>Utilities</th>\n",
       "      <td>6.51</td>\n",
       "      <td>6.675</td>\n",
       "      <td>2.534562</td>\n",
       "    </tr>\n",
       "    <tr>\n",
       "      <th>Financials</th>\n",
       "      <td>6.41</td>\n",
       "      <td>5.845</td>\n",
       "      <td>-8.814353</td>\n",
       "    </tr>\n",
       "    <tr>\n",
       "      <th>Real Estate</th>\n",
       "      <td>9.91</td>\n",
       "      <td>8.670</td>\n",
       "      <td>-12.512614</td>\n",
       "    </tr>\n",
       "    <tr>\n",
       "      <th>Consumer Staples</th>\n",
       "      <td>6.31</td>\n",
       "      <td>5.260</td>\n",
       "      <td>-16.640254</td>\n",
       "    </tr>\n",
       "    <tr>\n",
       "      <th>Communication Services</th>\n",
       "      <td>5.17</td>\n",
       "      <td>4.260</td>\n",
       "      <td>-17.601547</td>\n",
       "    </tr>\n",
       "  </tbody>\n",
       "</table>\n",
       "</div>"
      ],
      "text/plain": [
       "                        EV/EBITDA_LTM  EV/EBITDA_FWD_2027  EV_EBITDA_Change\n",
       "Utilities                        6.51               6.675          2.534562\n",
       "Financials                       6.41               5.845         -8.814353\n",
       "Real Estate                      9.91               8.670        -12.512614\n",
       "Consumer Staples                 6.31               5.260        -16.640254\n",
       "Communication Services           5.17               4.260        -17.601547"
      ]
     },
     "metadata": {},
     "output_type": "display_data"
    },
    {
     "data": {
      "application/vnd.plotly.v1+json": {
       "config": {
        "plotlyServerURL": "https://plot.ly"
       },
       "data": [
        {
         "marker": {
          "color": "#7b68ee"
         },
         "name": "EBITDA Margin",
         "text": [
          "25.3%",
          "35.3%",
          "17.4%",
          "25.8%",
          "11.1%",
          "12.5%",
          "8.7%",
          "17.0%",
          "23.9%",
          "8.6%",
          "34.8%"
         ],
         "textposition": "outside",
         "type": "bar",
         "width": 0.25,
         "x": [
          -0.25,
          0.75,
          1.75,
          2.75,
          3.75,
          4.75,
          5.75,
          6.75,
          7.75,
          8.75,
          9.75
         ],
         "y": {
          "bdata": "4XoUrkdBOUDhehSuR6FBQK5H4XoUbjFAUrgehevROUAfhetRuB4mQHsUrkfh+ihA7FG4HoVrIUA9CtejcP0wQEjhehSu5zdArkfhehQuIUAAAAAAAGBBQA==",
          "dtype": "f8"
         }
        },
        {
         "marker": {
          "color": "#65c99f"
         },
         "name": "LFCF Margin",
         "text": [
          "9.2%",
          "12.6%",
          "3.8%",
          "0.4%",
          "2.4%",
          "0.5%",
          "1.1%",
          "0.3%",
          "-1.6%",
          "0.5%",
          "-24.5%"
         ],
         "textposition": "outside",
         "type": "bar",
         "width": 0.25,
         "x": [
          0,
          1,
          2,
          3,
          4,
          5,
          6,
          7,
          8,
          9,
          10
         ],
         "y": {
          "bdata": "PQrXo3B9IkBI4XoUrkcpQLgehetRuA5AhetRuB6F2z8fhetRuB4DQFK4HoXrUeA/4XoUrkfh8D/Xo3A9CtfTPz0K16NwPfq/exSuR+F64D9I4XoUroc4wA==",
          "dtype": "f8"
         }
        },
        {
         "marker": {
          "color": "#01abdf"
         },
         "name": "UFCF Margin",
         "text": [
          "14.2%",
          "14.1%",
          "8.2%",
          "6.3%",
          "6.2%",
          "4.7%",
          "4.7%",
          "4.6%",
          "4.2%",
          "3.7%",
          "-8.5%"
         ],
         "textposition": "outside",
         "type": "bar",
         "width": 0.25,
         "x": [
          0.25,
          1.25,
          2.25,
          3.25,
          4.25,
          5.25,
          6.25,
          7.25,
          8.25,
          9.25,
          10.25
         ],
         "y": {
          "bdata": "j8L1KFxPLECamZmZmRksQHsUrkfheiBAH4XrUbgeGUDsUbgehesYQOxRuB6F6xJAUrgehevREkCF61G4HoUSQHE9Ctej8BBA7FG4HoXrDUAK16NwPQohwA==",
          "dtype": "f8"
         }
        }
       ],
       "layout": {
        "barmode": "group",
        "height": 600,
        "showlegend": true,
        "template": {
         "data": {
          "bar": [
           {
            "error_x": {
             "color": "#2a3f5f"
            },
            "error_y": {
             "color": "#2a3f5f"
            },
            "marker": {
             "line": {
              "color": "white",
              "width": 0.5
             },
             "pattern": {
              "fillmode": "overlay",
              "size": 10,
              "solidity": 0.2
             }
            },
            "type": "bar"
           }
          ],
          "barpolar": [
           {
            "marker": {
             "line": {
              "color": "white",
              "width": 0.5
             },
             "pattern": {
              "fillmode": "overlay",
              "size": 10,
              "solidity": 0.2
             }
            },
            "type": "barpolar"
           }
          ],
          "carpet": [
           {
            "aaxis": {
             "endlinecolor": "#2a3f5f",
             "gridcolor": "#C8D4E3",
             "linecolor": "#C8D4E3",
             "minorgridcolor": "#C8D4E3",
             "startlinecolor": "#2a3f5f"
            },
            "baxis": {
             "endlinecolor": "#2a3f5f",
             "gridcolor": "#C8D4E3",
             "linecolor": "#C8D4E3",
             "minorgridcolor": "#C8D4E3",
             "startlinecolor": "#2a3f5f"
            },
            "type": "carpet"
           }
          ],
          "choropleth": [
           {
            "colorbar": {
             "outlinewidth": 0,
             "ticks": ""
            },
            "type": "choropleth"
           }
          ],
          "contour": [
           {
            "colorbar": {
             "outlinewidth": 0,
             "ticks": ""
            },
            "colorscale": [
             [
              0,
              "#0d0887"
             ],
             [
              0.1111111111111111,
              "#46039f"
             ],
             [
              0.2222222222222222,
              "#7201a8"
             ],
             [
              0.3333333333333333,
              "#9c179e"
             ],
             [
              0.4444444444444444,
              "#bd3786"
             ],
             [
              0.5555555555555556,
              "#d8576b"
             ],
             [
              0.6666666666666666,
              "#ed7953"
             ],
             [
              0.7777777777777778,
              "#fb9f3a"
             ],
             [
              0.8888888888888888,
              "#fdca26"
             ],
             [
              1,
              "#f0f921"
             ]
            ],
            "type": "contour"
           }
          ],
          "contourcarpet": [
           {
            "colorbar": {
             "outlinewidth": 0,
             "ticks": ""
            },
            "type": "contourcarpet"
           }
          ],
          "heatmap": [
           {
            "colorbar": {
             "outlinewidth": 0,
             "ticks": ""
            },
            "colorscale": [
             [
              0,
              "#0d0887"
             ],
             [
              0.1111111111111111,
              "#46039f"
             ],
             [
              0.2222222222222222,
              "#7201a8"
             ],
             [
              0.3333333333333333,
              "#9c179e"
             ],
             [
              0.4444444444444444,
              "#bd3786"
             ],
             [
              0.5555555555555556,
              "#d8576b"
             ],
             [
              0.6666666666666666,
              "#ed7953"
             ],
             [
              0.7777777777777778,
              "#fb9f3a"
             ],
             [
              0.8888888888888888,
              "#fdca26"
             ],
             [
              1,
              "#f0f921"
             ]
            ],
            "type": "heatmap"
           }
          ],
          "histogram": [
           {
            "marker": {
             "pattern": {
              "fillmode": "overlay",
              "size": 10,
              "solidity": 0.2
             }
            },
            "type": "histogram"
           }
          ],
          "histogram2d": [
           {
            "colorbar": {
             "outlinewidth": 0,
             "ticks": ""
            },
            "colorscale": [
             [
              0,
              "#0d0887"
             ],
             [
              0.1111111111111111,
              "#46039f"
             ],
             [
              0.2222222222222222,
              "#7201a8"
             ],
             [
              0.3333333333333333,
              "#9c179e"
             ],
             [
              0.4444444444444444,
              "#bd3786"
             ],
             [
              0.5555555555555556,
              "#d8576b"
             ],
             [
              0.6666666666666666,
              "#ed7953"
             ],
             [
              0.7777777777777778,
              "#fb9f3a"
             ],
             [
              0.8888888888888888,
              "#fdca26"
             ],
             [
              1,
              "#f0f921"
             ]
            ],
            "type": "histogram2d"
           }
          ],
          "histogram2dcontour": [
           {
            "colorbar": {
             "outlinewidth": 0,
             "ticks": ""
            },
            "colorscale": [
             [
              0,
              "#0d0887"
             ],
             [
              0.1111111111111111,
              "#46039f"
             ],
             [
              0.2222222222222222,
              "#7201a8"
             ],
             [
              0.3333333333333333,
              "#9c179e"
             ],
             [
              0.4444444444444444,
              "#bd3786"
             ],
             [
              0.5555555555555556,
              "#d8576b"
             ],
             [
              0.6666666666666666,
              "#ed7953"
             ],
             [
              0.7777777777777778,
              "#fb9f3a"
             ],
             [
              0.8888888888888888,
              "#fdca26"
             ],
             [
              1,
              "#f0f921"
             ]
            ],
            "type": "histogram2dcontour"
           }
          ],
          "mesh3d": [
           {
            "colorbar": {
             "outlinewidth": 0,
             "ticks": ""
            },
            "type": "mesh3d"
           }
          ],
          "parcoords": [
           {
            "line": {
             "colorbar": {
              "outlinewidth": 0,
              "ticks": ""
             }
            },
            "type": "parcoords"
           }
          ],
          "pie": [
           {
            "automargin": true,
            "type": "pie"
           }
          ],
          "scatter": [
           {
            "fillpattern": {
             "fillmode": "overlay",
             "size": 10,
             "solidity": 0.2
            },
            "type": "scatter"
           }
          ],
          "scatter3d": [
           {
            "line": {
             "colorbar": {
              "outlinewidth": 0,
              "ticks": ""
             }
            },
            "marker": {
             "colorbar": {
              "outlinewidth": 0,
              "ticks": ""
             }
            },
            "type": "scatter3d"
           }
          ],
          "scattercarpet": [
           {
            "marker": {
             "colorbar": {
              "outlinewidth": 0,
              "ticks": ""
             }
            },
            "type": "scattercarpet"
           }
          ],
          "scattergeo": [
           {
            "marker": {
             "colorbar": {
              "outlinewidth": 0,
              "ticks": ""
             }
            },
            "type": "scattergeo"
           }
          ],
          "scattergl": [
           {
            "marker": {
             "colorbar": {
              "outlinewidth": 0,
              "ticks": ""
             }
            },
            "type": "scattergl"
           }
          ],
          "scattermap": [
           {
            "marker": {
             "colorbar": {
              "outlinewidth": 0,
              "ticks": ""
             }
            },
            "type": "scattermap"
           }
          ],
          "scattermapbox": [
           {
            "marker": {
             "colorbar": {
              "outlinewidth": 0,
              "ticks": ""
             }
            },
            "type": "scattermapbox"
           }
          ],
          "scatterpolar": [
           {
            "marker": {
             "colorbar": {
              "outlinewidth": 0,
              "ticks": ""
             }
            },
            "type": "scatterpolar"
           }
          ],
          "scatterpolargl": [
           {
            "marker": {
             "colorbar": {
              "outlinewidth": 0,
              "ticks": ""
             }
            },
            "type": "scatterpolargl"
           }
          ],
          "scatterternary": [
           {
            "marker": {
             "colorbar": {
              "outlinewidth": 0,
              "ticks": ""
             }
            },
            "type": "scatterternary"
           }
          ],
          "surface": [
           {
            "colorbar": {
             "outlinewidth": 0,
             "ticks": ""
            },
            "colorscale": [
             [
              0,
              "#0d0887"
             ],
             [
              0.1111111111111111,
              "#46039f"
             ],
             [
              0.2222222222222222,
              "#7201a8"
             ],
             [
              0.3333333333333333,
              "#9c179e"
             ],
             [
              0.4444444444444444,
              "#bd3786"
             ],
             [
              0.5555555555555556,
              "#d8576b"
             ],
             [
              0.6666666666666666,
              "#ed7953"
             ],
             [
              0.7777777777777778,
              "#fb9f3a"
             ],
             [
              0.8888888888888888,
              "#fdca26"
             ],
             [
              1,
              "#f0f921"
             ]
            ],
            "type": "surface"
           }
          ],
          "table": [
           {
            "cells": {
             "fill": {
              "color": "#EBF0F8"
             },
             "line": {
              "color": "white"
             }
            },
            "header": {
             "fill": {
              "color": "#C8D4E3"
             },
             "line": {
              "color": "white"
             }
            },
            "type": "table"
           }
          ]
         },
         "layout": {
          "annotationdefaults": {
           "arrowcolor": "#2a3f5f",
           "arrowhead": 0,
           "arrowwidth": 1
          },
          "autotypenumbers": "strict",
          "coloraxis": {
           "colorbar": {
            "outlinewidth": 0,
            "ticks": ""
           }
          },
          "colorscale": {
           "diverging": [
            [
             0,
             "#8e0152"
            ],
            [
             0.1,
             "#c51b7d"
            ],
            [
             0.2,
             "#de77ae"
            ],
            [
             0.3,
             "#f1b6da"
            ],
            [
             0.4,
             "#fde0ef"
            ],
            [
             0.5,
             "#f7f7f7"
            ],
            [
             0.6,
             "#e6f5d0"
            ],
            [
             0.7,
             "#b8e186"
            ],
            [
             0.8,
             "#7fbc41"
            ],
            [
             0.9,
             "#4d9221"
            ],
            [
             1,
             "#276419"
            ]
           ],
           "sequential": [
            [
             0,
             "#0d0887"
            ],
            [
             0.1111111111111111,
             "#46039f"
            ],
            [
             0.2222222222222222,
             "#7201a8"
            ],
            [
             0.3333333333333333,
             "#9c179e"
            ],
            [
             0.4444444444444444,
             "#bd3786"
            ],
            [
             0.5555555555555556,
             "#d8576b"
            ],
            [
             0.6666666666666666,
             "#ed7953"
            ],
            [
             0.7777777777777778,
             "#fb9f3a"
            ],
            [
             0.8888888888888888,
             "#fdca26"
            ],
            [
             1,
             "#f0f921"
            ]
           ],
           "sequentialminus": [
            [
             0,
             "#0d0887"
            ],
            [
             0.1111111111111111,
             "#46039f"
            ],
            [
             0.2222222222222222,
             "#7201a8"
            ],
            [
             0.3333333333333333,
             "#9c179e"
            ],
            [
             0.4444444444444444,
             "#bd3786"
            ],
            [
             0.5555555555555556,
             "#d8576b"
            ],
            [
             0.6666666666666666,
             "#ed7953"
            ],
            [
             0.7777777777777778,
             "#fb9f3a"
            ],
            [
             0.8888888888888888,
             "#fdca26"
            ],
            [
             1,
             "#f0f921"
            ]
           ]
          },
          "colorway": [
           "#636efa",
           "#EF553B",
           "#00cc96",
           "#ab63fa",
           "#FFA15A",
           "#19d3f3",
           "#FF6692",
           "#B6E880",
           "#FF97FF",
           "#FECB52"
          ],
          "font": {
           "color": "#2a3f5f"
          },
          "geo": {
           "bgcolor": "white",
           "lakecolor": "white",
           "landcolor": "white",
           "showlakes": true,
           "showland": true,
           "subunitcolor": "#C8D4E3"
          },
          "hoverlabel": {
           "align": "left"
          },
          "hovermode": "closest",
          "mapbox": {
           "style": "light"
          },
          "paper_bgcolor": "white",
          "plot_bgcolor": "white",
          "polar": {
           "angularaxis": {
            "gridcolor": "#EBF0F8",
            "linecolor": "#EBF0F8",
            "ticks": ""
           },
           "bgcolor": "white",
           "radialaxis": {
            "gridcolor": "#EBF0F8",
            "linecolor": "#EBF0F8",
            "ticks": ""
           }
          },
          "scene": {
           "xaxis": {
            "backgroundcolor": "white",
            "gridcolor": "#DFE8F3",
            "gridwidth": 2,
            "linecolor": "#EBF0F8",
            "showbackground": true,
            "ticks": "",
            "zerolinecolor": "#EBF0F8"
           },
           "yaxis": {
            "backgroundcolor": "white",
            "gridcolor": "#DFE8F3",
            "gridwidth": 2,
            "linecolor": "#EBF0F8",
            "showbackground": true,
            "ticks": "",
            "zerolinecolor": "#EBF0F8"
           },
           "zaxis": {
            "backgroundcolor": "white",
            "gridcolor": "#DFE8F3",
            "gridwidth": 2,
            "linecolor": "#EBF0F8",
            "showbackground": true,
            "ticks": "",
            "zerolinecolor": "#EBF0F8"
           }
          },
          "shapedefaults": {
           "line": {
            "color": "#2a3f5f"
           }
          },
          "ternary": {
           "aaxis": {
            "gridcolor": "#DFE8F3",
            "linecolor": "#A2B1C6",
            "ticks": ""
           },
           "baxis": {
            "gridcolor": "#DFE8F3",
            "linecolor": "#A2B1C6",
            "ticks": ""
           },
           "bgcolor": "white",
           "caxis": {
            "gridcolor": "#DFE8F3",
            "linecolor": "#A2B1C6",
            "ticks": ""
           }
          },
          "title": {
           "x": 0.05
          },
          "xaxis": {
           "automargin": true,
           "gridcolor": "#EBF0F8",
           "linecolor": "#EBF0F8",
           "ticks": "",
           "title": {
            "standoff": 15
           },
           "zerolinecolor": "#EBF0F8",
           "zerolinewidth": 2
          },
          "yaxis": {
           "automargin": true,
           "gridcolor": "#EBF0F8",
           "linecolor": "#EBF0F8",
           "ticks": "",
           "title": {
            "standoff": 15
           },
           "zerolinecolor": "#EBF0F8",
           "zerolinewidth": 2
          }
         }
        },
        "title": {
         "font": {
          "size": 16
         },
         "text": "Cash Conversion por Setor: EBITDA vs LFCF vs UFCF (Top 12)"
        },
        "xaxis": {
         "tickangle": -45,
         "ticktext": [
          "Financials",
          "Real Estate",
          "Health Care",
          "Utilities",
          "Consumer Discretionary",
          "Materials",
          "Consumer Staples",
          "Industrials",
          "Communication Services",
          "Information Technology",
          "Energy"
         ],
         "tickvals": [
          0,
          1,
          2,
          3,
          4,
          5,
          6,
          7,
          8,
          9,
          10
         ]
        },
        "yaxis": {
         "title": {
          "text": "Margin (%)"
         }
        }
       }
      }
     },
     "metadata": {},
     "output_type": "display_data"
    }
   ],
   "source": [
    "#análise de multiplos por setor\n",
    "multiplos_ltm = ['EV/REVENUE_LTM', 'EV/EBITDA_LTM', 'EV/EBIT_LTM', 'EV/UFCF_LTM', 'PE_LTM', 'PBV_LTM']\n",
    "multiplos_fwd = ['EV/REVENUE_FWD_2025', 'EV/EBITDA_FWD_2025', 'EV/EBIT_FWD_2025', 'PE_FWD_2025',\n",
    "                 'EV/REVENUE_FWD_2026', 'EV/EBITDA_FWD_2026', 'EV/EBIT_FWD_2026', 'PE_FWD_2026',\n",
    "                 'EV/REVENUE_FWD_2027', 'EV/EBITDA_FWD_2027', 'EV/EBIT_FWD_2027', 'PE_FWD_2027']\n",
    "\n",
    "df_multiples = dataset.copy()\n",
    "\n",
    "setor_stats = {}\n",
    "for setor in df_multiples['SECTOR'].dropna().unique():\n",
    "    setor_data = df_multiples[df_multiples['SECTOR'] == setor]\n",
    "    setor_stats[setor] = {}\n",
    "    for mult in multiplos_ltm + multiplos_fwd:\n",
    "        if mult in df_multiples.columns:\n",
    "            setor_stats[setor][mult] = setor_data[mult].median()\n",
    "\n",
    "df_setor_multiples = pd.DataFrame(setor_stats).T\n",
    "df_setor_multiples = df_setor_multiples.sort_values('EV/EBITDA_LTM', ascending=False)\n",
    "\n",
    "print(f\"Total de setores: {len(df_setor_multiples)}\")\n",
    "\n",
    "\n",
    "#gráfico 1: distribuição dos multiplos ltm por setor --------------------------------------------------------------------------------------------------------------------------------------\n",
    "\n",
    "fig_ltm = make_subplots(\n",
    "    rows=2, cols=3,\n",
    "    subplot_titles=('EV/Revenue', 'EV/EBITDA', 'EV/EBIT', 'EV/UFCF', 'P/E', 'P/BV', 'Comparativo'),\n",
    "    vertical_spacing=0.22, \n",
    "    horizontal_spacing=0.1\n",
    ")\n",
    "\n",
    "sector_thresholds = df_multiples['SECTOR'].value_counts().head(15).index\n",
    "df_top = df_setor_multiples.loc[sector_thresholds]\n",
    "\n",
    "# 1. EV/Revenue\n",
    "fig_ltm.add_trace(\n",
    "    go.Bar(\n",
    "        x=df_top.index, \n",
    "        y=df_top['EV/REVENUE_LTM'],\n",
    "        text=[f\"{val:.1f}x\" for val in df_top['EV/REVENUE_LTM']],\n",
    "        textposition='outside',\n",
    "        name='EV/Revenue', \n",
    "        marker_color='#7b68ee'\n",
    "    ),\n",
    "    row=1, col=1\n",
    ")\n",
    "\n",
    "# 2. EV/EBITDA\n",
    "fig_ltm.add_trace(\n",
    "    go.Bar(\n",
    "        x=df_top.index, \n",
    "        y=df_top['EV/EBITDA_LTM'],\n",
    "        text=[f\"{val:.1f}x\" for val in df_top['EV/EBITDA_LTM']],\n",
    "        textposition='outside',\n",
    "        name='EV/EBITDA', \n",
    "        marker_color=\"#505050\"\n",
    "    ),\n",
    "    row=1, col=2\n",
    ")\n",
    "\n",
    "# 3. EV/EBIT\n",
    "fig_ltm.add_trace(\n",
    "    go.Bar(\n",
    "        x=df_top.index, \n",
    "        y=df_top['EV/EBIT_LTM'],\n",
    "        text=[f\"{val:.1f}x\" for val in df_top['EV/EBIT_LTM']],\n",
    "        textposition='outside',\n",
    "        name='EV/EBIT', \n",
    "        marker_color='#8a2be2'\n",
    "    ),\n",
    "    row=1, col=3\n",
    ")\n",
    "\n",
    "# 4 EV/UFCF\n",
    "fig_ltm.add_trace(\n",
    "    go.Bar(\n",
    "        x=df_top.index, \n",
    "        y=df_top['EV/UFCF_LTM'],\n",
    "        text=[f\"{val:.1f}x\" for val in df_top['EV/UFCF_LTM']],\n",
    "        textposition='outside',\n",
    "        name='EV/UFCF', \n",
    "        marker_color='#7b68ee'\n",
    "    ),\n",
    "    row=2, col=1\n",
    ")\n",
    "\n",
    "# 4. P/E\n",
    "fig_ltm.add_trace(\n",
    "    go.Bar(\n",
    "        x=df_top.index, \n",
    "        y=df_top['PE_LTM'],\n",
    "        text=[f\"{val:.1f}x\" for val in df_top['PE_LTM']],\n",
    "        textposition='outside',\n",
    "        name='P/E', \n",
    "        marker_color='#6a5acd'\n",
    "    ),\n",
    "    row=2, col=2\n",
    ")\n",
    "\n",
    "# 5. P/BV\n",
    "fig_ltm.add_trace(\n",
    "    go.Bar(\n",
    "        x=df_top.index, \n",
    "        y=df_top['PBV_LTM'],\n",
    "        text=[f\"{val:.1f}x\" for val in df_top['PBV_LTM']],\n",
    "        textposition='outside',\n",
    "        name='P/BV', \n",
    "        marker_color='#9932cc'\n",
    "    ),\n",
    "    row=2, col=3\n",
    ")\n",
    "\n",
    "fig_ltm.update_xaxes(tickangle=-45, tickfont=dict(size=9))\n",
    "fig_ltm.update_layout(\n",
    "    height=900, \n",
    "    showlegend=False,\n",
    "    title_text=\"Múltiplos Medianos LTM por Setor\",\n",
    "    title_x=0.5,\n",
    "    title_font_size=16\n",
    ")\n",
    "\n",
    "fig_ltm.show()\n",
    "\n",
    "#gráfico 2: evolução dos multiplos forward por setor --------------------------------------------------------------------------------------------------------------------------------------------\n",
    "print(\"\\n=== Gráfico 2: Evolução dos Múltiplos Forward (2025-2027) ===\")\n",
    "\n",
    "fig_fwd = make_subplots(\n",
    "    rows=2, cols=2,\n",
    "    subplot_titles=('EV/Revenue Forward', 'EV/EBITDA Forward', \n",
    "                    'EV/EBIT Forward', 'P/E Forward'),\n",
    "    vertical_spacing=0.20,  # Aumentado\n",
    "    horizontal_spacing=0.12\n",
    ")\n",
    "\n",
    "top_10_sectors = df_multiples['SECTOR'].value_counts().head(10).index\n",
    "df_top10 = df_setor_multiples.loc[top_10_sectors]\n",
    "\n",
    "anos = ['2025', '2026', '2027']\n",
    "cores = [\"#5b1ba3\", \"#575757\", \"#31c4b0\"]\n",
    "\n",
    "# 1. EV/Revenue forward\n",
    "for i, ano in enumerate(anos):\n",
    "    col_name = f'EV/REVENUE_FWD_{ano}'\n",
    "    if col_name in df_top10.columns:\n",
    "        fig_fwd.add_trace(\n",
    "            go.Bar(\n",
    "                x=df_top10.index, \n",
    "                y=df_top10[col_name],\n",
    "                text=[f\"{val:.1f}x\" for val in df_top10[col_name]],\n",
    "                textposition='outside',\n",
    "                textfont=dict(size=8),\n",
    "                name=ano, \n",
    "                marker_color=cores[i]\n",
    "            ),\n",
    "            row=1, col=1\n",
    "        )\n",
    "\n",
    "# 2. EV/EBITDA forward\n",
    "for i, ano in enumerate(anos):\n",
    "    col_name = f'EV/EBITDA_FWD_{ano}'\n",
    "    if col_name in df_top10.columns:\n",
    "        fig_fwd.add_trace(\n",
    "            go.Bar(\n",
    "                x=df_top10.index, \n",
    "                y=df_top10[col_name],\n",
    "                text=[f\"{val:.1f}x\" for val in df_top10[col_name]],\n",
    "                textposition='outside',\n",
    "                textfont=dict(size=8),\n",
    "                name=ano, \n",
    "                marker_color=cores[i], \n",
    "                showlegend=False\n",
    "            ),\n",
    "            row=1, col=2\n",
    "        )\n",
    "\n",
    "# 3. EV/EBIT forward\n",
    "for i, ano in enumerate(anos):\n",
    "    col_name = f'EV/EBIT_FWD_{ano}'\n",
    "    if col_name in df_top10.columns:\n",
    "        fig_fwd.add_trace(\n",
    "            go.Bar(\n",
    "                x=df_top10.index, \n",
    "                y=df_top10[col_name],\n",
    "                text=[f\"{val:.1f}x\" for val in df_top10[col_name]],\n",
    "                textposition='outside',\n",
    "                textfont=dict(size=8),\n",
    "                name=ano, \n",
    "                marker_color=cores[i], \n",
    "                showlegend=False\n",
    "            ),\n",
    "            row=2, col=1\n",
    "        )\n",
    "\n",
    "# 4. P/E forward\n",
    "for i, ano in enumerate(anos):\n",
    "    col_name = f'PE_FWD_{ano}'\n",
    "    if col_name in df_top10.columns:\n",
    "        fig_fwd.add_trace(\n",
    "            go.Bar(\n",
    "                x=df_top10.index, \n",
    "                y=df_top10[col_name],\n",
    "                text=[f\"{val:.1f}x\" for val in df_top10[col_name]],\n",
    "                textposition='outside',\n",
    "                textfont=dict(size=8),\n",
    "                name=ano, \n",
    "                marker_color=cores[i], \n",
    "                showlegend=False\n",
    "            ),\n",
    "            row=2, col=2\n",
    "        )\n",
    "\n",
    "fig_fwd.update_xaxes(tickangle=-45, tickfont=dict(size=9))\n",
    "fig_fwd.update_layout(\n",
    "    height=900,  # Aumentado\n",
    "    barmode='group',\n",
    "    title_text=\"Evolução dos Múltiplos Forward (2025-2027)\",\n",
    "    title_x=0.5,\n",
    "    title_font_size=16,\n",
    "    legend=dict(\n",
    "        orientation=\"h\",\n",
    "        yanchor=\"bottom\",\n",
    "        y=1.02,\n",
    "        xanchor=\"right\",\n",
    "        x=1\n",
    "    )\n",
    ")\n",
    "\n",
    "fig_fwd.show()\n",
    "\n",
    "\n",
    "#gráfico 3: comparação ltm vs forward 2027\n",
    "fig_compare = make_subplots(\n",
    "    rows=1, cols=2,\n",
    "    subplot_titles=('EV/EBITDA: LTM vs 2027', 'P/E: LTM vs 2027'),\n",
    "    horizontal_spacing=0.15\n",
    ")\n",
    "\n",
    "df_scatter = df_setor_multiples.copy()\n",
    "df_scatter['Setor'] = df_scatter.index\n",
    "\n",
    "# EV/EBITDA comparison\n",
    "fig_compare.add_trace(\n",
    "    go.Scatter(\n",
    "        x=df_scatter['EV/EBITDA_LTM'],\n",
    "        y=df_scatter['EV/EBITDA_FWD_2027'],\n",
    "        mode='markers+text',\n",
    "        text=df_scatter['Setor'],\n",
    "        textposition='top center',\n",
    "        textfont=dict(size=10),\n",
    "        marker=dict(size=10, color=\"#711c99\", opacity=0.6),\n",
    "        name='Setores'\n",
    "    ),\n",
    "    row=1, col=1\n",
    ")\n",
    "\n",
    "#linha de referência\n",
    "max_ev = max(df_scatter['EV/EBITDA_LTM'].max(), df_scatter['EV/EBITDA_FWD_2027'].max())\n",
    "fig_compare.add_trace(\n",
    "    go.Scatter(x=[0, max_ev], y=[0, max_ev], \n",
    "               mode='lines', line=dict(dash='dash', color='gray'),\n",
    "               showlegend=False),\n",
    "    row=1, col=1\n",
    ")\n",
    "\n",
    "# P/E comparação\n",
    "fig_compare.add_trace(\n",
    "    go.Scatter(\n",
    "        x=df_scatter['PE_LTM'],\n",
    "        y=df_scatter['PE_FWD_2027'],\n",
    "        mode='markers+text',\n",
    "        text=df_scatter['Setor'],\n",
    "        textposition='top center',\n",
    "        textfont=dict(size=10),\n",
    "        marker=dict(size=10, color=\"#0effcb\", opacity=0.6),\n",
    "        showlegend=False\n",
    "    ),\n",
    "    row=1, col=2\n",
    ")\n",
    "\n",
    "max_pe = max(df_scatter['PE_LTM'].max(), df_scatter['PE_FWD_2027'].max())\n",
    "fig_compare.add_trace(\n",
    "    go.Scatter(x=[0, max_pe], y=[0, max_pe], \n",
    "               mode='lines', line=dict(dash='dash', color='gray'),\n",
    "               showlegend=False),\n",
    "    row=1, col=2\n",
    ")\n",
    "\n",
    "fig_compare.update_xaxes(title_text=\"Múltiplo LTM\", row=1, col=1)\n",
    "fig_compare.update_xaxes(title_text=\"Múltiplo LTM\", row=1, col=2)\n",
    "fig_compare.update_yaxes(title_text=\"Múltiplo FWD 2027\", row=1, col=1)\n",
    "fig_compare.update_yaxes(title_text=\"Múltiplo FWD 2027\", row=1, col=2)\n",
    "\n",
    "fig_compare.update_layout(\n",
    "    height=600,\n",
    "    title_text=\"Comparação: Múltiplos LTM vs Forward 2027\",\n",
    "    title_x=0.5,\n",
    "    title_font_size=16\n",
    ")\n",
    "\n",
    "fig_compare.show()\n",
    "\n",
    "\n",
    "#heatmap dos multiplos ltm por setor\n",
    "df_heatmap = df_setor_multiples[multiplos_ltm].copy()\n",
    "df_heatmap = df_heatmap.loc[sector_thresholds]\n",
    "\n",
    "fig_heatmap = go.Figure(data=go.Heatmap(\n",
    "    z=df_heatmap.values,\n",
    "    x=df_heatmap.columns,\n",
    "    y=df_heatmap.index,\n",
    "    colorscale=[[0, '#1a5c1a'], [0.2, '#28a745'], [0.4, '#90ee90'], \n",
    "                [0.5, '#ffffe0'], [0.6, '#ffd700'], [0.8, '#ff8c00'], [1, '#8b0000']],\n",
    "    text=df_heatmap.round(1).values,\n",
    "    texttemplate='%{text}x',\n",
    "    textfont={\"size\": 10},\n",
    "    colorbar=dict(title=\"Múltiplo\", len=0.8)\n",
    "))\n",
    "\n",
    "fig_heatmap.update_layout(\n",
    "    title='Heatmap: Múltiplos LTM por Setor',\n",
    "    xaxis_title='Múltiplo',\n",
    "    yaxis_title='Setor',\n",
    "    height=700,\n",
    "    width=1000,\n",
    "    title_font_size=16\n",
    ")\n",
    "\n",
    "fig_heatmap.show()\n",
    "\n",
    "df_heatmap_fwd = df_setor_multiples[multiplos_fwd].copy()\n",
    "df_heatmap_fwd = df_heatmap_fwd.loc[sector_thresholds]\n",
    "fig_heatmap_fwd = go.Figure(data=go.Heatmap(\n",
    "    z=df_heatmap_fwd.values,\n",
    "    x=df_heatmap_fwd.columns,\n",
    "    y=df_heatmap_fwd.index,\n",
    "    colorscale=[[0, '#1a5c1a'], [0.2, '#28a745'], [0.4, '#90ee90'], \n",
    "                [0.5, '#ffffe0'], [0.6, '#ffd700'], [0.8, '#ff8c00'], [1, '#8b0000']],\n",
    "    text=df_heatmap_fwd.round(1).values,\n",
    "    texttemplate='%{text}x',\n",
    "    textfont={\"size\": 10},\n",
    "    colorbar=dict(title=\"Múltiplo\", len=0.8)\n",
    "))\n",
    "\n",
    "fig_heatmap_fwd.update_layout(\n",
    "    title='Heatmap: Múltiplos Forward por Setor',\n",
    "    xaxis_title='Múltiplo',\n",
    "    yaxis_title='Setor',\n",
    "    height=700,\n",
    "    width=1000,\n",
    "    title_font_size=16\n",
    ")\n",
    "\n",
    "fig_heatmap_fwd.show()\n",
    "\n",
    "#tebela resumo\n",
    "print(\"\\n=== Tabela Resumo: Medianas por Setor ===\")\n",
    "\n",
    "colunas_resumo = ['EV/EBITDA_LTM', 'EV/EBITDA_FWD_2025', 'EV/EBITDA_FWD_2026', 'EV/EBITDA_FWD_2027', \n",
    "                  'PE_LTM', 'PE_FWD_2025', 'PE_FWD_2026', 'PE_FWD_2027',\n",
    "                    'PBV_LTM']\n",
    "\n",
    "df_resumo = df_setor_multiples[colunas_resumo].round(2)\n",
    "df_resumo['Qtd_Empresas'] = df_multiples['SECTOR'].value_counts()\n",
    "df_resumo = df_resumo.sort_values('Qtd_Empresas', ascending=False)\n",
    "\n",
    "print(\"\\nSetores por Número de Empresas:\")\n",
    "display(df_resumo.head(15).style.background_gradient(\n",
    "    cmap='RdYlGn_r', \n",
    "    subset=colunas_resumo,\n",
    "    vmin=0,\n",
    "    vmax=25\n",
    ").format(\n",
    "    '{:.2f}x',\n",
    "    subset=colunas_resumo\n",
    "))\n",
    "\n",
    "\n",
    "#análise de variação dos múltiplos\n",
    "df_change = df_setor_multiples.copy()\n",
    "df_change['EV_EBITDA_Change'] = ((df_change['EV/EBITDA_FWD_2027'] - df_change['EV/EBITDA_LTM']) / df_change['EV/EBITDA_LTM'] * 100)\n",
    "df_change['PE_Change'] = ((df_change['PE_FWD_2027'] - df_change['PE_LTM']) / df_change['PE_LTM'] * 100)\n",
    "\n",
    "print(\"\\nSetores com maior variação negativa de múltiplos:\")\n",
    "compressao = df_change.nsmallest(5, 'EV_EBITDA_Change')[['EV/EBITDA_LTM', 'EV/EBITDA_FWD_2027', 'EV_EBITDA_Change']]\n",
    "display(compressao)\n",
    "\n",
    "print(\"\\nSetores com maior expansão de múltiplos:\")\n",
    "expansao = df_change.nlargest(5, 'EV_EBITDA_Change')[['EV/EBITDA_LTM', 'EV/EBITDA_FWD_2027', 'EV_EBITDA_Change']]\n",
    "display(expansao)\n",
    "\n",
    "#análise das métricas de cash flow\n",
    "df_fcf = dataset.copy()\n",
    "df_fcf = df_fcf.dropna(subset=['EBITDA_MARGIN_LTM', 'LFCF_MARGIN_LTM', 'UFCF_MARGIN_LTM'])\n",
    "\n",
    "sector_fcf = df_fcf.groupby('SECTOR').agg({\n",
    "    'EBITDA_MARGIN_LTM': 'median',\n",
    "    'LFCF_MARGIN_LTM': 'median',\n",
    "    'UFCF_MARGIN_LTM': 'median',\n",
    "    'ENTITY_NAME': 'count'\n",
    "}).round(3)\n",
    "\n",
    "sector_fcf = sector_fcf[sector_fcf['ENTITY_NAME'] >= 5]\n",
    "sector_fcf = sector_fcf.sort_values('UFCF_MARGIN_LTM', ascending=False).head(12)\n",
    "\n",
    "fig_fcf = go.Figure()\n",
    "\n",
    "x_positions = list(range(len(sector_fcf)))\n",
    "bar_width = 0.25\n",
    "\n",
    "fig_fcf.add_trace(go.Bar(\n",
    "    name='EBITDA Margin',\n",
    "    x=[i - bar_width for i in x_positions],\n",
    "    y=sector_fcf['EBITDA_MARGIN_LTM'],\n",
    "    marker_color='#7b68ee',\n",
    "    text=[f'{v:.1f}%' for v in sector_fcf['EBITDA_MARGIN_LTM']],\n",
    "    textposition='outside',\n",
    "    width=bar_width\n",
    "))\n",
    "\n",
    "fig_fcf.add_trace(go.Bar(\n",
    "    name='LFCF Margin',\n",
    "    x=x_positions,\n",
    "    y=sector_fcf['LFCF_MARGIN_LTM'],\n",
    "    marker_color='#65c99f',\n",
    "    text=[f'{v:.1f}%' for v in sector_fcf['LFCF_MARGIN_LTM']],\n",
    "    textposition='outside',\n",
    "    width=bar_width\n",
    "))\n",
    "\n",
    "fig_fcf.add_trace(go.Bar(\n",
    "    name='UFCF Margin',\n",
    "    x=[i + bar_width for i in x_positions],\n",
    "    y=sector_fcf['UFCF_MARGIN_LTM'],\n",
    "    marker_color='#01abdf',\n",
    "    text=[f'{v:.1f}%' for v in sector_fcf['UFCF_MARGIN_LTM']],\n",
    "    textposition='outside',\n",
    "    width=bar_width\n",
    "))\n",
    "\n",
    "fig_fcf.update_layout(\n",
    "    title='Cash Conversion por Setor: EBITDA vs LFCF vs UFCF (Top 12)',\n",
    "    xaxis=dict(\n",
    "        tickvals=x_positions,\n",
    "        ticktext=sector_fcf.index,\n",
    "        tickangle=-45\n",
    "    ),\n",
    "    yaxis_title='Margin (%)',\n",
    "    height=600,\n",
    "    barmode='group',\n",
    "    title_font_size=16,\n",
    "    showlegend=True\n",
    ")\n",
    "\n",
    "fig_fcf.show()"
   ]
  }
 ],
 "metadata": {
  "kernelspec": {
   "display_name": "Python 3",
   "language": "python",
   "name": "python3"
  },
  "language_info": {
   "codemirror_mode": {
    "name": "ipython",
    "version": 3
   },
   "file_extension": ".py",
   "mimetype": "text/x-python",
   "name": "python",
   "nbconvert_exporter": "python",
   "pygments_lexer": "ipython3",
   "version": "3.13.4"
  }
 },
 "nbformat": 4,
 "nbformat_minor": 5
}
